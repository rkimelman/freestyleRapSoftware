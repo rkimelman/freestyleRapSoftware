{
 "cells": [
  {
   "cell_type": "code",
   "execution_count": 1,
   "metadata": {},
   "outputs": [],
   "source": [
    "import pandas as pd\n",
    "import numpy as np\n",
    "import random\n",
    "import pyttsx3\n",
    "import ipywidgets as widgets\n",
    "import csv\n",
    "import numpy as np\n",
    "import math as math\n",
    "import statistics\n",
    "from random import randrange\n",
    "import re"
   ]
  },
  {
   "cell_type": "code",
   "execution_count": 2,
   "metadata": {},
   "outputs": [
    {
     "data": {
      "text/plain": [
       "6"
      ]
     },
     "execution_count": 2,
     "metadata": {},
     "output_type": "execute_result"
    }
   ],
   "source": [
    "randrange(10)"
   ]
  },
  {
   "cell_type": "code",
   "execution_count": 3,
   "metadata": {},
   "outputs": [],
   "source": [
    "def collapsedgibbs3NormV(n, rho, x, y, z):\n",
    "    mat = mat=np.zeros((n,3))\n",
    "    mat[0, ] = np.array([x,y,z])\n",
    "    for i in range(1,n):\n",
    "        x = randrange(10)*10\n",
    "        y = int(10*np.random.normal(rho * x, math.sqrt(rho+rho**3), 1))/10\n",
    "        z = (0.1*x + 0.1*y)/10\n",
    "        mat[i, ] = [x,y,z]\n",
    "    return(mat)"
   ]
  },
  {
   "cell_type": "code",
   "execution_count": 4,
   "metadata": {},
   "outputs": [],
   "source": [
    "def collapsedgibbs3NormV(n, rho, x, y, z):\n",
    "    mat = mat=np.zeros((n,3))\n",
    "    mat[0, ] = np.array([x,y,z])\n",
    "    for i in range(1,n):\n",
    "        x = np.random.normal(rho * y, math.sqrt(rho+rho**3), 1)\n",
    "        y = np.random.normal(rho * x, math.sqrt(rho+rho**3), 1)\n",
    "        z = np.random.normal(rho * x + rho * y, math.sqrt(rho+rho**3), 1)/100\n",
    "        mat[i, ] = [x,y,z]\n",
    "    return(mat)"
   ]
  },
  {
   "cell_type": "code",
   "execution_count": 5,
   "metadata": {},
   "outputs": [],
   "source": [
    "save = pd.DataFrame(collapsedgibbs3NormV(100,0.99,50,45,1))"
   ]
  },
  {
   "cell_type": "code",
   "execution_count": 6,
   "metadata": {},
   "outputs": [
    {
     "data": {
      "text/plain": [
       "0     1.000000\n",
       "1     0.810071\n",
       "2     0.823120\n",
       "3     0.719751\n",
       "4     0.701504\n",
       "        ...   \n",
       "95   -0.143369\n",
       "96   -0.105041\n",
       "97   -0.139115\n",
       "98   -0.181118\n",
       "99   -0.161491\n",
       "Name: 2, Length: 100, dtype: float64"
      ]
     },
     "execution_count": 6,
     "metadata": {},
     "output_type": "execute_result"
    }
   ],
   "source": [
    "save[2]"
   ]
  },
  {
   "cell_type": "code",
   "execution_count": 7,
   "metadata": {},
   "outputs": [
    {
     "data": {
      "image/png": "[encoded data removed]",
      "text/plain": [
       "<Figure size 720x504 with 1 Axes>"
      ]
     },
     "metadata": {
      "needs_background": "light"
     },
     "output_type": "display_data"
    }
   ],
   "source": [
    "from matplotlib import pyplot as plt\n",
    "fig, ax = plt.subplots(figsize =(10, 7))\n",
    "plt.xlabel(\"y\")\n",
    "plt.ylabel(\"z\")\n",
    "plt.plot(save[1],save[2])\n",
    "plt.savefig('yz.png')"
   ]
  },
  {
   "cell_type": "code",
   "execution_count": 8,
   "metadata": {},
   "outputs": [],
   "source": [
    "save = open(\"lyricsdata.csv\")"
   ]
  },
  {
   "cell_type": "code",
   "execution_count": 9,
   "metadata": {},
   "outputs": [],
   "source": [
    "csvreader = csv.reader(save)"
   ]
  },
  {
   "cell_type": "code",
   "execution_count": 10,
   "metadata": {},
   "outputs": [],
   "source": [
    "header = []\n",
    "header = next(csvreader)"
   ]
  },
  {
   "cell_type": "code",
   "execution_count": 11,
   "metadata": {},
   "outputs": [],
   "source": [
    "df = pd.DataFrame(index=np.arange(8031), columns=np.arange(1))"
   ]
  },
  {
   "cell_type": "code",
   "execution_count": 12,
   "metadata": {},
   "outputs": [],
   "source": [
    "rows = []\n",
    "for row in csvreader:\n",
    "        rows.append(row)"
   ]
  },
  {
   "cell_type": "code",
   "execution_count": 13,
   "metadata": {},
   "outputs": [],
   "source": [
    "engine = pyttsx3.init()"
   ]
  },
  {
   "cell_type": "code",
   "execution_count": 14,
   "metadata": {},
   "outputs": [],
   "source": [
    "rate = engine.getProperty(\"rate\")"
   ]
  },
  {
   "cell_type": "code",
   "execution_count": 15,
   "metadata": {},
   "outputs": [],
   "source": [
    "voices = engine.getProperty(\"voices\")\n",
    "# bpm and subdivide bpm. in each line the bpm can differ across time."
   ]
  },
  {
   "cell_type": "code",
   "execution_count": 16,
   "metadata": {},
   "outputs": [],
   "source": [
    "engine.setProperty(\"voice\", voices[7].id)"
   ]
  },
  {
   "cell_type": "code",
   "execution_count": 17,
   "metadata": {},
   "outputs": [],
   "source": [
    "#engine = pyttsx3.init()\n",
    "#engine.say('The quick brown fox jumped over the lazy dog.', 'fox')\n",
    "#engine.runAndWait();\n",
    "#engine.startLoop(False)\n",
    "# engine.iterate() must be called inside externalLoop()\n",
    "#def externalLoop():\n",
    "#    for i in range(1, 3):\n",
    "#            engine = pyttsx3.init()\n",
    "#            rows[i][0] = rows[i][0][1:]\n",
    "#            str1 = ''.join(rows[i])  \n",
    "#externalLoop()\n",
    "#engine.endLoop()"
   ]
  },
  {
   "cell_type": "code",
   "execution_count": 18,
   "metadata": {},
   "outputs": [],
   "source": [
    "def text_to_speech(numberOfLines = 1, startingPoint = 1, rho = 0.99, x = 50, y = 45, z = 0):\n",
    "    # collapsed gibbs sampler version\n",
    "    engine = pyttsx3.init()\n",
    "    engine.setProperty(\"volume\", z)\n",
    "    engine.setProperty(\"voice\", voices[y].id)\n",
    "    engine.setProperty(\"rate\", x)\n",
    "    if(z !=0):\n",
    "        sample = collapsedgibbs3NormV(numberOfLines, rho, x, y, z)\n",
    "        print(sample)\n",
    "        for i in range(startingPoint, startingPoint + len(sample)):\n",
    "            engine = pyttsx3.init()\n",
    "            rows[i][0] = rows[i][0][1:]\n",
    "            str1 = ''.join(rows[i])\n",
    "            if(abs(sample[i-startingPoint,0]) >= 20 and abs(sample[i-startingPoint,0]) <= 1000 and abs(sample[i-startingPoint,0]) != 0):\n",
    "                engine.setProperty(\"rate\", abs(sample[i-startingPoint,0]))\n",
    "            else:\n",
    "                engine.setProperty(\"rate\", 50)\n",
    "            engine.setProperty(\"voice\", voices[7].id)\n",
    "            if(abs(sample[i-startingPoint,2]) <= 1):\n",
    "                engine.setProperty(\"volume\", sample[i-startingPoint,2])\n",
    "\n",
    "            else:\n",
    "                engine.setProperty(\"volume\", 0.5)\n",
    "            print(rows[i])\n",
    "            engine.say(str1)\n",
    "            engine.save_to_file(str1, 'rapsample.mp3')\n",
    "            engine.runAndWait(); \n",
    "            engine.stop()"
   ]
  },
  {
   "cell_type": "code",
   "execution_count": 19,
   "metadata": {},
   "outputs": [],
   "source": [
    "def text_to_speech(numberOfLines = 1, startingPoint = 1, rho = 0.99, x = 50, y = 45, z = 0):\n",
    "    # 1/4 version\n",
    "    engine = pyttsx3.init()\n",
    "    engine.setProperty(\"volume\", z)\n",
    "    engine.setProperty(\"voice\", voices[7].id)\n",
    "    engine.setProperty(\"rate\", x)\n",
    "    if(z !=0):\n",
    "        sample = collapsedgibbs3NormV(numberOfLines, rho, x, y, z)\n",
    "        print(sample)\n",
    "        for i in range(startingPoint, startingPoint + len(sample)):\n",
    "            engine = pyttsx3.init()\n",
    "            rows[i][0] = rows[i][0][1:]\n",
    "            str1 = ''.join(rows[i])\n",
    "            length = len(str1)\n",
    "            str1 = str1.replace(\"(\", \"\")\n",
    "            str1 = str1.replace(\"(\", \"\")\n",
    "            str1 = re.split('\\s+', str1)\n",
    "            engine.setProperty(\"rate\", randrange(150,200))\n",
    "            rate = engine.getProperty(\"rate\")\n",
    "            if(engine.getProperty(\"rate\") > 175):\n",
    "                str2 = str(str1[0:len(str1)])\n",
    "                str2 = str2.replace(\",\", \"\")\n",
    "                engine.say(str2)\n",
    "                engine.runAndWait();\n",
    "                engine.stop()\n",
    "            else:\n",
    "                engine.setProperty(\"voice\", voices[7].id)\n",
    "                str3 = str(str1[0:int(len(str1)/4)])\n",
    "                str3 = str3.replace(\",\",\"\")\n",
    "                engine.say(str3)\n",
    "                engine.setProperty(\"rate\", rate/4)\n",
    "                str4 = str(str1[(int(len(str1)/4)):int(len(str1)/2)])\n",
    "                str4 = str4.replace(\",\", \"\")\n",
    "                engine.say(str4)\n",
    "                engine.setProperty(\"rate\", (5/4)*rate)\n",
    "                str5 = str(str1[(int(len(str1)/2)):int(3*len(str1)/4)])\n",
    "                str5 = str5.replace(\",\",\"\")\n",
    "                engine.say(str5)\n",
    "                engine.setProperty(\"rate\", (7/4)*rate)\n",
    "                str6 = str(str1[(int(3*len(str1)/4)):len(str1)])\n",
    "                str6 = str6.replace(\",\",\"\")\n",
    "                engine.say(str6)\n",
    "                engine.runAndWait(); \n",
    "                engine.stop() \n",
    "            print(str1)"
   ]
  },
  {
   "cell_type": "code",
   "execution_count": 20,
   "metadata": {},
   "outputs": [],
   "source": [
    "def text_to_speech(numberOfLines = 1, startingPoint = 1, rho = 0.99, x = 50, y = 45, z = 0):\n",
    "    # 1/3 version\n",
    "    engine = pyttsx3.init()\n",
    "    engine.setProperty(\"volume\", z)\n",
    "    engine.setProperty(\"voice\", voices[7].id)\n",
    "    engine.setProperty(\"rate\", x)\n",
    "    if(z !=0):\n",
    "        sample = collapsedgibbs3NormV(numberOfLines, rho, x, y, z)\n",
    "        print(sample)\n",
    "        for i in range(startingPoint, startingPoint + len(sample)):\n",
    "            engine = pyttsx3.init()\n",
    "            rows[i][0] = rows[i][0][1:]\n",
    "            str1 = ''.join(rows[i])\n",
    "            str1 = str1.replace(\"(\", \"\")\n",
    "            str1 = re.split('\\s+', str1)\n",
    "            engine.setProperty(\"rate\", randrange(150,250))\n",
    "            if(engine.getProperty(\"rate\") > 200):\n",
    "                str2 = str(str1[0:len(str1)])\n",
    "                str2 = str2.replace(\",\",\"\")\n",
    "                engine.say(str2)\n",
    "                engine.runAndWait();\n",
    "                engine.stop()\n",
    "            else:\n",
    "                rate = engine.getProperty(\"rate\")\n",
    "                str2 = str(str1[0:int(len(str1)/3)])\n",
    "                str2 = str2.replace(\",\", \"\")\n",
    "                engine.say(str2)\n",
    "                engine.setProperty(\"rate\", rate/randrange(2,4)+10)\n",
    "                engine.setProperty(\"volume\", z-0.09)\n",
    "                str3 = str(str1[(int(len(str1)/3)):int(2*len(str1)/3)])\n",
    "                str3 = str3.replace(\",\", \"\")\n",
    "                engine.say(str3)\n",
    "                engine.setProperty(\"rate\", (3/2)*rate)\n",
    "                engine.setProperty(\"volume\", z+0.2)\n",
    "                str4 = str(str1[(int(2*len(str1)/3)):int(len(str1))])\n",
    "                str4 = str4.replace(\",\",\"\")\n",
    "                engine.say(str4)\n",
    "                engine.runAndWait(); \n",
    "                engine.stop() \n",
    "                print(rows[i])"
   ]
  },
  {
   "cell_type": "code",
   "execution_count": 21,
   "metadata": {},
   "outputs": [],
   "source": [
    "def text_to_speech(numberOfLines = 1, startingPoint = 1, rho = 0.99, x = 50, y = 45, z = 0):\n",
    "    # 1/2 version\n",
    "    engine = pyttsx3.init()\n",
    "    engine.setProperty(\"volume\", z)\n",
    "    engine.setProperty(\"voice\", voices[7].id)\n",
    "    engine.setProperty(\"rate\", x)\n",
    "    if(z !=0):\n",
    "        sample = collapsedgibbs3NormV(numberOfLines, rho, x, y, z)\n",
    "        for i in range(startingPoint, startingPoint + len(sample)):\n",
    "            engine = pyttsx3.init()\n",
    "            rows[i][0] = rows[i][0][1:]\n",
    "            str1 = ''.join(rows[i])\n",
    "            str1 = str1.replace(\"(\", \"\")\n",
    "            str1 = re.split('\\s+', str1)\n",
    "            engine.setProperty(\"rate\", randrange(170,200))\n",
    "            rate = engine.getProperty(\"rate\")\n",
    "            if(rate > 185):\n",
    "                str2 = str(str1)\n",
    "                str2 = str2.replace(\",\",\"\")\n",
    "                engine.say(str2)\n",
    "                engine.runAndWait();\n",
    "                engine.stop()\n",
    "                print(str2)\n",
    "            else:\n",
    "                str2 = str(str1[0:int(len(str1)/2)])\n",
    "                str2 = str2.replace(\",\", \"\")\n",
    "                engine.say(str2)\n",
    "                engine.setProperty(\"rate\", (5/4)*rate)\n",
    "                engine.setProperty(\"volume\", z+0.15)\n",
    "                str3 = str(str1[(int(len(str1)/2)):len(str1)])\n",
    "                str3 = str3.replace(\",\",\"\")\n",
    "                engine.say(str3)\n",
    "                engine.runAndWait();\n",
    "                engine.stop()\n",
    "                print(str3)"
   ]
  },
  {
   "cell_type": "code",
   "execution_count": 22,
   "metadata": {},
   "outputs": [
    {
     "data": {
      "application/vnd.jupyter.widget-view+json": {
       "model_id": "a9c42a0e7b204b408706f90fe33b34fd",
       "version_major": 2,
       "version_minor": 0
      },
      "text/plain": [
       "interactive(children=(Dropdown(description='numberOfLines', index=1, options=(0, 1, 2, 3, 4, 5, 6, 7, 8, 9, 10…"
      ]
     },
     "metadata": {},
     "output_type": "display_data"
    }
   ],
   "source": [
    "widgets.interact(text_to_speech, numberOfLines = [0,1, 2, 3, 4, 5, 6, 7, 8, 9, 10], \n",
    "                 startingPoint = (1,8020,1), rho =(-0.99,0.99,0.01), x= (-900, 900, 10), y = (-47,47,1), z = (-1,1,0.1));\n",
    "\n",
    "\n",
    "\n"
   ]
  },
  {
   "cell_type": "code",
   "execution_count": 21,
   "metadata": {},
   "outputs": [],
   "source": [
    "rows[1][0] = rows[1][0][1:]\n",
    "str1 = ''.join(rows[1])\n",
    "str1 = str1.replace(\"(\", \"\")\n",
    "str1 = re.split('\\s+', str1)"
   ]
  },
  {
   "cell_type": "code",
   "execution_count": 28,
   "metadata": {},
   "outputs": [
    {
     "data": {
      "text/plain": [
       "<pyttsx3.engine.Engine at 0x7fce08563640>"
      ]
     },
     "execution_count": 28,
     "metadata": {},
     "output_type": "execute_result"
    }
   ],
   "source": [
    "engine"
   ]
  },
  {
   "cell_type": "code",
   "execution_count": 35,
   "metadata": {},
   "outputs": [],
   "source": [
    "engine.setProperty(\"rate\", 170)\n",
    "engine.say(\"hi\" \"hello\")\n",
    "engine.runAndWait()\n",
    "engine.stop()"
   ]
  },
  {
   "cell_type": "code",
   "execution_count": 22,
   "metadata": {},
   "outputs": [],
   "source": [
    "save = str(str1[0:int(len(str1)/2)])"
   ]
  },
  {
   "cell_type": "code",
   "execution_count": 125,
   "metadata": {},
   "outputs": [],
   "source": [
    "engine.stop()"
   ]
  },
  {
   "cell_type": "code",
   "execution_count": 47,
   "metadata": {},
   "outputs": [
    {
     "data": {
      "text/plain": [
       "'N'"
      ]
     },
     "execution_count": 47,
     "metadata": {},
     "output_type": "execute_result"
    }
   ],
   "source": [
    "str1[2]"
   ]
  },
  {
   "cell_type": "code",
   "execution_count": 24,
   "metadata": {},
   "outputs": [],
   "source": [
    "engine.say(str(str1[0:int(len(str1)/2)]))\n",
    "engine.runAndWait();\n",
    "engine.stop()"
   ]
  },
  {
   "cell_type": "code",
   "execution_count": 25,
   "metadata": {},
   "outputs": [
    {
     "data": {
      "text/plain": [
       "'[\\'(\"Now\"\\', \\'\"let\"\\', \\'\"me\"\\', \\'\"welcome\"\\', \\'\"everybody\"\\']'"
      ]
     },
     "execution_count": 25,
     "metadata": {},
     "output_type": "execute_result"
    }
   ],
   "source": [
    "str(str1[0:int(len(str1)/2)])"
   ]
  },
  {
   "cell_type": "code",
   "execution_count": 28,
   "metadata": {},
   "outputs": [],
   "source": [
    "engine.say(str1)\n",
    "engine.runAndWait();\n",
    "engine.stop()"
   ]
  },
  {
   "cell_type": "code",
   "execution_count": 29,
   "metadata": {},
   "outputs": [
    {
     "data": {
      "text/plain": [
       "'\"Now\" \"let\" \"me\" \"welcome\" \"everybody\" \"to\" \"the\" \"wild\" \"wild\" \"west.\" \".\")'"
      ]
     },
     "execution_count": 29,
     "metadata": {},
     "output_type": "execute_result"
    }
   ],
   "source": [
    "str1"
   ]
  },
  {
   "cell_type": "code",
   "execution_count": 30,
   "metadata": {},
   "outputs": [
    {
     "data": {
      "text/plain": [
       "'N'"
      ]
     },
     "execution_count": 30,
     "metadata": {},
     "output_type": "execute_result"
    }
   ],
   "source": [
    "str1[2]"
   ]
  },
  {
   "cell_type": "code",
   "execution_count": 39,
   "metadata": {},
   "outputs": [
    {
     "data": {
      "text/plain": [
       "['Please', 'split', 'this', 'string']"
      ]
     },
     "execution_count": 39,
     "metadata": {},
     "output_type": "execute_result"
    }
   ],
   "source": [
    "import re\n",
    "re.split('\\s+', 'Please split this string')"
   ]
  },
  {
   "cell_type": "code",
   "execution_count": 48,
   "metadata": {},
   "outputs": [],
   "source": [
    "str1 = re.split('\\s+', str1)"
   ]
  },
  {
   "cell_type": "code",
   "execution_count": 52,
   "metadata": {},
   "outputs": [
    {
     "data": {
      "text/plain": [
       "'(\"Now\"'"
      ]
     },
     "execution_count": 52,
     "metadata": {},
     "output_type": "execute_result"
    }
   ],
   "source": [
    "str1[0]"
   ]
  },
  {
   "cell_type": "code",
   "execution_count": 66,
   "metadata": {},
   "outputs": [],
   "source": [
    "engine.say(str(str1[0:2]))\n",
    "engine.runAndWait()"
   ]
  },
  {
   "cell_type": "code",
   "execution_count": 54,
   "metadata": {},
   "outputs": [],
   "source": [
    "str1 = ''.join(str1)"
   ]
  },
  {
   "cell_type": "code",
   "execution_count": 57,
   "metadata": {},
   "outputs": [
    {
     "data": {
      "text/plain": [
       "'N'"
      ]
     },
     "execution_count": 57,
     "metadata": {},
     "output_type": "execute_result"
    }
   ],
   "source": [
    "str1[2]"
   ]
  },
  {
   "cell_type": "code",
   "execution_count": 28,
   "metadata": {},
   "outputs": [
    {
     "data": {
      "text/plain": [
       "'(\"Now\" \"let\" \"me\" \"welcome\" \"everybody\" \"to\" \"the\" \"wild\" \"wild\" \"west.\" \".\")'"
      ]
     },
     "execution_count": 28,
     "metadata": {},
     "output_type": "execute_result"
    }
   ],
   "source": [
    "str1"
   ]
  },
  {
   "cell_type": "code",
   "execution_count": 28,
   "metadata": {},
   "outputs": [],
   "source": [
    "engine.setProperty(\"rate\", 180)\n",
    "engine.say(\"Mom's\" \"spa\" \"gheh\" \"tee\")\n",
    "engine.say(\"there's\" \"vomit\" \"on\" \"his\" \"sweater\" \"already\")\n",
    "engine.setProperty(\"rate\", 150)\n",
    "engine.say(\"you\" \"know\" \"what\" \"I\" \"am\" \"saying\")\n",
    "engine.runAndWait(); "
   ]
  },
  {
   "cell_type": "code",
   "execution_count": 49,
   "metadata": {},
   "outputs": [
    {
     "data": {
      "text/plain": [
       "['c(\"Now\"', ' \"let\"', ' \"me\"']"
      ]
     },
     "execution_count": 49,
     "metadata": {},
     "output_type": "execute_result"
    }
   ],
   "source": [
    "rows[1][0:3]"
   ]
  },
  {
   "cell_type": "code",
   "execution_count": 22,
   "metadata": {},
   "outputs": [
    {
     "data": {
      "text/plain": [
       "156"
      ]
     },
     "execution_count": 22,
     "metadata": {},
     "output_type": "execute_result"
    }
   ],
   "source": [
    "randrange(100,200)"
   ]
  },
  {
   "cell_type": "code",
   "execution_count": 8,
   "metadata": {},
   "outputs": [
    {
     "name": "stdout",
     "output_type": "stream",
     "text": [
      "pygame 2.1.2 (SDL 2.0.18, Python 3.8.3)\n",
      "Hello from the pygame community. https://www.pygame.org/contribute.html\n"
     ]
    }
   ],
   "source": [
    "from gtts import gTTS\n",
    "import os\n",
    "\n",
    "tts = gTTS(text='what to say', lang='en')\n",
    "tts.save('file.mp3')\n",
    "from pygame import mixer  # Load the popular external library\n",
    "\n",
    "mixer.init()\n",
    "mixer.music.load('file.mp3')\n",
    "mixer.music.play()"
   ]
  },
  {
   "cell_type": "code",
   "execution_count": 26,
   "metadata": {},
   "outputs": [],
   "source": [
    "# if needed:\n",
    "engine.endLoop()"
   ]
  },
  {
   "cell_type": "code",
   "execution_count": 32,
   "metadata": {},
   "outputs": [],
   "source": [
    "# pip install pyaudio\n",
    "# below is improv based on my own voice"
   ]
  },
  {
   "cell_type": "code",
   "execution_count": 24,
   "metadata": {},
   "outputs": [
    {
     "ename": "KeyboardInterrupt",
     "evalue": "Interrupted by user",
     "output_type": "error",
     "traceback": [
      "\u001b[0;31m---------------------------------------------------------------------------\u001b[0m",
      "\u001b[0;31mKeyboardInterrupt\u001b[0m                         Traceback (most recent call last)",
      "\u001b[0;32m<ipython-input-24-e68acca93bc3>\u001b[0m in \u001b[0;36m<module>\u001b[0;34m\u001b[0m\n\u001b[1;32m     58\u001b[0m     \u001b[0mtts\u001b[0m \u001b[0;34m=\u001b[0m \u001b[0mTextToSpeech\u001b[0m\u001b[0;34m(\u001b[0m\u001b[0;34m)\u001b[0m\u001b[0;34m\u001b[0m\u001b[0;34m\u001b[0m\u001b[0m\n\u001b[1;32m     59\u001b[0m     \u001b[0;32mwhile\u001b[0m \u001b[0;32mTrue\u001b[0m\u001b[0;34m:\u001b[0m\u001b[0;34m\u001b[0m\u001b[0;34m\u001b[0m\u001b[0m\n\u001b[0;32m---> 60\u001b[0;31m         \u001b[0mtts\u001b[0m\u001b[0;34m.\u001b[0m\u001b[0mget_pronunciation\u001b[0m\u001b[0;34m(\u001b[0m\u001b[0minput\u001b[0m\u001b[0;34m(\u001b[0m\u001b[0;34m'Enter a word or phrase: '\u001b[0m\u001b[0;34m)\u001b[0m\u001b[0;34m)\u001b[0m\u001b[0;34m\u001b[0m\u001b[0;34m\u001b[0m\u001b[0m\n\u001b[0m",
      "\u001b[0;32m/Library/Frameworks/Python.framework/Versions/3.8/lib/python3.8/site-packages/ipykernel/kernelbase.py\u001b[0m in \u001b[0;36mraw_input\u001b[0;34m(self, prompt)\u001b[0m\n\u001b[1;32m    858\u001b[0m                 \u001b[0;34m\"raw_input was called, but this frontend does not support input requests.\"\u001b[0m\u001b[0;34m\u001b[0m\u001b[0;34m\u001b[0m\u001b[0m\n\u001b[1;32m    859\u001b[0m             )\n\u001b[0;32m--> 860\u001b[0;31m         return self._input_request(str(prompt),\n\u001b[0m\u001b[1;32m    861\u001b[0m             \u001b[0mself\u001b[0m\u001b[0;34m.\u001b[0m\u001b[0m_parent_ident\u001b[0m\u001b[0;34m,\u001b[0m\u001b[0;34m\u001b[0m\u001b[0;34m\u001b[0m\u001b[0m\n\u001b[1;32m    862\u001b[0m             \u001b[0mself\u001b[0m\u001b[0;34m.\u001b[0m\u001b[0m_parent_header\u001b[0m\u001b[0;34m,\u001b[0m\u001b[0;34m\u001b[0m\u001b[0;34m\u001b[0m\u001b[0m\n",
      "\u001b[0;32m/Library/Frameworks/Python.framework/Versions/3.8/lib/python3.8/site-packages/ipykernel/kernelbase.py\u001b[0m in \u001b[0;36m_input_request\u001b[0;34m(self, prompt, ident, parent, password)\u001b[0m\n\u001b[1;32m    902\u001b[0m             \u001b[0;32mexcept\u001b[0m \u001b[0mKeyboardInterrupt\u001b[0m\u001b[0;34m:\u001b[0m\u001b[0;34m\u001b[0m\u001b[0;34m\u001b[0m\u001b[0m\n\u001b[1;32m    903\u001b[0m                 \u001b[0;31m# re-raise KeyboardInterrupt, to truncate traceback\u001b[0m\u001b[0;34m\u001b[0m\u001b[0;34m\u001b[0m\u001b[0;34m\u001b[0m\u001b[0m\n\u001b[0;32m--> 904\u001b[0;31m                 \u001b[0;32mraise\u001b[0m \u001b[0mKeyboardInterrupt\u001b[0m\u001b[0;34m(\u001b[0m\u001b[0;34m\"Interrupted by user\"\u001b[0m\u001b[0;34m)\u001b[0m \u001b[0;32mfrom\u001b[0m \u001b[0;32mNone\u001b[0m\u001b[0;34m\u001b[0m\u001b[0;34m\u001b[0m\u001b[0m\n\u001b[0m\u001b[1;32m    905\u001b[0m             \u001b[0;32mexcept\u001b[0m \u001b[0mException\u001b[0m \u001b[0;32mas\u001b[0m \u001b[0me\u001b[0m\u001b[0;34m:\u001b[0m\u001b[0;34m\u001b[0m\u001b[0;34m\u001b[0m\u001b[0m\n\u001b[1;32m    906\u001b[0m                 \u001b[0mself\u001b[0m\u001b[0;34m.\u001b[0m\u001b[0mlog\u001b[0m\u001b[0;34m.\u001b[0m\u001b[0mwarning\u001b[0m\u001b[0;34m(\u001b[0m\u001b[0;34m\"Invalid Message:\"\u001b[0m\u001b[0;34m,\u001b[0m \u001b[0mexc_info\u001b[0m\u001b[0;34m=\u001b[0m\u001b[0;32mTrue\u001b[0m\u001b[0;34m)\u001b[0m\u001b[0;34m\u001b[0m\u001b[0;34m\u001b[0m\u001b[0m\n",
      "\u001b[0;31mKeyboardInterrupt\u001b[0m: Interrupted by user"
     ]
    }
   ],
   "source": [
    "import re\n",
    "import wave\n",
    "import pyaudio\n",
    "import _thread\n",
    "import time\n",
    "\n",
    "class TextToSpeech:\n",
    "    \n",
    "    CHUNK = 1024\n",
    "    def __init__(self, words_pron_dict:str = 'cmudict-0.7b.txt'):\n",
    "        self._l = {}\n",
    "        self._load_words(words_pron_dict)\n",
    "\n",
    "    def _load_words(self, words_pron_dict:str):\n",
    "        with open(words_pron_dict, 'r') as file:\n",
    "            for line in file:\n",
    "                 if not line.startswith(';;;'):\n",
    "                        key, val = line.split('  ',2)\n",
    "                        self._l[key] = re.findall(r\"[A-Z]+\",val)\n",
    "\n",
    "    def get_pronunciation(self, str_input):\n",
    "        list_pron = []\n",
    "        for word in re.findall(r\"[\\w']+\",str_input.upper()):\n",
    "            if word in self._l:\n",
    "                list_pron += self._l[word]\n",
    "        print(list_pron)\n",
    "        delay=0\n",
    "        for pron in list_pron:\n",
    "            _thread.start_new_thread( TextToSpeech._play_audio, (pron,delay,))\n",
    "            delay += 0.31\n",
    "\n",
    "    def _play_audio(sound, delay):\n",
    "        try:\n",
    "            time.sleep(delay)\n",
    "            wf = wave.open(\"sounds/\"+sound+\".wav\", \"rb\")\n",
    "            p = pyaudio.PyAudio()\n",
    "            stream = p.open(format=p.get_format_from_width(wf.getsampwidth()),\n",
    "                            channels=wf.getnchannels(),\n",
    "                            rate=wf.getframerate(),\n",
    "                            output=True)\n",
    "\n",
    "            data = wf.readframes(TextToSpeech.CHUNK)\n",
    "\n",
    "            while data:\n",
    "                stream.write(data)\n",
    "                data = wf.readframes(TextToSpeech.CHUNK)\n",
    "\n",
    "            stream.stop_stream()\n",
    "            stream.close()\n",
    "\n",
    "            p.terminate()\n",
    "            return\n",
    "        except:\n",
    "            pass\n",
    "    \n",
    "\n",
    "if __name__ == '__main__':\n",
    "    tts = TextToSpeech()\n",
    "    while True:\n",
    "        tts.get_pronunciation(input('Enter a word or phrase: '))"
   ]
  },
  {
   "cell_type": "code",
   "execution_count": 56,
   "metadata": {},
   "outputs": [
    {
     "name": "stdout",
     "output_type": "stream",
     "text": [
      "Enter a word or phrase: hello\n",
      "['HH', 'AH', 'L', 'OW']\n"
     ]
    },
    {
     "ename": "KeyboardInterrupt",
     "evalue": "Interrupted by user",
     "output_type": "error",
     "traceback": [
      "\u001b[0;31m---------------------------------------------------------------------------\u001b[0m",
      "\u001b[0;31mKeyboardInterrupt\u001b[0m                         Traceback (most recent call last)",
      "\u001b[0;32m<ipython-input-56-1cf61906e60d>\u001b[0m in \u001b[0;36m<module>\u001b[0;34m\u001b[0m\n\u001b[1;32m     63\u001b[0m     \u001b[0mtts\u001b[0m \u001b[0;34m=\u001b[0m \u001b[0mTextToSpeech\u001b[0m\u001b[0;34m(\u001b[0m\u001b[0;34m)\u001b[0m\u001b[0;34m\u001b[0m\u001b[0;34m\u001b[0m\u001b[0m\n\u001b[1;32m     64\u001b[0m     \u001b[0;32mwhile\u001b[0m \u001b[0;32mTrue\u001b[0m\u001b[0;34m:\u001b[0m\u001b[0;34m\u001b[0m\u001b[0;34m\u001b[0m\u001b[0m\n\u001b[0;32m---> 65\u001b[0;31m         \u001b[0mtts\u001b[0m\u001b[0;34m.\u001b[0m\u001b[0mget_pronunciation\u001b[0m\u001b[0;34m(\u001b[0m\u001b[0minput\u001b[0m\u001b[0;34m(\u001b[0m\u001b[0;34m'Enter a word or phrase: '\u001b[0m\u001b[0;34m)\u001b[0m\u001b[0;34m)\u001b[0m\u001b[0;34m\u001b[0m\u001b[0;34m\u001b[0m\u001b[0m\n\u001b[0m",
      "\u001b[0;32m/Library/Frameworks/Python.framework/Versions/3.8/lib/python3.8/site-packages/ipykernel/kernelbase.py\u001b[0m in \u001b[0;36mraw_input\u001b[0;34m(self, prompt)\u001b[0m\n\u001b[1;32m    858\u001b[0m                 \u001b[0;34m\"raw_input was called, but this frontend does not support input requests.\"\u001b[0m\u001b[0;34m\u001b[0m\u001b[0;34m\u001b[0m\u001b[0m\n\u001b[1;32m    859\u001b[0m             )\n\u001b[0;32m--> 860\u001b[0;31m         return self._input_request(str(prompt),\n\u001b[0m\u001b[1;32m    861\u001b[0m             \u001b[0mself\u001b[0m\u001b[0;34m.\u001b[0m\u001b[0m_parent_ident\u001b[0m\u001b[0;34m,\u001b[0m\u001b[0;34m\u001b[0m\u001b[0;34m\u001b[0m\u001b[0m\n\u001b[1;32m    862\u001b[0m             \u001b[0mself\u001b[0m\u001b[0;34m.\u001b[0m\u001b[0m_parent_header\u001b[0m\u001b[0;34m,\u001b[0m\u001b[0;34m\u001b[0m\u001b[0;34m\u001b[0m\u001b[0m\n",
      "\u001b[0;32m/Library/Frameworks/Python.framework/Versions/3.8/lib/python3.8/site-packages/ipykernel/kernelbase.py\u001b[0m in \u001b[0;36m_input_request\u001b[0;34m(self, prompt, ident, parent, password)\u001b[0m\n\u001b[1;32m    902\u001b[0m             \u001b[0;32mexcept\u001b[0m \u001b[0mKeyboardInterrupt\u001b[0m\u001b[0;34m:\u001b[0m\u001b[0;34m\u001b[0m\u001b[0;34m\u001b[0m\u001b[0m\n\u001b[1;32m    903\u001b[0m                 \u001b[0;31m# re-raise KeyboardInterrupt, to truncate traceback\u001b[0m\u001b[0;34m\u001b[0m\u001b[0;34m\u001b[0m\u001b[0;34m\u001b[0m\u001b[0m\n\u001b[0;32m--> 904\u001b[0;31m                 \u001b[0;32mraise\u001b[0m \u001b[0mKeyboardInterrupt\u001b[0m\u001b[0;34m(\u001b[0m\u001b[0;34m\"Interrupted by user\"\u001b[0m\u001b[0;34m)\u001b[0m \u001b[0;32mfrom\u001b[0m \u001b[0;32mNone\u001b[0m\u001b[0;34m\u001b[0m\u001b[0;34m\u001b[0m\u001b[0m\n\u001b[0m\u001b[1;32m    905\u001b[0m             \u001b[0;32mexcept\u001b[0m \u001b[0mException\u001b[0m \u001b[0;32mas\u001b[0m \u001b[0me\u001b[0m\u001b[0;34m:\u001b[0m\u001b[0;34m\u001b[0m\u001b[0;34m\u001b[0m\u001b[0m\n\u001b[1;32m    906\u001b[0m                 \u001b[0mself\u001b[0m\u001b[0;34m.\u001b[0m\u001b[0mlog\u001b[0m\u001b[0;34m.\u001b[0m\u001b[0mwarning\u001b[0m\u001b[0;34m(\u001b[0m\u001b[0;34m\"Invalid Message:\"\u001b[0m\u001b[0;34m,\u001b[0m \u001b[0mexc_info\u001b[0m\u001b[0;34m=\u001b[0m\u001b[0;32mTrue\u001b[0m\u001b[0;34m)\u001b[0m\u001b[0;34m\u001b[0m\u001b[0;34m\u001b[0m\u001b[0m\n",
      "\u001b[0;31mKeyboardInterrupt\u001b[0m: Interrupted by user"
     ]
    }
   ],
   "source": [
    "import re\n",
    "import wave\n",
    "import pyaudio\n",
    "import _thread\n",
    "import time\n",
    "\n",
    "class TextToSpeech:\n",
    "    \n",
    "    CHUNK = 1024\n",
    "    factor = 1\n",
    "    def __init__(self, words_pron_dict:str = 'cmudict-0.7b.txt'):\n",
    "        self._l = {}\n",
    "        self._load_words(words_pron_dict)\n",
    "\n",
    "    def _load_words(self, words_pron_dict:str):\n",
    "        with open(words_pron_dict, 'r') as file:\n",
    "            for line in file:\n",
    "                 if not line.startswith(';;;'):\n",
    "                        key, val = line.split('  ',2)\n",
    "                        self._l[key] = re.findall(r\"[A-Z]+\",val)\n",
    "\n",
    "    def get_pronunciation(self, str_input):\n",
    "        list_pron = []\n",
    "        for word in re.findall(r\"[\\w']+\",str_input.upper()):\n",
    "            if word in self._l:\n",
    "                list_pron += self._l[word]\n",
    "        print(list_pron)\n",
    "        delay=0\n",
    "        for pron in list_pron:\n",
    "            _thread.start_new_thread( TextToSpeech._play_audio, (pron,delay,))\n",
    "            delay += 0.5\n",
    "\n",
    "    def _play_audio(sound, delay):\n",
    "        x0 = np.linspace(0.0, TextToSpeech.CHUNK - 1.0, TextToSpeech.CHUNK)\n",
    "        x1 = np.linspace(0.0, TextToSpeech.CHUNK - 1.0, TextToSpeech.CHUNK * TextToSpeech.factor)\n",
    "        try:\n",
    "            time.sleep(delay)\n",
    "            wf = wave.open(\"sounds/\"+sound+\".wav\", \"rb\")\n",
    "            p = pyaudio.PyAudio()\n",
    "            stream = p.open(format=p.get_format_from_width(wf.getsampwidth()),\n",
    "                            channels=wf.getnchannels(),\n",
    "                            rate=wf.getframerate(),\n",
    "                            output=True)\n",
    "\n",
    "            data = wf.readframes(TextToSpeech.CHUNK)\n",
    "\n",
    "            while data:\n",
    "                f_data = np.frombuffer(wf.readframes(TextToSpeech.CHUNK),\n",
    "                               dtype=np.int).astype(np.float) # need to use floats for interpolation\n",
    "                if len(f_data) < TextToSpeech.CHUNK:\n",
    "                    x1 = x1[:int(len(f_data) * TextToSpeech.factor)]\n",
    "                stream.write(data)\n",
    "                data = np.interp(x1, x0, f_data).astype(np.int)\n",
    "                stream.stop_stream()\n",
    "                stream.close()\n",
    "                p.terminate()\n",
    "            return\n",
    "        except:\n",
    "            pass\n",
    "    \n",
    "\n",
    "if __name__ == '__main__':\n",
    "    tts = TextToSpeech()\n",
    "    while True:\n",
    "        tts.get_pronunciation(input('Enter a word or phrase: '))"
   ]
  }
 ],
 "metadata": {
  "kernelspec": {
   "display_name": "Python 3",
   "language": "python",
   "name": "python3"
  },
  "language_info": {
   "codemirror_mode": {
    "name": "ipython",
    "version": 3
   },
   "file_extension": ".py",
   "mimetype": "text/x-python",
   "name": "python",
   "nbconvert_exporter": "python",
   "pygments_lexer": "ipython3",
   "version": "3.8.3"
  }
 },
 "nbformat": 4,
 "nbformat_minor": 4
}
