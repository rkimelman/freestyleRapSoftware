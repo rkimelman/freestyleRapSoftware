{
 "cells": [
  {
   "cell_type": "code",
   "execution_count": 1,
   "metadata": {},
   "outputs": [],
   "source": [
    "import pandas as pd\n",
    "import numpy as np\n",
    "import random\n",
    "import pyttsx3\n",
    "import ipywidgets as widgets\n",
    "import csv\n",
    "import numpy as np\n",
    "import math as math\n",
    "import statistics"
   ]
  },
  {
   "cell_type": "code",
   "execution_count": 2,
   "metadata": {},
   "outputs": [],
   "source": [
    "mat=np.zeros((100,3))"
   ]
  },
  {
   "cell_type": "code",
   "execution_count": 3,
   "metadata": {},
   "outputs": [],
   "source": [
    "save = np.array([1,2,3])"
   ]
  },
  {
   "cell_type": "code",
   "execution_count": 4,
   "metadata": {},
   "outputs": [],
   "source": [
    "mat[0,]=save"
   ]
  },
  {
   "cell_type": "code",
   "execution_count": 5,
   "metadata": {},
   "outputs": [
    {
     "data": {
      "text/plain": [
       "array([1., 2., 3.])"
      ]
     },
     "execution_count": 5,
     "metadata": {},
     "output_type": "execute_result"
    }
   ],
   "source": [
    "mat[0,]"
   ]
  },
  {
   "cell_type": "code",
   "execution_count": 6,
   "metadata": {},
   "outputs": [],
   "source": [
    "cov = [[1,1,1],\n",
    "       [1,1,1],\n",
    "       [1,1,1]]"
   ]
  },
  {
   "cell_type": "code",
   "execution_count": 7,
   "metadata": {},
   "outputs": [
    {
     "data": {
      "text/plain": [
       "[[1, 1, 1], [1, 1, 1], [1, 1, 1]]"
      ]
     },
     "execution_count": 7,
     "metadata": {},
     "output_type": "execute_result"
    }
   ],
   "source": [
    "cov"
   ]
  },
  {
   "cell_type": "code",
   "execution_count": 34,
   "metadata": {},
   "outputs": [],
   "source": [
    "def collapsedgibbs3NormV(n, rho, x, y, z):\n",
    "    mat = mat=np.zeros((n,3))\n",
    "    mat[0, ] = np.array([x,y,z])\n",
    "    for i in range(1,n):\n",
    "        x = int(10*np.random.normal(rho * y, math.sqrt(rho+rho**3), 1))/10\n",
    "        y = int(10*np.random.normal(rho * x, math.sqrt(rho+rho**3), 1))/10\n",
    "        z = int(10*np.random.normal(rho * x + rho * y, math.sqrt(rho+rho**3), 1))/10\n",
    "        mat[i, ] = [x*100,y,z]\n",
    "    return(mat)"
   ]
  },
  {
   "cell_type": "code",
   "execution_count": 9,
   "metadata": {},
   "outputs": [],
   "source": [
    "save = collapsedgibbs3NormV(2, 0.9, 1, 2, 3)"
   ]
  },
  {
   "cell_type": "code",
   "execution_count": 10,
   "metadata": {},
   "outputs": [
    {
     "data": {
      "text/plain": [
       "array([[1.0e+00, 2.0e+00, 3.0e+00],\n",
       "       [1.9e+03, 1.8e+00, 1.6e+00]])"
      ]
     },
     "execution_count": 10,
     "metadata": {},
     "output_type": "execute_result"
    }
   ],
   "source": [
    "save"
   ]
  },
  {
   "cell_type": "code",
   "execution_count": 11,
   "metadata": {},
   "outputs": [
    {
     "data": {
      "text/plain": [
       "1.6"
      ]
     },
     "execution_count": 11,
     "metadata": {},
     "output_type": "execute_result"
    }
   ],
   "source": [
    "save[1,2]"
   ]
  },
  {
   "cell_type": "code",
   "execution_count": 12,
   "metadata": {},
   "outputs": [
    {
     "data": {
      "text/plain": [
       "1.2763228431709588"
      ]
     },
     "execution_count": 12,
     "metadata": {},
     "output_type": "execute_result"
    }
   ],
   "source": [
    "math.sqrt(0.9 + 0.9**3)"
   ]
  },
  {
   "cell_type": "code",
   "execution_count": 13,
   "metadata": {},
   "outputs": [],
   "source": [
    "save = open(\"lyricsdata.csv\")"
   ]
  },
  {
   "cell_type": "code",
   "execution_count": 14,
   "metadata": {},
   "outputs": [],
   "source": [
    "csvreader = csv.reader(save)"
   ]
  },
  {
   "cell_type": "code",
   "execution_count": 15,
   "metadata": {},
   "outputs": [],
   "source": [
    "header = []\n",
    "header = next(csvreader)"
   ]
  },
  {
   "cell_type": "code",
   "execution_count": 16,
   "metadata": {},
   "outputs": [],
   "source": [
    "df = pd.DataFrame(index=np.arange(8031), columns=np.arange(1))"
   ]
  },
  {
   "cell_type": "code",
   "execution_count": 17,
   "metadata": {},
   "outputs": [],
   "source": [
    "rows = []\n",
    "for row in csvreader:\n",
    "        rows.append(row)"
   ]
  },
  {
   "cell_type": "code",
   "execution_count": 18,
   "metadata": {},
   "outputs": [],
   "source": [
    "rows[2][0] = rows[2][0][1:]"
   ]
  },
  {
   "cell_type": "code",
   "execution_count": 19,
   "metadata": {},
   "outputs": [],
   "source": [
    "str1 = ''.join(rows[2])"
   ]
  },
  {
   "cell_type": "code",
   "execution_count": 20,
   "metadata": {},
   "outputs": [],
   "source": [
    "engine = pyttsx3.init()"
   ]
  },
  {
   "cell_type": "code",
   "execution_count": 21,
   "metadata": {},
   "outputs": [],
   "source": [
    "engine.say(str1)\n",
    "engine.runAndWait();"
   ]
  },
  {
   "cell_type": "code",
   "execution_count": 22,
   "metadata": {},
   "outputs": [],
   "source": [
    "rate = engine.getProperty(\"rate\")"
   ]
  },
  {
   "cell_type": "code",
   "execution_count": 23,
   "metadata": {},
   "outputs": [],
   "source": [
    "voices = engine.getProperty(\"voices\")"
   ]
  },
  {
   "cell_type": "code",
   "execution_count": 24,
   "metadata": {},
   "outputs": [],
   "source": [
    "engine = pyttsx3.init()\n",
    "engine.say('The quick brown fox jumped over the lazy dog.', 'fox')\n",
    "engine.runAndWait();\n",
    "engine.startLoop(False)\n",
    "# engine.iterate() must be called inside externalLoop()\n",
    "def externalLoop():\n",
    "    for i in range(1, 3):\n",
    "            engine = pyttsx3.init()\n",
    "            rows[i][0] = rows[i][0][1:]\n",
    "            str1 = ''.join(rows[i])  \n",
    "externalLoop()\n",
    "engine.endLoop()"
   ]
  },
  {
   "cell_type": "code",
   "execution_count": 35,
   "metadata": {},
   "outputs": [],
   "source": [
    "def text_to_speech(numberOfLines = 1, startingPoint = 1, rho = 0.9, x = 300, y = 0, z = 0):\n",
    "    engine = pyttsx3.init()\n",
    "    engine.setProperty(\"volume\", z)\n",
    "    engine.setProperty(\"voice\", voices[y].id)\n",
    "    engine.setProperty(\"rate\", x)\n",
    "    if(z !=0):\n",
    "        sample = collapsedgibbs3NormV(numberOfLines, rho, x, y, z)\n",
    "        print(sample)\n",
    "        for i in range(startingPoint, startingPoint + len(sample)):\n",
    "            engine = pyttsx3.init()\n",
    "            rows[i][0] = rows[i][0][1:]\n",
    "            str1 = ''.join(rows[i])\n",
    "            if(abs(sample[i-startingPoint,0]) >= 200 and abs(sample[i-startingPoint,0]) <= 1000):\n",
    "                engine.setProperty(\"rate\", abs(sample[i-startingPoint,0]))\n",
    "            else:\n",
    "                engine.setProperty(\"rate\", 500)\n",
    "#            engine.setProperty(\"voice\", voices[int(sample[i-startingPoint,1])].id)\n",
    "            if(abs(sample[i-startingPoint,2]) <= 1):\n",
    "                engine.setProperty(\"volume\", sample[i-startingPoint,2])\n",
    "            else:\n",
    "                engine.setProperty(\"volume\", 0.5)\n",
    "            engine.say(str1)\n",
    "            engine.runAndWait(); \n",
    "            engine.stop()"
   ]
  },
  {
   "cell_type": "code",
   "execution_count": 26,
   "metadata": {},
   "outputs": [],
   "source": [
    "text_to_speech(-400, -0.2, -47)"
   ]
  },
  {
   "cell_type": "code",
   "execution_count": 36,
   "metadata": {},
   "outputs": [
    {
     "data": {
      "application/vnd.jupyter.widget-view+json": {
       "model_id": "69ae4b5f27a143a79318944a827c86ca",
       "version_major": 2,
       "version_minor": 0
      },
      "text/plain": [
       "interactive(children=(Dropdown(description='numberOfLines', index=1, options=(0, 1, 2, 3, 4, 5, 6, 7, 8, 9, 10…"
      ]
     },
     "metadata": {},
     "output_type": "display_data"
    }
   ],
   "source": [
    "widgets.interact(text_to_speech, numberOfLines = [0,1, 2, 3, 4, 5, 6, 7, 8, 9, 10], \n",
    "                 startingPoint = (1,8020,1), rho =(-0.99,0.99,0.01), x= (-900, 900, 10), y = (-47,47,1), z = (-1,1,0.1));\n",
    "\n",
    "\n",
    "\n"
   ]
  },
  {
   "cell_type": "code",
   "execution_count": 28,
   "metadata": {},
   "outputs": [],
   "source": [
    "# if needed:\n",
    "# engine.endLoop()"
   ]
  }
 ],
 "metadata": {
  "kernelspec": {
   "display_name": "Python 3",
   "language": "python",
   "name": "python3"
  },
  "language_info": {
   "codemirror_mode": {
    "name": "ipython",
    "version": 3
   },
   "file_extension": ".py",
   "mimetype": "text/x-python",
   "name": "python",
   "nbconvert_exporter": "python",
   "pygments_lexer": "ipython3",
   "version": "3.8.3"
  }
 },
 "nbformat": 4,
 "nbformat_minor": 4
}
