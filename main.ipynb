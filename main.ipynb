{
 "cells": [
  {
   "cell_type": "code",
   "execution_count": 1,
   "metadata": {},
   "outputs": [],
   "source": [
    "save = open(\"lyricsdata.csv\")"
   ]
  },
  {
   "cell_type": "code",
   "execution_count": 2,
   "metadata": {},
   "outputs": [],
   "source": [
    "import csv\n",
    "csvreader = csv.reader(save)"
   ]
  },
  {
   "cell_type": "code",
   "execution_count": 3,
   "metadata": {},
   "outputs": [
    {
     "data": {
      "text/plain": [
       "<_csv.reader at 0x7f9211414f90>"
      ]
     },
     "execution_count": 3,
     "metadata": {},
     "output_type": "execute_result"
    }
   ],
   "source": [
    "csvreader"
   ]
  },
  {
   "cell_type": "code",
   "execution_count": 4,
   "metadata": {},
   "outputs": [
    {
     "data": {
      "text/plain": [
       "['iteration']"
      ]
     },
     "execution_count": 4,
     "metadata": {},
     "output_type": "execute_result"
    }
   ],
   "source": [
    "header = []\n",
    "header = next(csvreader)\n",
    "header"
   ]
  },
  {
   "cell_type": "code",
   "execution_count": 5,
   "metadata": {},
   "outputs": [],
   "source": [
    "import pandas as pd\n",
    "import numpy as np"
   ]
  },
  {
   "cell_type": "code",
   "execution_count": 6,
   "metadata": {},
   "outputs": [],
   "source": [
    "df = pd.DataFrame(index=np.arange(8031), columns=np.arange(1))"
   ]
  },
  {
   "cell_type": "code",
   "execution_count": 7,
   "metadata": {},
   "outputs": [
    {
     "data": {
      "text/plain": [
       "nan"
      ]
     },
     "execution_count": 7,
     "metadata": {},
     "output_type": "execute_result"
    }
   ],
   "source": [
    "df.iat[100,0]"
   ]
  },
  {
   "cell_type": "code",
   "execution_count": 8,
   "metadata": {},
   "outputs": [
    {
     "data": {
      "text/plain": [
       "<_csv.reader at 0x7f9211414f90>"
      ]
     },
     "execution_count": 8,
     "metadata": {},
     "output_type": "execute_result"
    }
   ],
   "source": [
    "csvreader"
   ]
  },
  {
   "cell_type": "code",
   "execution_count": 9,
   "metadata": {},
   "outputs": [],
   "source": [
    "rows = []\n",
    "for row in csvreader:\n",
    "        rows.append(row)"
   ]
  },
  {
   "cell_type": "code",
   "execution_count": 10,
   "metadata": {},
   "outputs": [
    {
     "data": {
      "text/plain": [
       "['c(\"A\"',\n",
       " ' \"state\"',\n",
       " ' \"that\\'s\"',\n",
       " ' \"untouchable\"',\n",
       " ' \"like\"',\n",
       " ' \"Elliot\"',\n",
       " ' \"Ness.\")']"
      ]
     },
     "execution_count": 10,
     "metadata": {},
     "output_type": "execute_result"
    }
   ],
   "source": [
    "rows[2]"
   ]
  },
  {
   "cell_type": "code",
   "execution_count": 33,
   "metadata": {},
   "outputs": [],
   "source": [
    "rows[2][0] = rows[2][0][1:]"
   ]
  },
  {
   "cell_type": "code",
   "execution_count": 34,
   "metadata": {},
   "outputs": [
    {
     "data": {
      "text/plain": [
       "'(\"A\"'"
      ]
     },
     "execution_count": 34,
     "metadata": {},
     "output_type": "execute_result"
    }
   ],
   "source": [
    "rows[2][0]"
   ]
  },
  {
   "cell_type": "code",
   "execution_count": 35,
   "metadata": {},
   "outputs": [],
   "source": [
    "str1 = ''.join(rows[2])"
   ]
  },
  {
   "cell_type": "code",
   "execution_count": 36,
   "metadata": {},
   "outputs": [
    {
     "data": {
      "text/plain": [
       "'(\"A\" \"state\" \"that\\'s\" \"untouchable\" \"like\" \"Elliot\" \"Ness.\")'"
      ]
     },
     "execution_count": 36,
     "metadata": {},
     "output_type": "execute_result"
    }
   ],
   "source": [
    "str1"
   ]
  },
  {
   "cell_type": "code",
   "execution_count": 37,
   "metadata": {},
   "outputs": [],
   "source": [
    "language = \"en\""
   ]
  },
  {
   "cell_type": "code",
   "execution_count": 27,
   "metadata": {},
   "outputs": [],
   "source": [
    "from gtts import gTTS\n",
    "import os"
   ]
  },
  {
   "cell_type": "code",
   "execution_count": 28,
   "metadata": {},
   "outputs": [
    {
     "data": {
      "text/plain": [
       "32512"
      ]
     },
     "execution_count": 28,
     "metadata": {},
     "output_type": "execute_result"
    }
   ],
   "source": [
    "output = gTTS(text = str1, lang = language, slow = True)\n",
    "output.save(\"output.mp3\")\n",
    "os.system(\"start output.mp3\")"
   ]
  },
  {
   "cell_type": "code",
   "execution_count": 15,
   "metadata": {
    "collapsed": true,
    "jupyter": {
     "outputs_hidden": true
    }
   },
   "outputs": [
    {
     "name": "stdout",
     "output_type": "stream",
     "text": [
      "Requirement already satisfied: pyttsx3 in /Library/Frameworks/Python.framework/Versions/3.8/lib/python3.8/site-packages (2.90)\n",
      "Requirement already satisfied: pyobjc>=2.4 in /Library/Frameworks/Python.framework/Versions/3.8/lib/python3.8/site-packages (from pyttsx3) (8.3)\n",
      "Requirement already satisfied: pyobjc-framework-CoreMedia==8.3 in /Library/Frameworks/Python.framework/Versions/3.8/lib/python3.8/site-packages (from pyobjc>=2.4->pyttsx3) (8.3)\n",
      "Requirement already satisfied: pyobjc-framework-CoreHaptics==8.3 in /Library/Frameworks/Python.framework/Versions/3.8/lib/python3.8/site-packages (from pyobjc>=2.4->pyttsx3) (8.3)\n",
      "Requirement already satisfied: pyobjc-framework-Quartz==8.3 in /Library/Frameworks/Python.framework/Versions/3.8/lib/python3.8/site-packages (from pyobjc>=2.4->pyttsx3) (8.3)\n",
      "Requirement already satisfied: pyobjc-framework-AppleScriptObjC==8.3 in /Library/Frameworks/Python.framework/Versions/3.8/lib/python3.8/site-packages (from pyobjc>=2.4->pyttsx3) (8.3)\n",
      "Requirement already satisfied: pyobjc-framework-GameKit==8.3 in /Library/Frameworks/Python.framework/Versions/3.8/lib/python3.8/site-packages (from pyobjc>=2.4->pyttsx3) (8.3)\n",
      "Requirement already satisfied: pyobjc-framework-LinkPresentation==8.3 in /Library/Frameworks/Python.framework/Versions/3.8/lib/python3.8/site-packages (from pyobjc>=2.4->pyttsx3) (8.3)\n",
      "Requirement already satisfied: pyobjc-framework-CoreText==8.3 in /Library/Frameworks/Python.framework/Versions/3.8/lib/python3.8/site-packages (from pyobjc>=2.4->pyttsx3) (8.3)\n",
      "Requirement already satisfied: pyobjc-framework-iTunesLibrary==8.3 in /Library/Frameworks/Python.framework/Versions/3.8/lib/python3.8/site-packages (from pyobjc>=2.4->pyttsx3) (8.3)\n",
      "Requirement already satisfied: pyobjc-framework-InputMethodKit==8.3 in /Library/Frameworks/Python.framework/Versions/3.8/lib/python3.8/site-packages (from pyobjc>=2.4->pyttsx3) (8.3)\n",
      "Requirement already satisfied: pyobjc-framework-Collaboration==8.3 in /Library/Frameworks/Python.framework/Versions/3.8/lib/python3.8/site-packages (from pyobjc>=2.4->pyttsx3) (8.3)\n",
      "Requirement already satisfied: pyobjc-framework-StoreKit==8.3 in /Library/Frameworks/Python.framework/Versions/3.8/lib/python3.8/site-packages (from pyobjc>=2.4->pyttsx3) (8.3)\n",
      "Requirement already satisfied: pyobjc-framework-CoreBluetooth==8.3 in /Library/Frameworks/Python.framework/Versions/3.8/lib/python3.8/site-packages (from pyobjc>=2.4->pyttsx3) (8.3)\n",
      "Requirement already satisfied: pyobjc-framework-VideoSubscriberAccount==8.3 in /Library/Frameworks/Python.framework/Versions/3.8/lib/python3.8/site-packages (from pyobjc>=2.4->pyttsx3) (8.3)\n",
      "Requirement already satisfied: pyobjc-framework-FinderSync==8.3 in /Library/Frameworks/Python.framework/Versions/3.8/lib/python3.8/site-packages (from pyobjc>=2.4->pyttsx3) (8.3)\n",
      "Requirement already satisfied: pyobjc-framework-EventKit==8.3 in /Library/Frameworks/Python.framework/Versions/3.8/lib/python3.8/site-packages (from pyobjc>=2.4->pyttsx3) (8.3)\n",
      "Requirement already satisfied: pyobjc-framework-OpenDirectory==8.3 in /Library/Frameworks/Python.framework/Versions/3.8/lib/python3.8/site-packages (from pyobjc>=2.4->pyttsx3) (8.3)\n",
      "Requirement already satisfied: pyobjc-framework-GameController==8.3 in /Library/Frameworks/Python.framework/Versions/3.8/lib/python3.8/site-packages (from pyobjc>=2.4->pyttsx3) (8.3)\n",
      "Requirement already satisfied: pyobjc-framework-MediaLibrary==8.3 in /Library/Frameworks/Python.framework/Versions/3.8/lib/python3.8/site-packages (from pyobjc>=2.4->pyttsx3) (8.3)\n",
      "Requirement already satisfied: pyobjc-framework-SceneKit==8.3 in /Library/Frameworks/Python.framework/Versions/3.8/lib/python3.8/site-packages (from pyobjc>=2.4->pyttsx3) (8.3)\n",
      "Requirement already satisfied: pyobjc-framework-ScriptingBridge==8.3 in /Library/Frameworks/Python.framework/Versions/3.8/lib/python3.8/site-packages (from pyobjc>=2.4->pyttsx3) (8.3)\n",
      "Requirement already satisfied: pyobjc-framework-GameplayKit==8.3 in /Library/Frameworks/Python.framework/Versions/3.8/lib/python3.8/site-packages (from pyobjc>=2.4->pyttsx3) (8.3)\n",
      "Requirement already satisfied: pyobjc-framework-SecurityInterface==8.3 in /Library/Frameworks/Python.framework/Versions/3.8/lib/python3.8/site-packages (from pyobjc>=2.4->pyttsx3) (8.3)\n",
      "Requirement already satisfied: pyobjc-framework-Metal==8.3 in /Library/Frameworks/Python.framework/Versions/3.8/lib/python3.8/site-packages (from pyobjc>=2.4->pyttsx3) (8.3)\n",
      "Requirement already satisfied: pyobjc-framework-AppleScriptKit==8.3 in /Library/Frameworks/Python.framework/Versions/3.8/lib/python3.8/site-packages (from pyobjc>=2.4->pyttsx3) (8.3)\n",
      "Requirement already satisfied: pyobjc-framework-SystemConfiguration==8.3 in /Library/Frameworks/Python.framework/Versions/3.8/lib/python3.8/site-packages (from pyobjc>=2.4->pyttsx3) (8.3)\n",
      "Requirement already satisfied: pyobjc-framework-CFNetwork==8.3 in /Library/Frameworks/Python.framework/Versions/3.8/lib/python3.8/site-packages (from pyobjc>=2.4->pyttsx3) (8.3)\n",
      "Requirement already satisfied: pyobjc-framework-PushKit==8.3 in /Library/Frameworks/Python.framework/Versions/3.8/lib/python3.8/site-packages (from pyobjc>=2.4->pyttsx3) (8.3)\n",
      "Requirement already satisfied: pyobjc-framework-UserNotifications==8.3 in /Library/Frameworks/Python.framework/Versions/3.8/lib/python3.8/site-packages (from pyobjc>=2.4->pyttsx3) (8.3)\n",
      "Requirement already satisfied: pyobjc-framework-MediaAccessibility==8.3 in /Library/Frameworks/Python.framework/Versions/3.8/lib/python3.8/site-packages (from pyobjc>=2.4->pyttsx3) (8.3)\n",
      "Requirement already satisfied: pyobjc-framework-ExternalAccessory==8.3 in /Library/Frameworks/Python.framework/Versions/3.8/lib/python3.8/site-packages (from pyobjc>=2.4->pyttsx3) (8.3)\n",
      "Requirement already satisfied: pyobjc-framework-InstantMessage==8.3 in /Library/Frameworks/Python.framework/Versions/3.8/lib/python3.8/site-packages (from pyobjc>=2.4->pyttsx3) (8.3)\n",
      "Requirement already satisfied: pyobjc-framework-Speech==8.3 in /Library/Frameworks/Python.framework/Versions/3.8/lib/python3.8/site-packages (from pyobjc>=2.4->pyttsx3) (8.3)\n",
      "Requirement already satisfied: pyobjc-framework-QuickLookThumbnailing==8.3 in /Library/Frameworks/Python.framework/Versions/3.8/lib/python3.8/site-packages (from pyobjc>=2.4->pyttsx3) (8.3)\n",
      "Requirement already satisfied: pyobjc-framework-libdispatch==8.3 in /Library/Frameworks/Python.framework/Versions/3.8/lib/python3.8/site-packages (from pyobjc>=2.4->pyttsx3) (8.3)\n",
      "Requirement already satisfied: pyobjc-framework-Photos==8.3 in /Library/Frameworks/Python.framework/Versions/3.8/lib/python3.8/site-packages (from pyobjc>=2.4->pyttsx3) (8.3)\n",
      "Requirement already satisfied: pyobjc-framework-IMServicePlugIn==8.3 in /Library/Frameworks/Python.framework/Versions/3.8/lib/python3.8/site-packages (from pyobjc>=2.4->pyttsx3) (8.3)\n",
      "Requirement already satisfied: pyobjc-framework-SafariServices==8.3 in /Library/Frameworks/Python.framework/Versions/3.8/lib/python3.8/site-packages (from pyobjc>=2.4->pyttsx3) (8.3)\n",
      "Requirement already satisfied: pyobjc-framework-NetFS==8.3 in /Library/Frameworks/Python.framework/Versions/3.8/lib/python3.8/site-packages (from pyobjc>=2.4->pyttsx3) (8.3)\n",
      "Requirement already satisfied: pyobjc-core==8.3 in /Library/Frameworks/Python.framework/Versions/3.8/lib/python3.8/site-packages (from pyobjc>=2.4->pyttsx3) (8.3)\n",
      "Requirement already satisfied: pyobjc-framework-PreferencePanes==8.3 in /Library/Frameworks/Python.framework/Versions/3.8/lib/python3.8/site-packages (from pyobjc>=2.4->pyttsx3) (8.3)\n",
      "Requirement already satisfied: pyobjc-framework-NaturalLanguage==8.3 in /Library/Frameworks/Python.framework/Versions/3.8/lib/python3.8/site-packages (from pyobjc>=2.4->pyttsx3) (8.3)\n",
      "Requirement already satisfied: pyobjc-framework-AutomaticAssessmentConfiguration==8.3 in /Library/Frameworks/Python.framework/Versions/3.8/lib/python3.8/site-packages (from pyobjc>=2.4->pyttsx3) (8.3)\n",
      "Requirement already satisfied: pyobjc-framework-MediaToolbox==8.3 in /Library/Frameworks/Python.framework/Versions/3.8/lib/python3.8/site-packages (from pyobjc>=2.4->pyttsx3) (8.3)\n",
      "Requirement already satisfied: pyobjc-framework-ContactsUI==8.3 in /Library/Frameworks/Python.framework/Versions/3.8/lib/python3.8/site-packages (from pyobjc>=2.4->pyttsx3) (8.3)\n",
      "Requirement already satisfied: pyobjc-framework-BusinessChat==8.3 in /Library/Frameworks/Python.framework/Versions/3.8/lib/python3.8/site-packages (from pyobjc>=2.4->pyttsx3) (8.3)\n",
      "Requirement already satisfied: pyobjc-framework-Network==8.3 in /Library/Frameworks/Python.framework/Versions/3.8/lib/python3.8/site-packages (from pyobjc>=2.4->pyttsx3) (8.3)\n",
      "Requirement already satisfied: pyobjc-framework-CoreAudioKit==8.3 in /Library/Frameworks/Python.framework/Versions/3.8/lib/python3.8/site-packages (from pyobjc>=2.4->pyttsx3) (8.3)\n",
      "Requirement already satisfied: pyobjc-framework-CryptoTokenKit==8.3 in /Library/Frameworks/Python.framework/Versions/3.8/lib/python3.8/site-packages (from pyobjc>=2.4->pyttsx3) (8.3)\n",
      "Requirement already satisfied: pyobjc-framework-MediaPlayer==8.3 in /Library/Frameworks/Python.framework/Versions/3.8/lib/python3.8/site-packages (from pyobjc>=2.4->pyttsx3) (8.3)\n",
      "Requirement already satisfied: pyobjc-framework-CoreAudio==8.3 in /Library/Frameworks/Python.framework/Versions/3.8/lib/python3.8/site-packages (from pyobjc>=2.4->pyttsx3) (8.3)\n",
      "Requirement already satisfied: pyobjc-framework-ApplicationServices==8.3 in /Library/Frameworks/Python.framework/Versions/3.8/lib/python3.8/site-packages (from pyobjc>=2.4->pyttsx3) (8.3)\n",
      "Requirement already satisfied: pyobjc-framework-ColorSync==8.3 in /Library/Frameworks/Python.framework/Versions/3.8/lib/python3.8/site-packages (from pyobjc>=2.4->pyttsx3) (8.3)\n",
      "Requirement already satisfied: pyobjc-framework-CoreML==8.3 in /Library/Frameworks/Python.framework/Versions/3.8/lib/python3.8/site-packages (from pyobjc>=2.4->pyttsx3) (8.3)\n",
      "Requirement already satisfied: pyobjc-framework-DiscRecording==8.3 in /Library/Frameworks/Python.framework/Versions/3.8/lib/python3.8/site-packages (from pyobjc>=2.4->pyttsx3) (8.3)\n",
      "Requirement already satisfied: pyobjc-framework-SoundAnalysis==8.3 in /Library/Frameworks/Python.framework/Versions/3.8/lib/python3.8/site-packages (from pyobjc>=2.4->pyttsx3) (8.3)\n",
      "Requirement already satisfied: pyobjc-framework-CloudKit==8.3 in /Library/Frameworks/Python.framework/Versions/3.8/lib/python3.8/site-packages (from pyobjc>=2.4->pyttsx3) (8.3)\n",
      "Requirement already satisfied: pyobjc-framework-NetworkExtension==8.3 in /Library/Frameworks/Python.framework/Versions/3.8/lib/python3.8/site-packages (from pyobjc>=2.4->pyttsx3) (8.3)\n",
      "Requirement already satisfied: pyobjc-framework-DVDPlayback==8.3 in /Library/Frameworks/Python.framework/Versions/3.8/lib/python3.8/site-packages (from pyobjc>=2.4->pyttsx3) (8.3)\n",
      "Requirement already satisfied: pyobjc-framework-SyncServices==8.3 in /Library/Frameworks/Python.framework/Versions/3.8/lib/python3.8/site-packages (from pyobjc>=2.4->pyttsx3) (8.3)\n",
      "Requirement already satisfied: pyobjc-framework-ImageCaptureCore==8.3 in /Library/Frameworks/Python.framework/Versions/3.8/lib/python3.8/site-packages (from pyobjc>=2.4->pyttsx3) (8.3)\n",
      "Requirement already satisfied: pyobjc-framework-ServiceManagement==8.3 in /Library/Frameworks/Python.framework/Versions/3.8/lib/python3.8/site-packages (from pyobjc>=2.4->pyttsx3) (8.3)\n",
      "Requirement already satisfied: pyobjc-framework-Accounts==8.3 in /Library/Frameworks/Python.framework/Versions/3.8/lib/python3.8/site-packages (from pyobjc>=2.4->pyttsx3) (8.3)\n",
      "Requirement already satisfied: pyobjc-framework-MetalPerformanceShaders==8.3 in /Library/Frameworks/Python.framework/Versions/3.8/lib/python3.8/site-packages (from pyobjc>=2.4->pyttsx3) (8.3)\n",
      "Requirement already satisfied: pyobjc-framework-DiskArbitration==8.3 in /Library/Frameworks/Python.framework/Versions/3.8/lib/python3.8/site-packages (from pyobjc>=2.4->pyttsx3) (8.3)\n",
      "Requirement already satisfied: pyobjc-framework-CoreLocation==8.3 in /Library/Frameworks/Python.framework/Versions/3.8/lib/python3.8/site-packages (from pyobjc>=2.4->pyttsx3) (8.3)\n",
      "Requirement already satisfied: pyobjc-framework-NotificationCenter==8.3 in /Library/Frameworks/Python.framework/Versions/3.8/lib/python3.8/site-packages (from pyobjc>=2.4->pyttsx3) (8.3)\n",
      "Requirement already satisfied: pyobjc-framework-AdSupport==8.3 in /Library/Frameworks/Python.framework/Versions/3.8/lib/python3.8/site-packages (from pyobjc>=2.4->pyttsx3) (8.3)\n",
      "Requirement already satisfied: pyobjc-framework-CoreSpotlight==8.3 in /Library/Frameworks/Python.framework/Versions/3.8/lib/python3.8/site-packages (from pyobjc>=2.4->pyttsx3) (8.3)\n",
      "Requirement already satisfied: pyobjc-framework-InstallerPlugins==8.3 in /Library/Frameworks/Python.framework/Versions/3.8/lib/python3.8/site-packages (from pyobjc>=2.4->pyttsx3) (8.3)\n",
      "Requirement already satisfied: pyobjc-framework-AddressBook==8.3 in /Library/Frameworks/Python.framework/Versions/3.8/lib/python3.8/site-packages (from pyobjc>=2.4->pyttsx3) (8.3)\n",
      "Requirement already satisfied: pyobjc-framework-Contacts==8.3 in /Library/Frameworks/Python.framework/Versions/3.8/lib/python3.8/site-packages (from pyobjc>=2.4->pyttsx3) (8.3)\n",
      "Requirement already satisfied: pyobjc-framework-WebKit==8.3 in /Library/Frameworks/Python.framework/Versions/3.8/lib/python3.8/site-packages (from pyobjc>=2.4->pyttsx3) (8.3)\n",
      "Requirement already satisfied: pyobjc-framework-Vision==8.3 in /Library/Frameworks/Python.framework/Versions/3.8/lib/python3.8/site-packages (from pyobjc>=2.4->pyttsx3) (8.3)\n",
      "Requirement already satisfied: pyobjc-framework-ExecutionPolicy==8.3 in /Library/Frameworks/Python.framework/Versions/3.8/lib/python3.8/site-packages (from pyobjc>=2.4->pyttsx3) (8.3)\n",
      "Requirement already satisfied: pyobjc-framework-IOSurface==8.3 in /Library/Frameworks/Python.framework/Versions/3.8/lib/python3.8/site-packages (from pyobjc>=2.4->pyttsx3) (8.3)\n",
      "Requirement already satisfied: pyobjc-framework-FileProvider==8.3 in /Library/Frameworks/Python.framework/Versions/3.8/lib/python3.8/site-packages (from pyobjc>=2.4->pyttsx3) (8.3)\n",
      "Requirement already satisfied: pyobjc-framework-SearchKit==8.3 in /Library/Frameworks/Python.framework/Versions/3.8/lib/python3.8/site-packages (from pyobjc>=2.4->pyttsx3) (8.3)\n",
      "Requirement already satisfied: pyobjc-framework-AuthenticationServices==8.3 in /Library/Frameworks/Python.framework/Versions/3.8/lib/python3.8/site-packages (from pyobjc>=2.4->pyttsx3) (8.3)\n",
      "Requirement already satisfied: pyobjc-framework-MultipeerConnectivity==8.3 in /Library/Frameworks/Python.framework/Versions/3.8/lib/python3.8/site-packages (from pyobjc>=2.4->pyttsx3) (8.3)\n",
      "Requirement already satisfied: pyobjc-framework-CoreMediaIO==8.3 in /Library/Frameworks/Python.framework/Versions/3.8/lib/python3.8/site-packages (from pyobjc>=2.4->pyttsx3) (8.3)\n",
      "Requirement already satisfied: pyobjc-framework-Automator==8.3 in /Library/Frameworks/Python.framework/Versions/3.8/lib/python3.8/site-packages (from pyobjc>=2.4->pyttsx3) (8.3)\n",
      "Requirement already satisfied: pyobjc-framework-PhotosUI==8.3 in /Library/Frameworks/Python.framework/Versions/3.8/lib/python3.8/site-packages (from pyobjc>=2.4->pyttsx3) (8.3)\n",
      "Requirement already satisfied: pyobjc-framework-SecurityFoundation==8.3 in /Library/Frameworks/Python.framework/Versions/3.8/lib/python3.8/site-packages (from pyobjc>=2.4->pyttsx3) (8.3)\n",
      "Requirement already satisfied: pyobjc-framework-CoreMotion==8.3 in /Library/Frameworks/Python.framework/Versions/3.8/lib/python3.8/site-packages (from pyobjc>=2.4->pyttsx3) (8.3)\n",
      "Requirement already satisfied: pyobjc-framework-VideoToolbox==8.3 in /Library/Frameworks/Python.framework/Versions/3.8/lib/python3.8/site-packages (from pyobjc>=2.4->pyttsx3) (8.3)\n",
      "Requirement already satisfied: pyobjc-framework-AVFoundation==8.3 in /Library/Frameworks/Python.framework/Versions/3.8/lib/python3.8/site-packages (from pyobjc>=2.4->pyttsx3) (8.3)\n",
      "Requirement already satisfied: pyobjc-framework-SystemExtensions==8.3 in /Library/Frameworks/Python.framework/Versions/3.8/lib/python3.8/site-packages (from pyobjc>=2.4->pyttsx3) (8.3)\n",
      "Requirement already satisfied: pyobjc-framework-MetalKit==8.3 in /Library/Frameworks/Python.framework/Versions/3.8/lib/python3.8/site-packages (from pyobjc>=2.4->pyttsx3) (8.3)\n",
      "Requirement already satisfied: pyobjc-framework-LaunchServices==8.3 in /Library/Frameworks/Python.framework/Versions/3.8/lib/python3.8/site-packages (from pyobjc>=2.4->pyttsx3) (8.3)\n",
      "Requirement already satisfied: pyobjc-framework-CoreWLAN==8.3 in /Library/Frameworks/Python.framework/Versions/3.8/lib/python3.8/site-packages (from pyobjc>=2.4->pyttsx3) (8.3)\n",
      "Requirement already satisfied: pyobjc-framework-OSLog==8.3 in /Library/Frameworks/Python.framework/Versions/3.8/lib/python3.8/site-packages (from pyobjc>=2.4->pyttsx3) (8.3)\n",
      "Requirement already satisfied: pyobjc-framework-GameCenter==8.3 in /Library/Frameworks/Python.framework/Versions/3.8/lib/python3.8/site-packages (from pyobjc>=2.4->pyttsx3) (8.3)\n",
      "Requirement already satisfied: pyobjc-framework-CalendarStore==8.3 in /Library/Frameworks/Python.framework/Versions/3.8/lib/python3.8/site-packages (from pyobjc>=2.4->pyttsx3) (8.3)\n",
      "Requirement already satisfied: pyobjc-framework-ScreenSaver==8.3 in /Library/Frameworks/Python.framework/Versions/3.8/lib/python3.8/site-packages (from pyobjc>=2.4->pyttsx3) (8.3)\n",
      "Requirement already satisfied: pyobjc-framework-LocalAuthentication==8.3 in /Library/Frameworks/Python.framework/Versions/3.8/lib/python3.8/site-packages (from pyobjc>=2.4->pyttsx3) (8.3)\n",
      "Requirement already satisfied: pyobjc-framework-CoreServices==8.3 in /Library/Frameworks/Python.framework/Versions/3.8/lib/python3.8/site-packages (from pyobjc>=2.4->pyttsx3) (8.3)\n",
      "Requirement already satisfied: pyobjc-framework-ExceptionHandling==8.3 in /Library/Frameworks/Python.framework/Versions/3.8/lib/python3.8/site-packages (from pyobjc>=2.4->pyttsx3) (8.3)\n",
      "Requirement already satisfied: pyobjc-framework-Intents==8.3 in /Library/Frameworks/Python.framework/Versions/3.8/lib/python3.8/site-packages (from pyobjc>=2.4->pyttsx3) (8.3)\n",
      "Requirement already satisfied: pyobjc-framework-PencilKit==8.3 in /Library/Frameworks/Python.framework/Versions/3.8/lib/python3.8/site-packages (from pyobjc>=2.4->pyttsx3) (8.3)\n",
      "Requirement already satisfied: pyobjc-framework-DictionaryServices==8.3 in /Library/Frameworks/Python.framework/Versions/3.8/lib/python3.8/site-packages (from pyobjc>=2.4->pyttsx3) (8.3)\n",
      "Requirement already satisfied: pyobjc-framework-CoreMIDI==8.3 in /Library/Frameworks/Python.framework/Versions/3.8/lib/python3.8/site-packages (from pyobjc>=2.4->pyttsx3) (8.3)\n",
      "Requirement already satisfied: pyobjc-framework-LatentSemanticMapping==8.3 in /Library/Frameworks/Python.framework/Versions/3.8/lib/python3.8/site-packages (from pyobjc>=2.4->pyttsx3) (8.3)\n",
      "Requirement already satisfied: pyobjc-framework-Cocoa==8.3 in /Library/Frameworks/Python.framework/Versions/3.8/lib/python3.8/site-packages (from pyobjc>=2.4->pyttsx3) (8.3)\n",
      "Requirement already satisfied: pyobjc-framework-Social==8.3 in /Library/Frameworks/Python.framework/Versions/3.8/lib/python3.8/site-packages (from pyobjc>=2.4->pyttsx3) (8.3)\n",
      "Requirement already satisfied: pyobjc-framework-FileProviderUI==8.3 in /Library/Frameworks/Python.framework/Versions/3.8/lib/python3.8/site-packages (from pyobjc>=2.4->pyttsx3) (8.3)\n",
      "Requirement already satisfied: pyobjc-framework-DiscRecordingUI==8.3 in /Library/Frameworks/Python.framework/Versions/3.8/lib/python3.8/site-packages (from pyobjc>=2.4->pyttsx3) (8.3)\n",
      "Requirement already satisfied: pyobjc-framework-SpriteKit==8.3 in /Library/Frameworks/Python.framework/Versions/3.8/lib/python3.8/site-packages (from pyobjc>=2.4->pyttsx3) (8.3)\n",
      "Requirement already satisfied: pyobjc-framework-CoreData==8.3 in /Library/Frameworks/Python.framework/Versions/3.8/lib/python3.8/site-packages (from pyobjc>=2.4->pyttsx3) (8.3)\n",
      "Requirement already satisfied: pyobjc-framework-AudioVideoBridging==8.3 in /Library/Frameworks/Python.framework/Versions/3.8/lib/python3.8/site-packages (from pyobjc>=2.4->pyttsx3) (8.3)\n",
      "Requirement already satisfied: pyobjc-framework-DeviceCheck==8.3 in /Library/Frameworks/Python.framework/Versions/3.8/lib/python3.8/site-packages (from pyobjc>=2.4->pyttsx3) (8.3)\n",
      "Requirement already satisfied: pyobjc-framework-MapKit==8.3 in /Library/Frameworks/Python.framework/Versions/3.8/lib/python3.8/site-packages (from pyobjc>=2.4->pyttsx3) (8.3)\n",
      "Requirement already satisfied: pyobjc-framework-FSEvents==8.3 in /Library/Frameworks/Python.framework/Versions/3.8/lib/python3.8/site-packages (from pyobjc>=2.4->pyttsx3) (8.3)\n",
      "Requirement already satisfied: pyobjc-framework-AVKit==8.3 in /Library/Frameworks/Python.framework/Versions/3.8/lib/python3.8/site-packages (from pyobjc>=2.4->pyttsx3) (8.3)\n",
      "Requirement already satisfied: pyobjc-framework-Security==8.3 in /Library/Frameworks/Python.framework/Versions/3.8/lib/python3.8/site-packages (from pyobjc>=2.4->pyttsx3) (8.3)\n",
      "Requirement already satisfied: pyobjc-framework-ModelIO==8.3 in /Library/Frameworks/Python.framework/Versions/3.8/lib/python3.8/site-packages (from pyobjc>=2.4->pyttsx3) (8.3)\n",
      "Requirement already satisfied: pyobjc-framework-OSAKit==8.3 in /Library/Frameworks/Python.framework/Versions/3.8/lib/python3.8/site-packages (from pyobjc>=2.4->pyttsx3) (8.3)\n",
      "Note: you may need to restart the kernel to use updated packages.\n"
     ]
    }
   ],
   "source": [
    "pip install pyttsx3"
   ]
  },
  {
   "cell_type": "code",
   "execution_count": 16,
   "metadata": {},
   "outputs": [
    {
     "name": "stdout",
     "output_type": "stream",
     "text": [
      "Requirement already satisfied: pip in /Library/Frameworks/Python.framework/Versions/3.8/lib/python3.8/site-packages (22.0.3)\n",
      "Note: you may need to restart the kernel to use updated packages.\n"
     ]
    }
   ],
   "source": [
    "pip install --upgrade pip"
   ]
  },
  {
   "cell_type": "code",
   "execution_count": 29,
   "metadata": {},
   "outputs": [],
   "source": [
    "import random\n",
    "import pyttsx3"
   ]
  },
  {
   "cell_type": "code",
   "execution_count": 25,
   "metadata": {},
   "outputs": [
    {
     "name": "stdout",
     "output_type": "stream",
     "text": [
      "Collecting comtypes\n",
      "  Downloading comtypes-1.1.11-py2.py3-none-any.whl (167 kB)\n",
      "\u001b[2K     \u001b[90m━━━━━━━━━━━━━━━━━━━━━━━━━━━━━━━━━━━━━━━\u001b[0m \u001b[32m167.4/167.4 KB\u001b[0m \u001b[31m1.1 MB/s\u001b[0m eta \u001b[36m0:00:00\u001b[0ma \u001b[36m0:00:01\u001b[0m\n",
      "\u001b[?25hInstalling collected packages: comtypes\n",
      "Successfully installed comtypes-1.1.11\n",
      "Note: you may need to restart the kernel to use updated packages.\n"
     ]
    }
   ],
   "source": [
    "pip install comtypes"
   ]
  },
  {
   "cell_type": "code",
   "execution_count": 16,
   "metadata": {},
   "outputs": [],
   "source": [
    "engine = pyttsx3.init()"
   ]
  },
  {
   "cell_type": "code",
   "execution_count": 17,
   "metadata": {},
   "outputs": [],
   "source": [
    "rate = engine.getProperty(\"rate\")"
   ]
  },
  {
   "cell_type": "code",
   "execution_count": 18,
   "metadata": {},
   "outputs": [
    {
     "data": {
      "text/plain": [
       "200.0"
      ]
     },
     "execution_count": 18,
     "metadata": {},
     "output_type": "execute_result"
    }
   ],
   "source": [
    "rate"
   ]
  },
  {
   "cell_type": "code",
   "execution_count": 30,
   "metadata": {},
   "outputs": [
    {
     "data": {
      "text/plain": [
       "' \"state\" \"that\\'s\" \"untouchable\" \"like\" \"Elliot\" \"Ness.\")'"
      ]
     },
     "execution_count": 30,
     "metadata": {},
     "output_type": "execute_result"
    }
   ],
   "source": [
    "str1"
   ]
  },
  {
   "cell_type": "code",
   "execution_count": 40,
   "metadata": {},
   "outputs": [],
   "source": [
    "engine.setProperty(\"rate\", 250)"
   ]
  },
  {
   "cell_type": "code",
   "execution_count": 41,
   "metadata": {},
   "outputs": [],
   "source": [
    "engine.say(str1)\n",
    "engine.runAndWait()"
   ]
  },
  {
   "cell_type": "code",
   "execution_count": 23,
   "metadata": {},
   "outputs": [
    {
     "data": {
      "text/plain": [
       "'c(\"A\"'"
      ]
     },
     "execution_count": 23,
     "metadata": {},
     "output_type": "execute_result"
    }
   ],
   "source": [
    "rows[2][0]"
   ]
  },
  {
   "cell_type": "code",
   "execution_count": 24,
   "metadata": {},
   "outputs": [
    {
     "data": {
      "text/plain": [
       "[' \"state\"',\n",
       " ' \"that\\'s\"',\n",
       " ' \"untouchable\"',\n",
       " ' \"like\"',\n",
       " ' \"Elliot\"',\n",
       " ' \"Ness.\")']"
      ]
     },
     "execution_count": 24,
     "metadata": {},
     "output_type": "execute_result"
    }
   ],
   "source": [
    "rows[2][1:]"
   ]
  }
 ],
 "metadata": {
  "kernelspec": {
   "display_name": "Python 3",
   "language": "python",
   "name": "python3"
  },
  "language_info": {
   "codemirror_mode": {
    "name": "ipython",
    "version": 3
   },
   "file_extension": ".py",
   "mimetype": "text/x-python",
   "name": "python",
   "nbconvert_exporter": "python",
   "pygments_lexer": "ipython3",
   "version": "3.8.3"
  }
 },
 "nbformat": 4,
 "nbformat_minor": 4
}
