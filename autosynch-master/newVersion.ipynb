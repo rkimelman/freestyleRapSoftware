{
 "cells": [
  {
   "cell_type": "code",
   "execution_count": 10,
   "metadata": {},
   "outputs": [
    {
     "name": "stdout",
     "output_type": "stream",
     "text": [
      "Collecting msaf==0.1.70\n",
      "  Using cached msaf-0.1.70-py3-none-any.whl (531 kB)\n",
      "Collecting num2words==0.5.10\n",
      "  Using cached num2words-0.5.10-py3-none-any.whl (101 kB)\n",
      "Collecting numpy==1.18.1\n",
      "  Using cached numpy-1.18.1-cp38-cp38-macosx_10_9_x86_64.whl (15.2 MB)\n",
      "Collecting praat-parselmouth==0.3.3\n",
      "  Using cached praat_parselmouth-0.3.3-cp38-cp38-macosx_10_9_x86_64.whl (8.1 MB)\n",
      "Requirement already satisfied: PyAudio==0.2.11 in /Library/Frameworks/Python.framework/Versions/3.8/lib/python3.8/site-packages (from -r requirements.txt (line 5)) (0.2.11)\n",
      "Collecting PyYAML==5.4.1\n",
      "  Using cached PyYAML-5.4.1-cp38-cp38-macosx_10_9_x86_64.whl (253 kB)\n",
      "Collecting scipy==1.2.0\n",
      "  Using cached scipy-1.2.0.tar.gz (23.3 MB)\n",
      "  Preparing metadata (setup.py) ... \u001b[?25ldone\n",
      "\u001b[?25hCollecting swaglyrics==1.2.0\n",
      "  Using cached swaglyrics-1.2.0-py3-none-any.whl (14 kB)\n",
      "\u001b[31mERROR: Could not find a version that satisfies the requirement torch==1.3.0 (from versions: 1.4.0, 1.5.0, 1.5.1, 1.6.0, 1.7.0, 1.7.1, 1.8.0, 1.8.1, 1.9.0, 1.9.1, 1.10.0, 1.10.1, 1.10.2, 1.11.0)\u001b[0m\u001b[31m\n",
      "\u001b[0m\u001b[31mERROR: No matching distribution found for torch==1.3.0\u001b[0m\u001b[31m\n",
      "\u001b[0m\u001b[33mWARNING: You are using pip version 22.0.3; however, version 22.0.4 is available.\n",
      "You should consider upgrading via the '/Library/Frameworks/Python.framework/Versions/3.8/bin/python3.8 -m pip install --upgrade pip' command.\u001b[0m\u001b[33m\n",
      "\u001b[0m"
     ]
    }
   ],
   "source": [
    "! pip install -r requirements.txt"
   ]
  },
  {
   "cell_type": "code",
   "execution_count": 8,
   "metadata": {
    "scrolled": false
   },
   "outputs": [
    {
     "name": "stdout",
     "output_type": "stream",
     "text": [
      "Requirement already satisfied: torch in /Library/Frameworks/Python.framework/Versions/3.8/lib/python3.8/site-packages (1.10.2)\n",
      "Requirement already satisfied: typing-extensions in /Library/Frameworks/Python.framework/Versions/3.8/lib/python3.8/site-packages (from torch) (4.0.1)\n",
      "\u001b[33mWARNING: You are using pip version 22.0.3; however, version 22.0.4 is available.\n",
      "You should consider upgrading via the '/Library/Frameworks/Python.framework/Versions/3.8/bin/python3.8 -m pip install --upgrade pip' command.\u001b[0m\u001b[33m\n",
      "\u001b[0m"
     ]
    }
   ],
   "source": [
    "!pip install torch"
   ]
  },
  {
   "cell_type": "code",
   "execution_count": 12,
   "metadata": {},
   "outputs": [
    {
     "name": "stdout",
     "output_type": "stream",
     "text": [
      "\u001b[31mERROR: Could not find a version that satisfies the requirement yaml (from versions: none)\u001b[0m\u001b[31m\n",
      "\u001b[0m\u001b[31mERROR: No matching distribution found for yaml\u001b[0m\u001b[31m\n",
      "\u001b[0m\u001b[33mWARNING: You are using pip version 22.0.3; however, version 22.0.4 is available.\n",
      "You should consider upgrading via the '/Library/Frameworks/Python.framework/Versions/3.8/bin/python3.8 -m pip install --upgrade pip' command.\u001b[0m\u001b[33m\n",
      "\u001b[0mNote: you may need to restart the kernel to use updated packages.\n"
     ]
    }
   ],
   "source": [
    "pip install yaml"
   ]
  },
  {
   "cell_type": "code",
   "execution_count": 11,
   "metadata": {},
   "outputs": [
    {
     "ename": "ModuleNotFoundError",
     "evalue": "No module named 'yaml'",
     "output_type": "error",
     "traceback": [
      "\u001b[0;31m---------------------------------------------------------------------------\u001b[0m",
      "\u001b[0;31mModuleNotFoundError\u001b[0m                       Traceback (most recent call last)",
      "\u001b[0;32m<ipython-input-11-3a1c11c5f757>\u001b[0m in \u001b[0;36m<module>\u001b[0;34m\u001b[0m\n\u001b[1;32m      7\u001b[0m \u001b[0;32mimport\u001b[0m \u001b[0mwave\u001b[0m\u001b[0;34m\u001b[0m\u001b[0;34m\u001b[0m\u001b[0m\n\u001b[1;32m      8\u001b[0m \u001b[0;32mimport\u001b[0m \u001b[0mpyaudio\u001b[0m\u001b[0;34m\u001b[0m\u001b[0;34m\u001b[0m\u001b[0m\n\u001b[0;32m----> 9\u001b[0;31m \u001b[0;32mimport\u001b[0m \u001b[0myaml\u001b[0m\u001b[0;34m\u001b[0m\u001b[0;34m\u001b[0m\u001b[0m\n\u001b[0m\u001b[1;32m     10\u001b[0m \u001b[0;34m\u001b[0m\u001b[0m\n\u001b[1;32m     11\u001b[0m \u001b[0;32mfrom\u001b[0m \u001b[0mautosynch\u001b[0m\u001b[0;34m.\u001b[0m\u001b[0malign\u001b[0m \u001b[0;32mimport\u001b[0m \u001b[0mline_align\u001b[0m\u001b[0;34m\u001b[0m\u001b[0;34m\u001b[0m\u001b[0m\n",
      "\u001b[0;31mModuleNotFoundError\u001b[0m: No module named 'yaml'"
     ]
    }
   ],
   "source": [
    "import os\n",
    "import sys\n",
    "import argparse\n",
    "import platform\n",
    "import logging\n",
    "import subprocess\n",
    "import wave\n",
    "import pyaudio\n",
    "import yaml\n",
    "\n",
    "from autosynch.align import line_align\n",
    "\n",
    "def playback(audio_file, align_file, artist=None, song=None, save=None,\n",
    "             chunk_size=1024, verbose=False):\n",
    "    \"\"\"\n",
    "    Plays audio with lyrics displayed at designated timestamp. If align_file is\n",
    "    None, then full alignment process is performed with song and artist data.\n",
    "\n",
    "    :param audio_file: Path to audio file.\n",
    "    :type audio_file: file-like\n",
    "    :param align_file: Path to timestamp yml, if existing.\n",
    "    :type align_file: file-like | None\n",
    "    :param artist: Artist name, if align_file does not exist.\n",
    "    :type artist: str\n",
    "    :param song: Song name, if align_file does not exist.\n",
    "    :type song: str\n",
    "    :param save: Dump directory for yml if align_file is None.\n",
    "    :type save: file-like | None\n",
    "    :param chunk_size: Buffer frames for playback stream.\n",
    "    :type chunk_size: int\n",
    "    :param verbose: Flag for printing logging info during alignment process.\n",
    "    :type verbose: bool\n",
    "    \"\"\"\n",
    "\n",
    "    # Perform alignment if necessary\n",
    "    if align_file is None:\n",
    "        if artist is None or song is None:\n",
    "            raise ValueError('Params song and artist cannot be None if no align_file')\n",
    "        if not verbose:\n",
    "            logging.disable(logging.INFO)\n",
    "\n",
    "        print('Processing...\\n')\n",
    "        print(audio_file)\n",
    "        align = line_align({'song': song, 'artist': artist, 'path': audio_file}, save)[0]['align']\n",
    "    else:\n",
    "        with open(align_file, 'r') as f:\n",
    "            align = yaml.safe_load(f)['align']\n",
    "\n",
    "    # PyAudio setup\n",
    "    wf = wave.open(audio_file, 'rb')\n",
    "    p = pyaudio.PyAudio()\n",
    "    sr = wf.getframerate()\n",
    "\n",
    "    stream = p.open(format=p.get_format_from_width(wf.getsampwidth()),\n",
    "                    channels=wf.getnchannels(),\n",
    "                    rate=sr,\n",
    "                    output=True)\n",
    "\n",
    "    data = wf.readframes(chunk_size)\n",
    "    n_frames = 0\n",
    "\n",
    "    i_align = 0\n",
    "    i_line = 0\n",
    "\n",
    "    # Stream audio and print lyrics\n",
    "    while data != b'':\n",
    "        n_frames += chunk_size\n",
    "        sec = n_frames / sr\n",
    "        if i_align >= len(align) or sec < align[i_align]['start']:\n",
    "            print('# instrumental', end='\\033[K\\r')\n",
    "        else:\n",
    "            print('# {}: {}'.format(align[i_align]['label'], align[i_align]['lines'][i_line]['text']), end='\\033[K\\r')\n",
    "            if sec > align[i_align]['end']:\n",
    "                i_align += 1\n",
    "                i_line = 0\n",
    "            elif sec > align[i_align]['lines'][i_line]['end']:\n",
    "                i_line += 1\n",
    "\n",
    "        stream.write(data)\n",
    "        data = wf.readframes(chunk_size)\n",
    "\n",
    "    stream.stop_stream()\n",
    "    stream.close()\n",
    "\n",
    "    p.terminate()\n",
    "\n",
    "    print()\n",
    "\n",
    "def mp3_to_wav(mp3_file):\n",
    "    \"\"\"\n",
    "    Converts mp3 to wav using SoX. Requires SoX to be installed.\n",
    "\n",
    "    :param mp3_file: Path to mp3 file.\n",
    "    :type mp3_file: file-like\n",
    "    :return wav_file: Path to wav file created.\n",
    "    :rtype: str\n",
    "    \"\"\"\n",
    "\n",
    "    wav_file = os.path.splitext(mp3_file)[0] + '.wav'\n",
    "    subprocess.call(['sox', mp3_file, '-e', 'signed-integer', '-b', '16', wav_file])\n",
    "\n",
    "    return wav_file\n",
    "\n",
    "def main():\n",
    "    parser = argparse.ArgumentParser(description='Play a song synchronized with its lyrics.')\n",
    "\n",
    "    parser.add_argument('audio_file',\n",
    "                        help='path to audio file to process')\n",
    "    parser.add_argument('artist', nargs='?',\n",
    "                        help='artist name: required if --align-file is not set')\n",
    "    parser.add_argument('song', nargs='?',\n",
    "                        help='song title: required if --align-file is not set')\n",
    "    parser.add_argument('-f', '--align-file',\n",
    "                        help='path to previously saved align file')\n",
    "    parser.add_argument('-s', '--save', nargs='?', const=os.getcwd(),\n",
    "                        metavar='SAVE_DIR', help='directory for saving align file')\n",
    "\n",
    "    args = vars(parser.parse_args())\n",
    "\n",
    "    if args['align_file'] is None and (args['artist'] is None or args['song'] is None):\n",
    "        parser.error('artist and song are required if --align-file is not set')\n",
    "\n",
    "    # Convert if mp3\n",
    "    if os.path.splitext(args['audio_file'])[1] == '.mp3':\n",
    "        args['audio_file'] = mp3_to_wav(args['audio_file'])\n",
    "\n",
    "    playback(**args)\n",
    "\n",
    "if __name__ == '__main__':\n",
    "    main()"
   ]
  }
 ],
 "metadata": {
  "kernelspec": {
   "display_name": "Python 3",
   "language": "python",
   "name": "python3"
  },
  "language_info": {
   "codemirror_mode": {
    "name": "ipython",
    "version": 3
   },
   "file_extension": ".py",
   "mimetype": "text/x-python",
   "name": "python",
   "nbconvert_exporter": "python",
   "pygments_lexer": "ipython3",
   "version": "3.8.3"
  }
 },
 "nbformat": 4,
 "nbformat_minor": 4
}
