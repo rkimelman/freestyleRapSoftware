{
 "cells": [
  {
   "cell_type": "code",
   "execution_count": 1,
   "metadata": {},
   "outputs": [],
   "source": [
    "def matrix_multiplication(a, b):\n",
    "    columns_a = len(a[0])\n",
    "    rows_a = len(a)\n",
    "    columns_b = len(b[0])\n",
    "    rows_b = len(b)\n",
    "\n",
    "    result_matrix = [[j for j in range(columns_b)] for i in range(rows_a)]\n",
    "    if columns_a == rows_b:\n",
    "        for x in range(rows_a):\n",
    "            for y in range(columns_b):\n",
    "                sum = 0\n",
    "                for k in range(columns_a):\n",
    "                    sum += a[x][k] * b[k][y]\n",
    "                result_matrix[x][y] = sum\n",
    "        return result_matrix\n",
    "    else:\n",
    "        print(\"error! the columns of the first matrix must be equal with the rows of the second matrix\")\n",
    "        return None"
   ]
  }
 ],
 "metadata": {
  "kernelspec": {
   "display_name": "Python 3",
   "language": "python",
   "name": "python3"
  },
  "language_info": {
   "codemirror_mode": {
    "name": "ipython",
    "version": 3
   },
   "file_extension": ".py",
   "mimetype": "text/x-python",
   "name": "python",
   "nbconvert_exporter": "python",
   "pygments_lexer": "ipython3",
   "version": "3.8.3"
  }
 },
 "nbformat": 4,
 "nbformat_minor": 4
}
