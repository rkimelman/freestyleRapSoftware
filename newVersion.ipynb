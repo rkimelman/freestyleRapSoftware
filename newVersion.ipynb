{
 "cells": [
  {
   "cell_type": "code",
   "execution_count": 2,
   "metadata": {},
   "outputs": [],
   "source": [
    "import time\n",
    "\n",
    "class TimerError(Exception):\n",
    "    \"\"\"A custom exception used to report errors in use of Timer class\"\"\"\n",
    "\n",
    "class Timer:\n",
    "    def __init__(self):\n",
    "        self._start_time = None\n",
    "\n",
    "    def start(self):\n",
    "        \"\"\"Start a new timer\"\"\"\n",
    "        if self._start_time is not None:\n",
    "            raise TimerError(f\"Timer is running. Use .stop() to stop it\")\n",
    "\n",
    "        self._start_time = time.perf_counter()\n",
    "\n",
    "    def stop(self):\n",
    "        \"\"\"Stop the timer, and report the elapsed time\"\"\"\n",
    "        if self._start_time is None:\n",
    "            raise TimerError(f\"Timer is not running. Use .start() to start it\")\n",
    "\n",
    "        elapsed_time = time.perf_counter() - self._start_time\n",
    "        self._start_time = None\n",
    "        print(f\"Elapsed time: {elapsed_time:0.4f} seconds\")"
   ]
  },
  {
   "cell_type": "code",
   "execution_count": 2,
   "metadata": {},
   "outputs": [],
   "source": [
    "t = Timer()"
   ]
  },
  {
   "cell_type": "code",
   "execution_count": 9,
   "metadata": {},
   "outputs": [],
   "source": [
    "engine.endLoop()"
   ]
  },
  {
   "cell_type": "code",
   "execution_count": 5,
   "metadata": {},
   "outputs": [],
   "source": [
    "engine = pyttsx3.init()"
   ]
  },
  {
   "cell_type": "code",
   "execution_count": 7,
   "metadata": {},
   "outputs": [
    {
     "name": "stdout",
     "output_type": "stream",
     "text": [
      "3013.5891437530518\n"
     ]
    }
   ],
   "source": [
    "start_time = time.time()\n",
    "engine.say(\"hello\")\n",
    "engine.runAndWait()\n",
    "print(1000*(time.time() - start_time))"
   ]
  },
  {
   "cell_type": "code",
   "execution_count": 4,
   "metadata": {},
   "outputs": [],
   "source": [
    "import pyttsx3"
   ]
  },
  {
   "cell_type": "code",
   "execution_count": 17,
   "metadata": {},
   "outputs": [],
   "source": [
    "from pedalboard import Pedalboard, Chorus, Reverb\n",
    "from pedalboard.io import AudioFile\n",
    "\n",
    "# Read in a whole audio file:\n",
    "with AudioFile('welcometotheparty2.mp3', 'r') as f:\n",
    "    audio = f.read(f.frames)\n",
    "    samplerate = f.samplerate\n",
    "\n",
    "# Make a Pedalboard object, containing multiple plugins:\n",
    "board = Pedalboard([Chorus(), Reverb(room_size=0.25)])\n",
    "\n",
    "# Run the audio through this pedalboard!\n",
    "effected = board(audio, samplerate)\n",
    "\n",
    "# Write the audio back as a wav file:\n",
    "with AudioFile('welcometotheparty3.mp3', 'w', samplerate, effected.shape[0]) as f:\n",
    "    f.write(effected)"
   ]
  },
  {
   "cell_type": "code",
   "execution_count": 7,
   "metadata": {},
   "outputs": [],
   "source": [
    "pygame.mixer.music.stop()"
   ]
  },
  {
   "cell_type": "code",
   "execution_count": 5,
   "metadata": {},
   "outputs": [
    {
     "data": {
      "text/plain": [
       "<pyttsx3.engine.Engine at 0x7f94d4383490>"
      ]
     },
     "execution_count": 5,
     "metadata": {},
     "output_type": "execute_result"
    }
   ],
   "source": [
    "engine"
   ]
  },
  {
   "cell_type": "code",
   "execution_count": 70,
   "metadata": {},
   "outputs": [
    {
     "ename": "RuntimeError",
     "evalue": "run loop not started",
     "output_type": "error",
     "traceback": [
      "\u001b[0;31m---------------------------------------------------------------------------\u001b[0m",
      "\u001b[0;31mRuntimeError\u001b[0m                              Traceback (most recent call last)",
      "\u001b[0;32m<ipython-input-70-439e3132e37d>\u001b[0m in \u001b[0;36m<module>\u001b[0;34m\u001b[0m\n\u001b[0;32m----> 1\u001b[0;31m \u001b[0mengine\u001b[0m\u001b[0;34m.\u001b[0m\u001b[0mendLoop\u001b[0m\u001b[0;34m(\u001b[0m\u001b[0;34m)\u001b[0m\u001b[0;34m\u001b[0m\u001b[0;34m\u001b[0m\u001b[0m\n\u001b[0m",
      "\u001b[0;32m/Library/Frameworks/Python.framework/Versions/3.8/lib/python3.8/site-packages/pyttsx3/engine.py\u001b[0m in \u001b[0;36mendLoop\u001b[0;34m(self)\u001b[0m\n\u001b[1;32m    203\u001b[0m         \"\"\"\n\u001b[1;32m    204\u001b[0m         \u001b[0;32mif\u001b[0m \u001b[0;32mnot\u001b[0m \u001b[0mself\u001b[0m\u001b[0;34m.\u001b[0m\u001b[0m_inLoop\u001b[0m\u001b[0;34m:\u001b[0m\u001b[0;34m\u001b[0m\u001b[0;34m\u001b[0m\u001b[0m\n\u001b[0;32m--> 205\u001b[0;31m             \u001b[0;32mraise\u001b[0m \u001b[0mRuntimeError\u001b[0m\u001b[0;34m(\u001b[0m\u001b[0;34m'run loop not started'\u001b[0m\u001b[0;34m)\u001b[0m\u001b[0;34m\u001b[0m\u001b[0;34m\u001b[0m\u001b[0m\n\u001b[0m\u001b[1;32m    206\u001b[0m         \u001b[0mself\u001b[0m\u001b[0;34m.\u001b[0m\u001b[0mproxy\u001b[0m\u001b[0;34m.\u001b[0m\u001b[0mendLoop\u001b[0m\u001b[0;34m(\u001b[0m\u001b[0mself\u001b[0m\u001b[0;34m.\u001b[0m\u001b[0m_driverLoop\u001b[0m\u001b[0;34m)\u001b[0m\u001b[0;34m\u001b[0m\u001b[0;34m\u001b[0m\u001b[0m\n\u001b[1;32m    207\u001b[0m         \u001b[0mself\u001b[0m\u001b[0;34m.\u001b[0m\u001b[0m_inLoop\u001b[0m \u001b[0;34m=\u001b[0m \u001b[0;32mFalse\u001b[0m\u001b[0;34m\u001b[0m\u001b[0;34m\u001b[0m\u001b[0m\n",
      "\u001b[0;31mRuntimeError\u001b[0m: run loop not started"
     ]
    }
   ],
   "source": [
    "engine.endLoop()"
   ]
  },
  {
   "cell_type": "code",
   "execution_count": 28,
   "metadata": {},
   "outputs": [],
   "source": [
    "engine.stop()\n",
    "engine2.stop()\n",
    "engine3.stop()\n",
    "engine4.stop()\n",
    "engine5.stop()"
   ]
  },
  {
   "cell_type": "code",
   "execution_count": 61,
   "metadata": {},
   "outputs": [],
   "source": [
    "engine.endLoop()"
   ]
  },
  {
   "cell_type": "code",
   "execution_count": 71,
   "metadata": {},
   "outputs": [
    {
     "ename": "RuntimeError",
     "evalue": "run loop not started",
     "output_type": "error",
     "traceback": [
      "\u001b[0;31m---------------------------------------------------------------------------\u001b[0m",
      "\u001b[0;31mRuntimeError\u001b[0m                              Traceback (most recent call last)",
      "\u001b[0;32m<ipython-input-71-26ce0b424a26>\u001b[0m in \u001b[0;36m<module>\u001b[0;34m\u001b[0m\n\u001b[0;32m----> 1\u001b[0;31m \u001b[0mengine2\u001b[0m\u001b[0;34m.\u001b[0m\u001b[0mendLoop\u001b[0m\u001b[0;34m(\u001b[0m\u001b[0;34m)\u001b[0m\u001b[0;34m\u001b[0m\u001b[0;34m\u001b[0m\u001b[0m\n\u001b[0m",
      "\u001b[0;32m/Library/Frameworks/Python.framework/Versions/3.8/lib/python3.8/site-packages/pyttsx3/engine.py\u001b[0m in \u001b[0;36mendLoop\u001b[0;34m(self)\u001b[0m\n\u001b[1;32m    203\u001b[0m         \"\"\"\n\u001b[1;32m    204\u001b[0m         \u001b[0;32mif\u001b[0m \u001b[0;32mnot\u001b[0m \u001b[0mself\u001b[0m\u001b[0;34m.\u001b[0m\u001b[0m_inLoop\u001b[0m\u001b[0;34m:\u001b[0m\u001b[0;34m\u001b[0m\u001b[0;34m\u001b[0m\u001b[0m\n\u001b[0;32m--> 205\u001b[0;31m             \u001b[0;32mraise\u001b[0m \u001b[0mRuntimeError\u001b[0m\u001b[0;34m(\u001b[0m\u001b[0;34m'run loop not started'\u001b[0m\u001b[0;34m)\u001b[0m\u001b[0;34m\u001b[0m\u001b[0;34m\u001b[0m\u001b[0m\n\u001b[0m\u001b[1;32m    206\u001b[0m         \u001b[0mself\u001b[0m\u001b[0;34m.\u001b[0m\u001b[0mproxy\u001b[0m\u001b[0;34m.\u001b[0m\u001b[0mendLoop\u001b[0m\u001b[0;34m(\u001b[0m\u001b[0mself\u001b[0m\u001b[0;34m.\u001b[0m\u001b[0m_driverLoop\u001b[0m\u001b[0;34m)\u001b[0m\u001b[0;34m\u001b[0m\u001b[0;34m\u001b[0m\u001b[0m\n\u001b[1;32m    207\u001b[0m         \u001b[0mself\u001b[0m\u001b[0;34m.\u001b[0m\u001b[0m_inLoop\u001b[0m \u001b[0;34m=\u001b[0m \u001b[0;32mFalse\u001b[0m\u001b[0;34m\u001b[0m\u001b[0;34m\u001b[0m\u001b[0m\n",
      "\u001b[0;31mRuntimeError\u001b[0m: run loop not started"
     ]
    }
   ],
   "source": [
    "engine2.endLoop()"
   ]
  },
  {
   "cell_type": "code",
   "execution_count": 72,
   "metadata": {},
   "outputs": [
    {
     "ename": "RuntimeError",
     "evalue": "run loop not started",
     "output_type": "error",
     "traceback": [
      "\u001b[0;31m---------------------------------------------------------------------------\u001b[0m",
      "\u001b[0;31mRuntimeError\u001b[0m                              Traceback (most recent call last)",
      "\u001b[0;32m<ipython-input-72-aaab7868861f>\u001b[0m in \u001b[0;36m<module>\u001b[0;34m\u001b[0m\n\u001b[0;32m----> 1\u001b[0;31m \u001b[0mengine3\u001b[0m\u001b[0;34m.\u001b[0m\u001b[0mendLoop\u001b[0m\u001b[0;34m(\u001b[0m\u001b[0;34m)\u001b[0m\u001b[0;34m\u001b[0m\u001b[0;34m\u001b[0m\u001b[0m\n\u001b[0m",
      "\u001b[0;32m/Library/Frameworks/Python.framework/Versions/3.8/lib/python3.8/site-packages/pyttsx3/engine.py\u001b[0m in \u001b[0;36mendLoop\u001b[0;34m(self)\u001b[0m\n\u001b[1;32m    203\u001b[0m         \"\"\"\n\u001b[1;32m    204\u001b[0m         \u001b[0;32mif\u001b[0m \u001b[0;32mnot\u001b[0m \u001b[0mself\u001b[0m\u001b[0;34m.\u001b[0m\u001b[0m_inLoop\u001b[0m\u001b[0;34m:\u001b[0m\u001b[0;34m\u001b[0m\u001b[0;34m\u001b[0m\u001b[0m\n\u001b[0;32m--> 205\u001b[0;31m             \u001b[0;32mraise\u001b[0m \u001b[0mRuntimeError\u001b[0m\u001b[0;34m(\u001b[0m\u001b[0;34m'run loop not started'\u001b[0m\u001b[0;34m)\u001b[0m\u001b[0;34m\u001b[0m\u001b[0;34m\u001b[0m\u001b[0m\n\u001b[0m\u001b[1;32m    206\u001b[0m         \u001b[0mself\u001b[0m\u001b[0;34m.\u001b[0m\u001b[0mproxy\u001b[0m\u001b[0;34m.\u001b[0m\u001b[0mendLoop\u001b[0m\u001b[0;34m(\u001b[0m\u001b[0mself\u001b[0m\u001b[0;34m.\u001b[0m\u001b[0m_driverLoop\u001b[0m\u001b[0;34m)\u001b[0m\u001b[0;34m\u001b[0m\u001b[0;34m\u001b[0m\u001b[0m\n\u001b[1;32m    207\u001b[0m         \u001b[0mself\u001b[0m\u001b[0;34m.\u001b[0m\u001b[0m_inLoop\u001b[0m \u001b[0;34m=\u001b[0m \u001b[0;32mFalse\u001b[0m\u001b[0;34m\u001b[0m\u001b[0;34m\u001b[0m\u001b[0m\n",
      "\u001b[0;31mRuntimeError\u001b[0m: run loop not started"
     ]
    }
   ],
   "source": [
    "engine3.endLoop()"
   ]
  },
  {
   "cell_type": "code",
   "execution_count": 73,
   "metadata": {},
   "outputs": [
    {
     "ename": "RuntimeError",
     "evalue": "run loop not started",
     "output_type": "error",
     "traceback": [
      "\u001b[0;31m---------------------------------------------------------------------------\u001b[0m",
      "\u001b[0;31mRuntimeError\u001b[0m                              Traceback (most recent call last)",
      "\u001b[0;32m<ipython-input-73-b91ee6da4544>\u001b[0m in \u001b[0;36m<module>\u001b[0;34m\u001b[0m\n\u001b[0;32m----> 1\u001b[0;31m \u001b[0mengine4\u001b[0m\u001b[0;34m.\u001b[0m\u001b[0mendLoop\u001b[0m\u001b[0;34m(\u001b[0m\u001b[0;34m)\u001b[0m\u001b[0;34m\u001b[0m\u001b[0;34m\u001b[0m\u001b[0m\n\u001b[0m",
      "\u001b[0;32m/Library/Frameworks/Python.framework/Versions/3.8/lib/python3.8/site-packages/pyttsx3/engine.py\u001b[0m in \u001b[0;36mendLoop\u001b[0;34m(self)\u001b[0m\n\u001b[1;32m    203\u001b[0m         \"\"\"\n\u001b[1;32m    204\u001b[0m         \u001b[0;32mif\u001b[0m \u001b[0;32mnot\u001b[0m \u001b[0mself\u001b[0m\u001b[0;34m.\u001b[0m\u001b[0m_inLoop\u001b[0m\u001b[0;34m:\u001b[0m\u001b[0;34m\u001b[0m\u001b[0;34m\u001b[0m\u001b[0m\n\u001b[0;32m--> 205\u001b[0;31m             \u001b[0;32mraise\u001b[0m \u001b[0mRuntimeError\u001b[0m\u001b[0;34m(\u001b[0m\u001b[0;34m'run loop not started'\u001b[0m\u001b[0;34m)\u001b[0m\u001b[0;34m\u001b[0m\u001b[0;34m\u001b[0m\u001b[0m\n\u001b[0m\u001b[1;32m    206\u001b[0m         \u001b[0mself\u001b[0m\u001b[0;34m.\u001b[0m\u001b[0mproxy\u001b[0m\u001b[0;34m.\u001b[0m\u001b[0mendLoop\u001b[0m\u001b[0;34m(\u001b[0m\u001b[0mself\u001b[0m\u001b[0;34m.\u001b[0m\u001b[0m_driverLoop\u001b[0m\u001b[0;34m)\u001b[0m\u001b[0;34m\u001b[0m\u001b[0;34m\u001b[0m\u001b[0m\n\u001b[1;32m    207\u001b[0m         \u001b[0mself\u001b[0m\u001b[0;34m.\u001b[0m\u001b[0m_inLoop\u001b[0m \u001b[0;34m=\u001b[0m \u001b[0;32mFalse\u001b[0m\u001b[0;34m\u001b[0m\u001b[0;34m\u001b[0m\u001b[0m\n",
      "\u001b[0;31mRuntimeError\u001b[0m: run loop not started"
     ]
    }
   ],
   "source": [
    "engine4.endLoop()"
   ]
  },
  {
   "cell_type": "code",
   "execution_count": 74,
   "metadata": {
    "scrolled": false
   },
   "outputs": [
    {
     "ename": "RuntimeError",
     "evalue": "run loop not started",
     "output_type": "error",
     "traceback": [
      "\u001b[0;31m---------------------------------------------------------------------------\u001b[0m",
      "\u001b[0;31mRuntimeError\u001b[0m                              Traceback (most recent call last)",
      "\u001b[0;32m<ipython-input-74-3df687e4e9e9>\u001b[0m in \u001b[0;36m<module>\u001b[0;34m\u001b[0m\n\u001b[0;32m----> 1\u001b[0;31m \u001b[0mengine5\u001b[0m\u001b[0;34m.\u001b[0m\u001b[0mendLoop\u001b[0m\u001b[0;34m(\u001b[0m\u001b[0;34m)\u001b[0m\u001b[0;34m\u001b[0m\u001b[0;34m\u001b[0m\u001b[0m\n\u001b[0m",
      "\u001b[0;32m/Library/Frameworks/Python.framework/Versions/3.8/lib/python3.8/site-packages/pyttsx3/engine.py\u001b[0m in \u001b[0;36mendLoop\u001b[0;34m(self)\u001b[0m\n\u001b[1;32m    203\u001b[0m         \"\"\"\n\u001b[1;32m    204\u001b[0m         \u001b[0;32mif\u001b[0m \u001b[0;32mnot\u001b[0m \u001b[0mself\u001b[0m\u001b[0;34m.\u001b[0m\u001b[0m_inLoop\u001b[0m\u001b[0;34m:\u001b[0m\u001b[0;34m\u001b[0m\u001b[0;34m\u001b[0m\u001b[0m\n\u001b[0;32m--> 205\u001b[0;31m             \u001b[0;32mraise\u001b[0m \u001b[0mRuntimeError\u001b[0m\u001b[0;34m(\u001b[0m\u001b[0;34m'run loop not started'\u001b[0m\u001b[0;34m)\u001b[0m\u001b[0;34m\u001b[0m\u001b[0;34m\u001b[0m\u001b[0m\n\u001b[0m\u001b[1;32m    206\u001b[0m         \u001b[0mself\u001b[0m\u001b[0;34m.\u001b[0m\u001b[0mproxy\u001b[0m\u001b[0;34m.\u001b[0m\u001b[0mendLoop\u001b[0m\u001b[0;34m(\u001b[0m\u001b[0mself\u001b[0m\u001b[0;34m.\u001b[0m\u001b[0m_driverLoop\u001b[0m\u001b[0;34m)\u001b[0m\u001b[0;34m\u001b[0m\u001b[0;34m\u001b[0m\u001b[0m\n\u001b[1;32m    207\u001b[0m         \u001b[0mself\u001b[0m\u001b[0;34m.\u001b[0m\u001b[0m_inLoop\u001b[0m \u001b[0;34m=\u001b[0m \u001b[0;32mFalse\u001b[0m\u001b[0;34m\u001b[0m\u001b[0;34m\u001b[0m\u001b[0m\n",
      "\u001b[0;31mRuntimeError\u001b[0m: run loop not started"
     ]
    }
   ],
   "source": [
    "engine5.endLoop()"
   ]
  },
  {
   "cell_type": "code",
   "execution_count": 23,
   "metadata": {},
   "outputs": [],
   "source": [
    "def say(s):\n",
    "    engine = pyttsx3.init()\n",
    "    rate = engine.getProperty('rate')\n",
    "    engine.setProperty('rate', 300)\n",
    "    voices= engine.getProperty('voices')\n",
    "    #for voice in voices:                                                                                    \n",
    "    engine.setProperty('voice', 'english-us')\n",
    "    #print voice.id                                                                                          \n",
    "    engine.say(s)\n",
    "    a = engine.runAndWait() #blocks     \n",
    "\n",
    "\n",
    "\n",
    "say('The slow red weasel jumped under the active cat')"
   ]
  },
  {
   "cell_type": "code",
   "execution_count": 19,
   "metadata": {},
   "outputs": [
    {
     "ename": "TypeError",
     "evalue": "A jit decorator was called on an already jitted function CPUDispatcher(<function say at 0x7ff95b915280>).  If trying to access the original python function, use the CPUDispatcher(<function say at 0x7ff95b915280>).py_func attribute.",
     "output_type": "error",
     "traceback": [
      "\u001b[0;31m---------------------------------------------------------------------------\u001b[0m",
      "\u001b[0;31mTypeError\u001b[0m                                 Traceback (most recent call last)",
      "\u001b[0;32m<ipython-input-19-1a2008d7d6c0>\u001b[0m in \u001b[0;36m<module>\u001b[0;34m\u001b[0m\n\u001b[0;32m----> 1\u001b[0;31m \u001b[0mnumba_say\u001b[0m \u001b[0;34m=\u001b[0m \u001b[0mjit\u001b[0m\u001b[0;34m(\u001b[0m\u001b[0mnopython\u001b[0m\u001b[0;34m=\u001b[0m\u001b[0;32mTrue\u001b[0m\u001b[0;34m)\u001b[0m\u001b[0;34m(\u001b[0m\u001b[0msay\u001b[0m\u001b[0;34m)\u001b[0m\u001b[0;34m\u001b[0m\u001b[0;34m\u001b[0m\u001b[0m\n\u001b[0m",
      "\u001b[0;32m/Library/Frameworks/Python.framework/Versions/3.8/lib/python3.8/site-packages/numba/core/decorators.py\u001b[0m in \u001b[0;36mwrapper\u001b[0;34m(func)\u001b[0m\n\u001b[1;32m    189\u001b[0m     \u001b[0;32mdef\u001b[0m \u001b[0mwrapper\u001b[0m\u001b[0;34m(\u001b[0m\u001b[0mfunc\u001b[0m\u001b[0;34m)\u001b[0m\u001b[0;34m:\u001b[0m\u001b[0;34m\u001b[0m\u001b[0;34m\u001b[0m\u001b[0m\n\u001b[1;32m    190\u001b[0m         \u001b[0;32mif\u001b[0m \u001b[0mextending\u001b[0m\u001b[0;34m.\u001b[0m\u001b[0mis_jitted\u001b[0m\u001b[0;34m(\u001b[0m\u001b[0mfunc\u001b[0m\u001b[0;34m)\u001b[0m\u001b[0;34m:\u001b[0m\u001b[0;34m\u001b[0m\u001b[0;34m\u001b[0m\u001b[0m\n\u001b[0;32m--> 191\u001b[0;31m             raise TypeError(\n\u001b[0m\u001b[1;32m    192\u001b[0m                 \u001b[0;34m\"A jit decorator was called on an already jitted function \"\u001b[0m\u001b[0;34m\u001b[0m\u001b[0;34m\u001b[0m\u001b[0m\n\u001b[1;32m    193\u001b[0m                 \u001b[0;34mf\"{func}.  If trying to access the original python \"\u001b[0m\u001b[0;34m\u001b[0m\u001b[0;34m\u001b[0m\u001b[0m\n",
      "\u001b[0;31mTypeError\u001b[0m: A jit decorator was called on an already jitted function CPUDispatcher(<function say at 0x7ff95b915280>).  If trying to access the original python function, use the CPUDispatcher(<function say at 0x7ff95b915280>).py_func attribute."
     ]
    }
   ],
   "source": [
    "numba_say = jit(nopython=True)(say)"
   ]
  },
  {
   "cell_type": "code",
   "execution_count": 11,
   "metadata": {},
   "outputs": [],
   "source": [
    "import time"
   ]
  },
  {
   "cell_type": "code",
   "execution_count": 12,
   "metadata": {},
   "outputs": [],
   "source": [
    "from time import perf_counter"
   ]
  },
  {
   "cell_type": "code",
   "execution_count": 38,
   "metadata": {},
   "outputs": [
    {
     "name": "stdout",
     "output_type": "stream",
     "text": [
      "0.013076107000074444\n"
     ]
    }
   ],
   "source": [
    "start = perf_counter()\n",
    "engine.startLoop(False)\n",
    "engine.setProperty(\"rate\", 400)\n",
    "engine.say('Baby welcome to the party')\n",
    "engine.iterate()\n",
    "end = perf_counter()\n",
    "print(end-start)"
   ]
  },
  {
   "cell_type": "code",
   "execution_count": 9,
   "metadata": {},
   "outputs": [],
   "source": [
    "engine.endLoop()"
   ]
  },
  {
   "cell_type": "code",
   "execution_count": 13,
   "metadata": {},
   "outputs": [
    {
     "name": "stdout",
     "output_type": "stream",
     "text": [
      "Collecting cython\n",
      "  Downloading Cython-0.29.28-py2.py3-none-any.whl (983 kB)\n",
      "\u001b[2K     \u001b[90m━━━━━━━━━━━━━━━━━━━━━━━━━━━━━━━━━━━━━━━\u001b[0m \u001b[32m983.8/983.8 KB\u001b[0m \u001b[31m1.2 MB/s\u001b[0m eta \u001b[36m0:00:00\u001b[0m00:01\u001b[0m00:01\u001b[0m\n",
      "\u001b[?25hInstalling collected packages: cython\n",
      "Successfully installed cython-0.29.28\n",
      "\u001b[33mWARNING: You are using pip version 22.0.3; however, version 22.0.4 is available.\n",
      "You should consider upgrading via the '/Library/Frameworks/Python.framework/Versions/3.8/bin/python3.8 -m pip install --upgrade pip' command.\u001b[0m\u001b[33m\n",
      "\u001b[0m"
     ]
    }
   ],
   "source": [
    "!pip install cython"
   ]
  },
  {
   "cell_type": "code",
   "execution_count": 14,
   "metadata": {},
   "outputs": [
    {
     "name": "stdout",
     "output_type": "stream",
     "text": [
      "Requirement already satisfied: numba in /Library/Frameworks/Python.framework/Versions/3.8/lib/python3.8/site-packages (0.55.1)\n",
      "Requirement already satisfied: numpy<1.22,>=1.18 in /Library/Frameworks/Python.framework/Versions/3.8/lib/python3.8/site-packages (from numba) (1.18.4)\n",
      "Requirement already satisfied: setuptools in /Library/Frameworks/Python.framework/Versions/3.8/lib/python3.8/site-packages (from numba) (41.2.0)\n",
      "Requirement already satisfied: llvmlite<0.39,>=0.38.0rc1 in /Library/Frameworks/Python.framework/Versions/3.8/lib/python3.8/site-packages (from numba) (0.38.0)\n",
      "\u001b[33mWARNING: You are using pip version 22.0.3; however, version 22.0.4 is available.\n",
      "You should consider upgrading via the '/Library/Frameworks/Python.framework/Versions/3.8/bin/python3.8 -m pip install --upgrade pip' command.\u001b[0m\u001b[33m\n",
      "\u001b[0m"
     ]
    }
   ],
   "source": [
    "!pip install numba"
   ]
  },
  {
   "cell_type": "code",
   "execution_count": 8,
   "metadata": {},
   "outputs": [],
   "source": [
    "from numba import jit"
   ]
  },
  {
   "cell_type": "code",
   "execution_count": 161,
   "metadata": {
    "scrolled": true
   },
   "outputs": [
    {
     "name": "stdout",
     "output_type": "stream",
     "text": [
      "13000\n",
      "13007\n",
      "15000\n",
      "15004\n",
      "16500\n",
      "16503\n",
      "18880\n",
      "18883\n",
      "20020\n",
      "20065\n",
      "22200\n",
      "22204\n",
      "24960\n",
      "24965\n",
      "26610\n",
      "26614\n",
      "28950\n",
      "28955\n",
      "30780\n",
      "30783\n",
      "32220\n",
      "32223\n",
      "33930\n",
      "33933\n",
      "35500\n",
      "35506\n",
      "37350\n",
      "37353\n",
      "38790\n",
      "38793\n",
      "39840\n",
      "39860\n",
      "42450\n",
      "42454\n",
      "45030\n",
      "45036\n",
      "46980\n",
      "46985\n",
      "49200\n",
      "49205\n",
      "50310\n",
      "50313\n",
      "53400\n",
      "53404\n",
      "56600\n",
      "56604\n",
      "60024\n",
      "60028\n",
      "63590\n",
      "63595\n",
      "65190\n",
      "65193\n",
      "65190\n",
      "65202\n",
      "66990\n",
      "66993\n",
      "68550\n",
      "68553\n",
      "70230\n",
      "70234\n",
      "71880\n",
      "71883\n",
      "73770\n",
      "73774\n",
      "75610\n",
      "75614\n",
      "77720\n",
      "77723\n",
      "80000\n",
      "80006\n",
      "82400\n",
      "82404\n",
      "84210\n",
      "84213\n",
      "85900\n",
      "85905\n",
      "87690\n",
      "87694\n",
      "88940\n",
      "88945\n",
      "91050\n",
      "91053\n",
      "92550\n",
      "92553\n",
      "94000\n",
      "94003\n",
      "96090\n",
      "96095\n",
      "97860\n",
      "97864\n",
      "99240\n",
      "99244\n",
      "102700\n",
      "102703\n",
      "104200\n",
      "104203\n",
      "105990\n",
      "105993\n",
      "107250\n",
      "107362\n",
      "109250\n",
      "109253\n",
      "112340\n",
      "112344\n",
      "113340\n",
      "113363\n",
      "114830\n",
      "114836\n",
      "116000\n",
      "116126\n"
     ]
    },
    {
     "ename": "KeyboardInterrupt",
     "evalue": "",
     "output_type": "error",
     "traceback": [
      "\u001b[0;31m---------------------------------------------------------------------------\u001b[0m",
      "\u001b[0;31mKeyboardInterrupt\u001b[0m                         Traceback (most recent call last)",
      "\u001b[0;32m<ipython-input-161-8f3106b42411>\u001b[0m in \u001b[0;36m<module>\u001b[0;34m\u001b[0m\n\u001b[1;32m    393\u001b[0m         \u001b[0mengine2\u001b[0m\u001b[0;34m.\u001b[0m\u001b[0miterate\u001b[0m\u001b[0;34m(\u001b[0m\u001b[0;34m)\u001b[0m\u001b[0;34m\u001b[0m\u001b[0;34m\u001b[0m\u001b[0m\n\u001b[1;32m    394\u001b[0m         \u001b[0mprint\u001b[0m\u001b[0;34m(\u001b[0m\u001b[0mpygame\u001b[0m\u001b[0;34m.\u001b[0m\u001b[0mmixer\u001b[0m\u001b[0;34m.\u001b[0m\u001b[0mmusic\u001b[0m\u001b[0;34m.\u001b[0m\u001b[0mget_pos\u001b[0m\u001b[0;34m(\u001b[0m\u001b[0;34m)\u001b[0m\u001b[0;34m)\u001b[0m\u001b[0;34m\u001b[0m\u001b[0;34m\u001b[0m\u001b[0m\n\u001b[0;32m--> 395\u001b[0;31m     \u001b[0;32mif\u001b[0m\u001b[0;34m(\u001b[0m\u001b[0mpygame\u001b[0m\u001b[0;34m.\u001b[0m\u001b[0mmixer\u001b[0m\u001b[0;34m.\u001b[0m\u001b[0mmusic\u001b[0m\u001b[0;34m.\u001b[0m\u001b[0mget_pos\u001b[0m\u001b[0;34m(\u001b[0m\u001b[0;34m)\u001b[0m \u001b[0;34m==\u001b[0m \u001b[0;36m113340\u001b[0m\u001b[0;34m)\u001b[0m\u001b[0;34m:\u001b[0m\u001b[0;34m\u001b[0m\u001b[0;34m\u001b[0m\u001b[0m\n\u001b[0m\u001b[1;32m    396\u001b[0m         \u001b[0mprint\u001b[0m\u001b[0;34m(\u001b[0m\u001b[0mpygame\u001b[0m\u001b[0;34m.\u001b[0m\u001b[0mmixer\u001b[0m\u001b[0;34m.\u001b[0m\u001b[0mmusic\u001b[0m\u001b[0;34m.\u001b[0m\u001b[0mget_pos\u001b[0m\u001b[0;34m(\u001b[0m\u001b[0;34m)\u001b[0m\u001b[0;34m)\u001b[0m\u001b[0;34m\u001b[0m\u001b[0;34m\u001b[0m\u001b[0m\n\u001b[1;32m    397\u001b[0m         \u001b[0mengine2\u001b[0m\u001b[0;34m.\u001b[0m\u001b[0mendLoop\u001b[0m\u001b[0;34m(\u001b[0m\u001b[0;34m)\u001b[0m\u001b[0;34m\u001b[0m\u001b[0;34m\u001b[0m\u001b[0m\n",
      "\u001b[0;31mKeyboardInterrupt\u001b[0m: "
     ]
    }
   ],
   "source": [
    "import pyttsx3\n",
    "import pygame\n",
    "engine = pyttsx3.init()\n",
    "engine2 = pyttsx3.init()\n",
    "engine3 = pyttsx3.init()\n",
    "engine4 = pyttsx3.init()\n",
    "engine5 = pyttsx3.init()\n",
    "pygame.mixer.init()\n",
    "pygame.mixer.music.load('welcometotheparty2.mp3')\n",
    "#start_time = time.time()\n",
    "pygame.mixer.music.play()\n",
    "while pygame.mixer.music.get_busy():\n",
    "    if(pygame.mixer.music.get_pos() == 13000):\n",
    "        print(pygame.mixer.music.get_pos())\n",
    "        engine.startLoop(False)\n",
    "        engine.setProperty(\"rate\", 250)\n",
    "        engine.say(\"Baby welcome to the party\")\n",
    "        engine.iterate()\n",
    "        print(pygame.mixer.music.get_pos())\n",
    "    if(pygame.mixer.music.get_pos() == 15000):\n",
    "        print(pygame.mixer.music.get_pos())\n",
    "        engine2.endLoop()\n",
    "        engine2.setProperty(\"rate\", 275)\n",
    "        engine2.startLoop(False)\n",
    "        engine2.say(\"I'm off the Molly the Xan the lean\")\n",
    "        engine2.iterate()\n",
    "        print(pygame.mixer.music.get_pos())\n",
    "    if(pygame.mixer.music.get_pos() == 16500):\n",
    "        print(pygame.mixer.music.get_pos())\n",
    "        engine3.endLoop()\n",
    "        engine3.startLoop(False)\n",
    "        engine3.say(\"That's why I'm movin retarded\")\n",
    "        engine3.iterate()\n",
    "        print(pygame.mixer.music.get_pos())\n",
    "    if(pygame.mixer.music.get_pos() == 18880):\n",
    "        print(pygame.mixer.music.get_pos())\n",
    "        engine4.endLoop()\n",
    "        engine4.setProperty(\"rate\", 310)\n",
    "        engine4.startLoop(False)\n",
    "        engine4.say(\"That's why I'm movin retarded\")\n",
    "        engine4.iterate()\n",
    "        print(pygame.mixer.music.get_pos())\n",
    "    if(pygame.mixer.music.get_pos() == 20020):\n",
    "        print(pygame.mixer.music.get_pos())\n",
    "        engine5.endLoop()\n",
    "        engine5.startLoop(False)\n",
    "        engine5.say(\"Baby welcome to the party, uh\")\n",
    "        engine5.iterate()\n",
    "        print(pygame.mixer.music.get_pos())\n",
    "    if(pygame.mixer.music.get_pos() == 22200):\n",
    "        print(pygame.mixer.music.get_pos())\n",
    "        engine5.endLoop()\n",
    "        engine5.startLoop(False)\n",
    "        engine5.setProperty(\"rate\", 250)\n",
    "        engine5.say(\"I hit the boy up and then i go skate in a rawree\")\n",
    "        engine5.iterate()\n",
    "        print(pygame.mixer.music.get_pos())\n",
    "    if(pygame.mixer.music.get_pos() == 24960):\n",
    "        print(pygame.mixer.music.get_pos())\n",
    "        engine5.endLoop()\n",
    "        engine5.startLoop(False)\n",
    "        engine5.say(\"Baby welcome to the party\")\n",
    "        engine5.iterate()\n",
    "        print(pygame.mixer.music.get_pos())\n",
    "    if(pygame.mixer.music.get_pos() == 26610):\n",
    "        print(pygame.mixer.music.get_pos())\n",
    "        engine5.endLoop()\n",
    "        engine5.startLoop(False)\n",
    "        engine5.say(\"Bitch I'm a thot, get me lit\")\n",
    "        engine5.iterate()\n",
    "        print(pygame.mixer.music.get_pos())\n",
    "    if(pygame.mixer.music.get_pos() == 28950):\n",
    "        print(pygame.mixer.music.get_pos())\n",
    "        engine5.endLoop()\n",
    "        engine5.startLoop(False)\n",
    "        engine5.say(\"Gun on my hip\")\n",
    "        engine5.iterate()\n",
    "        print(pygame.mixer.music.get_pos())\n",
    "    if(pygame.mixer.music.get_pos() == 30780):\n",
    "        print(pygame.mixer.music.get_pos())\n",
    "        engine5.endLoop()\n",
    "        engine5.startLoop(False)\n",
    "        engine5.say(\"One in the head\")\n",
    "        engine5.iterate()\n",
    "        print(pygame.mixer.music.get_pos())\n",
    "    if(pygame.mixer.music.get_pos() == 32220):\n",
    "        print(pygame.mixer.music.get_pos())\n",
    "        engine5.endLoop()\n",
    "        engine5.startLoop(False)\n",
    "        engine5.say(\"Ten in the clip\")\n",
    "        engine5.iterate()\n",
    "        print(pygame.mixer.music.get_pos())\n",
    "    if(pygame.mixer.music.get_pos() == 33930):\n",
    "        print(pygame.mixer.music.get_pos())\n",
    "        engine.setProperty(\"rate\", 150)\n",
    "        engine5.endLoop()\n",
    "        engine5.startLoop(False)\n",
    "        engine5.say(\"Baby\")\n",
    "        engine5.iterate()\n",
    "        print(pygame.mixer.music.get_pos())\n",
    "    if(pygame.mixer.music.get_pos() == 35500):\n",
    "        print(pygame.mixer.music.get_pos())\n",
    "        engine5.setProperty(\"rate\", 250)\n",
    "        engine5.endLoop()\n",
    "        engine5.startLoop(False)\n",
    "        engine5.say(\"Baby don't trip\")\n",
    "        engine5.iterate()\n",
    "        print(pygame.mixer.music.get_pos())\n",
    "    if(pygame.mixer.music.get_pos() == 37350):\n",
    "        print(pygame.mixer.music.get_pos())\n",
    "        engine5.endLoop()\n",
    "        engine5.startLoop(False)\n",
    "        engine5.say(\"Just lower your tone\")\n",
    "        engine5.iterate()\n",
    "        print(pygame.mixer.music.get_pos())\n",
    "    if(pygame.mixer.music.get_pos() == 38790):\n",
    "        print(pygame.mixer.music.get_pos())\n",
    "        engine5.endLoop()\n",
    "        engine5.startLoop(False)\n",
    "        engine5.say(\"Cause you could get hit\")\n",
    "        engine5.iterate()\n",
    "        print(pygame.mixer.music.get_pos())\n",
    "    if(pygame.mixer.music.get_pos() == 39840):\n",
    "        print(pygame.mixer.music.get_pos())\n",
    "        engine5.endLoop()\n",
    "        engine5.startLoop(False)\n",
    "        engine5.setProperty(\"rate\", 275)\n",
    "        engine5.say(\"Don't let that henny in mah system\")\n",
    "        engine5.iterate()\n",
    "        print(pygame.mixer.music.get_pos())\n",
    "    if(pygame.mixer.music.get_pos() == 42450):\n",
    "        print(pygame.mixer.music.get_pos())\n",
    "        engine5.endLoop()\n",
    "        engine5.startLoop(False)\n",
    "        engine5.setProperty(\"rate\", 250)\n",
    "        engine5.say(\"Catch a body, next day I forget it\")\n",
    "        engine5.iterate()\n",
    "        print(pygame.mixer.music.get_pos())\n",
    "    if(pygame.mixer.music.get_pos() == 45030):\n",
    "        print(pygame.mixer.music.get_pos())\n",
    "        engine5.endLoop()\n",
    "        engine5.startLoop(False)\n",
    "        engine5.setProperty(\"rate\", 275)\n",
    "        engine5.say(\"next day I forget it?\")\n",
    "        engine5.iterate()\n",
    "        print(pygame.mixer.music.get_pos())\n",
    "    if(pygame.mixer.music.get_pos() == 46980):\n",
    "        print(pygame.mixer.music.get_pos())\n",
    "        engine5.endLoop()\n",
    "        engine5.startLoop(False)\n",
    "        engine5.setProperty(\"rate\", 275)\n",
    "        engine5.say(\"Dread just caught a body. Boom!\")\n",
    "        engine5.iterate()\n",
    "        print(pygame.mixer.music.get_pos())\n",
    "    if(pygame.mixer.music.get_pos() == 49200):\n",
    "        print(pygame.mixer.music.get_pos())\n",
    "        engine5.endLoop()\n",
    "        engine5.startLoop(False)\n",
    "        engine5.say(\"And that's on the gang\")\n",
    "        engine5.iterate()\n",
    "        print(pygame.mixer.music.get_pos())\n",
    "    if(pygame.mixer.music.get_pos() == 50310):\n",
    "        print(pygame.mixer.music.get_pos())\n",
    "        engine5.endLoop()\n",
    "        engine5.startLoop(False)\n",
    "        engine5.say(\"I was just wit him\")\n",
    "        engine5.iterate()\n",
    "        print(pygame.mixer.music.get_pos())\n",
    "    if(pygame.mixer.music.get_pos() == 53400):\n",
    "        print(pygame.mixer.music.get_pos())\n",
    "        engine5.endLoop()\n",
    "        engine5.startLoop(False)\n",
    "        engine5.setProperty(\"rate\", 315)\n",
    "        engine5.say(\"Free all my rilla hittas all my villain hittas all my drillin hittas out tha cage\")\n",
    "        engine5.iterate()\n",
    "        print(pygame.mixer.music.get_pos())\n",
    "    if(pygame.mixer.music.get_pos() == 56600):\n",
    "        print(pygame.mixer.music.get_pos())\n",
    "        engine5.endLoop()\n",
    "        engine5.startLoop(False)\n",
    "        engine5.setProperty(\"rate\", 265)\n",
    "        engine5.say(\"Since a young in hitta i been drillin hittas ma I'm sorry I'm stuck up in mah ways\")\n",
    "        engine5.iterate()\n",
    "        print(pygame.mixer.music.get_pos())\n",
    "    if(pygame.mixer.music.get_pos() == 60024):\n",
    "        print(pygame.mixer.music.get_pos())\n",
    "        engine5.endLoop()\n",
    "        engine5.startLoop(False)\n",
    "        engine5.setProperty(\"rate\", 275)\n",
    "        engine5.say(\"Nobody ever gave me shit, with this big chip I had to get paid\")\n",
    "        engine5.iterate()\n",
    "        print(pygame.mixer.music.get_pos())\n",
    "    if(pygame.mixer.music.get_pos() == 63590):\n",
    "        print(pygame.mixer.music.get_pos())\n",
    "        engine5.endLoop()\n",
    "        engine5.startLoop(False)\n",
    "        engine5.setProperty(\"rate\", 275)\n",
    "        engine5.say(\"And it's ten kay to go on stage\")\n",
    "        engine5.iterate()\n",
    "        print(pygame.mixer.music.get_pos())\n",
    "    if(pygame.mixer.music.get_pos() == 65190):\n",
    "        print(pygame.mixer.music.get_pos())\n",
    "        engine5.endLoop()\n",
    "        engine5.startLoop(False)\n",
    "        engine5.say(\"And you know tha treesh gettin laid\")\n",
    "        engine5.iterate()\n",
    "        print(pygame.mixer.music.get_pos())\n",
    "    if(pygame.mixer.music.get_pos() == 66990):\n",
    "        print(pygame.mixer.music.get_pos())\n",
    "        engine5.endLoop()\n",
    "        engine5.startLoop(False)\n",
    "        engine5.say(\"Baby welcome to the party\")\n",
    "        engine5.iterate()\n",
    "        print(pygame.mixer.music.get_pos())\n",
    "    if(pygame.mixer.music.get_pos() == 68550):\n",
    "        print(pygame.mixer.music.get_pos())\n",
    "        engine2.endLoop()\n",
    "        engine2.setProperty(\"rate\", 275)\n",
    "        engine2.startLoop(False)\n",
    "        engine2.say(\"I'm off the Molly the Xan the lean\")\n",
    "        engine2.iterate()\n",
    "        print(pygame.mixer.music.get_pos())\n",
    "    if(pygame.mixer.music.get_pos() == 70230):\n",
    "        print(pygame.mixer.music.get_pos())\n",
    "        engine2.endLoop()\n",
    "        engine2.setProperty(\"rate\", 250)\n",
    "        engine2.startLoop(False)\n",
    "        engine2.say(\"That's why I'm movin retarded\")\n",
    "        engine2.iterate()\n",
    "        print(pygame.mixer.music.get_pos())\n",
    "    if(pygame.mixer.music.get_pos() == 71880):\n",
    "        print(pygame.mixer.music.get_pos())\n",
    "        engine2.endLoop()\n",
    "        engine2.setProperty(\"rate\", 275)\n",
    "        engine2.startLoop(False)\n",
    "        engine2.say(\"That's why I'm movin retarded\")\n",
    "        engine2.iterate()\n",
    "        print(pygame.mixer.music.get_pos())\n",
    "    if(pygame.mixer.music.get_pos() == 73770):\n",
    "        print(pygame.mixer.music.get_pos())\n",
    "        engine2.endLoop()\n",
    "        engine2.setProperty(\"rate\", 250)\n",
    "        engine2.startLoop(False)\n",
    "        engine2.say(\"Baby welcome to the party, uh\")\n",
    "        engine2.iterate()\n",
    "        print(pygame.mixer.music.get_pos())\n",
    "    if(pygame.mixer.music.get_pos() == 75610):\n",
    "        print(pygame.mixer.music.get_pos())\n",
    "        engine2.endLoop()\n",
    "        engine2.setProperty(\"rate\", 275)\n",
    "        engine2.startLoop(False)\n",
    "        engine2.say(\"I hit the boy up and then I go skate in a raw-ree\")\n",
    "        engine2.iterate()\n",
    "        print(pygame.mixer.music.get_pos())\n",
    "    if(pygame.mixer.music.get_pos() == 77720):\n",
    "        print(pygame.mixer.music.get_pos())\n",
    "        engine2.endLoop()\n",
    "        engine2.setProperty(\"rate\", 275)\n",
    "        engine2.startLoop(False)\n",
    "        engine2.say(\"Baby welcome to the party\")\n",
    "        engine2.iterate()\n",
    "        print(pygame.mixer.music.get_pos())\n",
    "    if(pygame.mixer.music.get_pos() == 80000):\n",
    "        print(pygame.mixer.music.get_pos())\n",
    "        engine2.endLoop()\n",
    "        engine2.setProperty(\"rate\", 250)\n",
    "        engine2.startLoop(False)\n",
    "        engine2.say(\"Bitch I'm a thot, get me lit\")\n",
    "        engine2.iterate()\n",
    "        print(pygame.mixer.music.get_pos())\n",
    "    if(pygame.mixer.music.get_pos() == 82400):\n",
    "        print(pygame.mixer.music.get_pos())\n",
    "        engine2.endLoop()\n",
    "        engine2.startLoop(False)\n",
    "        engine2.say(\"Gun on my hip\")\n",
    "        engine2.iterate()\n",
    "        print(pygame.mixer.music.get_pos())\n",
    "    if(pygame.mixer.music.get_pos() == 84210):\n",
    "        print(pygame.mixer.music.get_pos())\n",
    "        engine2.endLoop()\n",
    "        engine2.startLoop(False)\n",
    "        engine2.say(\"One in the head\")\n",
    "        engine2.iterate()\n",
    "        print(pygame.mixer.music.get_pos())\n",
    "    if(pygame.mixer.music.get_pos() == 85900):\n",
    "        print(pygame.mixer.music.get_pos())\n",
    "        engine2.endLoop()\n",
    "        engine2.startLoop(False)\n",
    "        engine2.say(\"Ten in the clip\")\n",
    "        engine2.iterate()\n",
    "        print(pygame.mixer.music.get_pos())\n",
    "    if(pygame.mixer.music.get_pos() == 87690):\n",
    "        print(pygame.mixer.music.get_pos())\n",
    "        engine2.endLoop()\n",
    "        engine2.startLoop(False)\n",
    "        engine.setProperty(\"rate\", 150)\n",
    "        engine2.say(\"Baby\")\n",
    "        engine2.iterate()\n",
    "        print(pygame.mixer.music.get_pos())\n",
    "    if(pygame.mixer.music.get_pos() == 88940):\n",
    "        print(pygame.mixer.music.get_pos())\n",
    "        engine2.endLoop()\n",
    "        engine2.startLoop(False)\n",
    "        engine.setProperty(\"rate\", 250)\n",
    "        engine2.say(\"Baby don't trip\")\n",
    "        engine2.iterate()\n",
    "        print(pygame.mixer.music.get_pos())\n",
    "    if(pygame.mixer.music.get_pos() == 91050):\n",
    "        print(pygame.mixer.music.get_pos())\n",
    "        engine2.endLoop()\n",
    "        engine2.startLoop(False)\n",
    "        engine2.say(\"Just lower your tone\")\n",
    "        engine2.iterate()\n",
    "        print(pygame.mixer.music.get_pos())\n",
    "    if(pygame.mixer.music.get_pos() == 92550):\n",
    "        print(pygame.mixer.music.get_pos())\n",
    "        engine2.endLoop()\n",
    "        engine2.startLoop(False)\n",
    "        engine2.say(\"Cause you could get hit\")\n",
    "        engine2.iterate()\n",
    "        print(pygame.mixer.music.get_pos())\n",
    "    if(pygame.mixer.music.get_pos() == 94000):\n",
    "        print(pygame.mixer.music.get_pos())\n",
    "        engine2.endLoop()\n",
    "        engine2.startLoop(False)\n",
    "        engine.setProperty(\"rate\", 300)\n",
    "        engine2.say(\"It's big oh nine two ehm ehl bee oh ay\")\n",
    "        engine2.iterate()\n",
    "        print(pygame.mixer.music.get_pos())\n",
    "    if(pygame.mixer.music.get_pos() == 96090):\n",
    "        print(pygame.mixer.music.get_pos())\n",
    "        engine2.endLoop()\n",
    "        engine2.startLoop(False)\n",
    "        engine.setProperty(\"rate\", 250)\n",
    "        engine2.say(\"I make a call and it's war\")\n",
    "        engine2.iterate()\n",
    "        print(pygame.mixer.music.get_pos())\n",
    "    if(pygame.mixer.music.get_pos() == 97860):\n",
    "        print(pygame.mixer.music.get_pos())\n",
    "        engine2.endLoop()\n",
    "        engine2.startLoop(False)\n",
    "        engine.setProperty(\"rate\", 260)\n",
    "        engine2.say(\"I bet I kick down the door\")\n",
    "        engine2.iterate()\n",
    "        print(pygame.mixer.music.get_pos())\n",
    "    if(pygame.mixer.music.get_pos() == 99240):\n",
    "        print(pygame.mixer.music.get_pos())\n",
    "        engine2.endLoop()\n",
    "        engine2.startLoop(False)\n",
    "        engine2.say(\"I bet I send him to the lord, uh\")\n",
    "        engine2.iterate()\n",
    "        print(pygame.mixer.music.get_pos())\n",
    "    if(pygame.mixer.music.get_pos() == 102700):\n",
    "        print(pygame.mixer.music.get_pos())\n",
    "        engine2.endLoop()\n",
    "        engine2.startLoop(False)\n",
    "        engine2.say(\"Got a bad bitch from overseas\")\n",
    "        engine2.iterate()\n",
    "        print(pygame.mixer.music.get_pos())\n",
    "    if(pygame.mixer.music.get_pos() == 104200):\n",
    "        print(pygame.mixer.music.get_pos())\n",
    "        engine2.endLoop()\n",
    "        engine2.startLoop(False)\n",
    "        engine2.say(\"Got a ten pack up in my jeans\")\n",
    "        engine2.iterate()\n",
    "        print(pygame.mixer.music.get_pos())\n",
    "    if(pygame.mixer.music.get_pos() == 105990):\n",
    "        print(pygame.mixer.music.get_pos())\n",
    "        engine2.endLoop()\n",
    "        engine2.startLoop(False)\n",
    "        engine2.say(\"I'm in Manhattan in these stores, uh\")\n",
    "        engine2.iterate()\n",
    "        print(pygame.mixer.music.get_pos())\n",
    "    if(pygame.mixer.music.get_pos() == 107250):\n",
    "        print(pygame.mixer.music.get_pos())\n",
    "        engine2.endLoop()\n",
    "        engine2.startLoop(False)\n",
    "        engine2.say(\"Don't try and run up on my V\")\n",
    "        engine2.iterate()\n",
    "        print(pygame.mixer.music.get_pos())\n",
    "    if(pygame.mixer.music.get_pos() == 109250):\n",
    "        print(pygame.mixer.music.get_pos())\n",
    "        engine2.endLoop()\n",
    "        engine2.startLoop(False)\n",
    "        engine2.say(\"I knock a hitta out his sneaks, while I'm shellin down his V, uh\")\n",
    "        engine2.iterate()\n",
    "        print(pygame.mixer.music.get_pos())\n",
    "    if(pygame.mixer.music.get_pos() == 112340):\n",
    "        print(pygame.mixer.music.get_pos())\n",
    "        engine2.endLoop()\n",
    "        engine2.startLoop(False)\n",
    "        engine2.say(\"Double G for the T\")\n",
    "        engine2.iterate()\n",
    "        print(pygame.mixer.music.get_pos())\n",
    "    if(pygame.mixer.music.get_pos() == 113380):\n",
    "        print(pygame.mixer.music.get_pos())\n",
    "        engine2.endLoop()\n",
    "        engine2.startLoop(False)\n",
    "        engine2.say(\"No Alicia I got Keys\")\n",
    "        engine2.iterate()\n",
    "        print(pygame.mixer.music.get_pos())\n",
    "    if(pygame.mixer.music.get_pos() == 114830):\n",
    "        print(pygame.mixer.music.get_pos())\n",
    "        engine2.endLoop()\n",
    "        engine2.startLoop(False)\n",
    "        engine2.say(\"Don't get your car swiss cheese\")\n",
    "        engine2.iterate()\n",
    "        print(pygame.mixer.music.get_pos())\n",
    "    if(pygame.mixer.music.get_pos() == 116000):\n",
    "        print(pygame.mixer.music.get_pos())\n",
    "        engine2.endLoop()\n",
    "        engine2.startLoop(False)\n",
    "        engine.setProperty(\"rate\", 300)\n",
    "        engine2.say(\"Neno cooler than a cooler he still a ooter he don't settle for nothin, uh\")\n",
    "        engine2.iterate()\n",
    "        print(pygame.mixer.music.get_pos())\n",
    "    "
   ]
  },
  {
   "cell_type": "code",
   "execution_count": 162,
   "metadata": {},
   "outputs": [],
   "source": [
    "pygame.mixer.music.stop()"
   ]
  },
  {
   "cell_type": "code",
   "execution_count": 163,
   "metadata": {},
   "outputs": [],
   "source": [
    "engine.endLoop()"
   ]
  },
  {
   "cell_type": "code",
   "execution_count": 29,
   "metadata": {},
   "outputs": [],
   "source": [
    "engine.say(\"Hello\")\n",
    "engine.runAndWait()"
   ]
  }
 ],
 "metadata": {
  "kernelspec": {
   "display_name": "Python 3",
   "language": "python",
   "name": "python3"
  },
  "language_info": {
   "codemirror_mode": {
    "name": "ipython",
    "version": 3
   },
   "file_extension": ".py",
   "mimetype": "text/x-python",
   "name": "python",
   "nbconvert_exporter": "python",
   "pygments_lexer": "ipython3",
   "version": "3.8.3"
  }
 },
 "nbformat": 4,
 "nbformat_minor": 4
}
