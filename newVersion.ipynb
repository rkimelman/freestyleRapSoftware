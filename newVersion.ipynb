{
 "cells": [
  {
   "cell_type": "code",
   "execution_count": 2,
   "metadata": {},
   "outputs": [],
   "source": [
    "import time\n",
    "\n",
    "class TimerError(Exception):\n",
    "    \"\"\"A custom exception used to report errors in use of Timer class\"\"\"\n",
    "\n",
    "class Timer:\n",
    "    def __init__(self):\n",
    "        self._start_time = None\n",
    "\n",
    "    def start(self):\n",
    "        \"\"\"Start a new timer\"\"\"\n",
    "        if self._start_time is not None:\n",
    "            raise TimerError(f\"Timer is running. Use .stop() to stop it\")\n",
    "\n",
    "        self._start_time = time.perf_counter()\n",
    "\n",
    "    def stop(self):\n",
    "        \"\"\"Stop the timer, and report the elapsed time\"\"\"\n",
    "        if self._start_time is None:\n",
    "            raise TimerError(f\"Timer is not running. Use .start() to start it\")\n",
    "\n",
    "        elapsed_time = time.perf_counter() - self._start_time\n",
    "        self._start_time = None\n",
    "        print(f\"Elapsed time: {elapsed_time:0.4f} seconds\")"
   ]
  },
  {
   "cell_type": "code",
   "execution_count": 11,
   "metadata": {},
   "outputs": [],
   "source": [
    "t = Timer()"
   ]
  },
  {
   "cell_type": "code",
   "execution_count": 26,
   "metadata": {},
   "outputs": [],
   "source": [
    "import pyttsx3"
   ]
  },
  {
   "cell_type": "code",
   "execution_count": 14,
   "metadata": {},
   "outputs": [
    {
     "name": "stdout",
     "output_type": "stream",
     "text": [
      "Elapsed time: 0.0001 seconds\n",
      "3.0179688930511475\n"
     ]
    }
   ],
   "source": [
    "t.start()\n",
    "start_time = time.time()\n",
    "t.stop()\n",
    "engine.say(\"This is a Melo beat\")\n",
    "engine.runAndWait()\n",
    "engine.stop()\n",
    "print(time.time()-start_time)"
   ]
  },
  {
   "cell_type": "code",
   "execution_count": 15,
   "metadata": {},
   "outputs": [],
   "source": [
    "from playsound import playsound"
   ]
  },
  {
   "cell_type": "code",
   "execution_count": 22,
   "metadata": {},
   "outputs": [],
   "source": [
    "file = \"welcometotheparty.mp3\""
   ]
  },
  {
   "cell_type": "code",
   "execution_count": 37,
   "metadata": {},
   "outputs": [
    {
     "name": "stdout",
     "output_type": "stream",
     "text": [
      "Collecting python-vlc\n",
      "  Downloading python_vlc-3.0.16120-py3-none-any.whl (79 kB)\n",
      "\u001b[2K     \u001b[90m━━━━━━━━━━━━━━━━━━━━━━━━━━━━━━━━━━━━━━━\u001b[0m \u001b[32m79.6/79.6 KB\u001b[0m \u001b[31m854.8 kB/s\u001b[0m eta \u001b[36m0:00:00\u001b[0m \u001b[36m0:00:01\u001b[0m\n",
      "\u001b[?25hInstalling collected packages: python-vlc\n",
      "Successfully installed python-vlc-3.0.16120\n",
      "\u001b[33mWARNING: You are using pip version 22.0.3; however, version 22.0.4 is available.\n",
      "You should consider upgrading via the '/Library/Frameworks/Python.framework/Versions/3.8/bin/python3.8 -m pip install --upgrade pip' command.\u001b[0m\u001b[33m\n",
      "\u001b[0m"
     ]
    }
   ],
   "source": [
    "!pip install python-vlc"
   ]
  },
  {
   "cell_type": "code",
   "execution_count": null,
   "metadata": {},
   "outputs": [],
   "source": [
    "import pygame\n",
    "pygame.mixer.init()\n",
    "pygame.mixer.music.load('welcometotheparty2.mp3')\n",
    "pygame.mixer.music.play()\n",
    "start_time = time.time()\n",
    "time.sleep(13)\n",
    "engine.say(\"Baby welcome to the party\")\n",
    "engine.runAndWait()\n",
    "engine.say(\"I'm off the Molly the Xan the lean that's why I'm movin retarded\")\n",
    "engine.say(\"that's why I'm movin retarded\")\n",
    "engine.runAndWait()\n",
    "engine.say(\"Baby, welcome to the party, uh\")\n",
    "engine.say(\"I hit that boy up then I go skate in a rari\")\n",
    "engine.say(\"Baby welcome to the party\")\n",
    "engine.say(\"Bitch, I'm a thot, get me lit, Gun on my hip\")\n",
    "engine.say(\"One-in-the-head, ten in the clip\")\n",
    "engine.say(\"Baby, baby don't trip\")\n",
    "engine.say(\"Just lower your tone, cause you could get hit\")\n",
    "engine.say(\"Don't let that henny in mah system, nah\")\n",
    "engine.say(\"I catch a body, next day I forget it\")\n",
    "engine.say(\"Next day i forget it\")\n",
    "time.sleep(1)\n",
    "engine.say(\"trent just caught a body\")\n",
    "engine.say(\"and that's on the gang, I was just wit him\")\n",
    "engine.runAndWait()\n",
    "engine.stop()"
   ]
  },
  {
   "cell_type": "code",
   "execution_count": 175,
   "metadata": {},
   "outputs": [],
   "source": [
    "pygame.mixer.music.stop()"
   ]
  },
  {
   "cell_type": "code",
   "execution_count": 159,
   "metadata": {},
   "outputs": [
    {
     "name": "stdout",
     "output_type": "stream",
     "text": [
      "Collecting pedalboard\n",
      "  Downloading pedalboard-0.5.3-cp38-cp38-macosx_10_9_x86_64.whl (3.8 MB)\n",
      "\u001b[2K     \u001b[90m━━━━━━━━━━━━━━━━━━━━━━━━━━━━━━━━━━━━━━━━\u001b[0m \u001b[32m3.8/3.8 MB\u001b[0m \u001b[31m890.3 kB/s\u001b[0m eta \u001b[36m0:00:00\u001b[0m00:01\u001b[0m00:01\u001b[0m\n",
      "\u001b[?25hRequirement already satisfied: numpy in /Library/Frameworks/Python.framework/Versions/3.8/lib/python3.8/site-packages (from pedalboard) (1.18.4)\n",
      "Installing collected packages: pedalboard\n",
      "Successfully installed pedalboard-0.5.3\n",
      "\u001b[33mWARNING: You are using pip version 22.0.3; however, version 22.0.4 is available.\n",
      "You should consider upgrading via the '/Library/Frameworks/Python.framework/Versions/3.8/bin/python3.8 -m pip install --upgrade pip' command.\u001b[0m\u001b[33m\n",
      "\u001b[0m"
     ]
    }
   ],
   "source": [
    "!pip install pedalboard"
   ]
  },
  {
   "cell_type": "code",
   "execution_count": 161,
   "metadata": {},
   "outputs": [],
   "source": [
    "from pedalboard import Pedalboard, Chorus, Reverb\n",
    "from pedalboard.io import AudioFile\n",
    "\n",
    "# Read in a whole audio file:\n",
    "with AudioFile('welcometotheparty2.mp3', 'r') as f:\n",
    "    audio = f.read(f.frames)\n",
    "    samplerate = f.samplerate\n",
    "\n",
    "# Make a Pedalboard object, containing multiple plugins:\n",
    "board = Pedalboard([Chorus(), Reverb(room_size=0.25)])\n",
    "\n",
    "# Run the audio through this pedalboard!\n",
    "effected = board(audio, samplerate)\n",
    "\n",
    "# Write the audio back as a wav file:\n",
    "with AudioFile('welcometotheparty3.mp3', 'w', samplerate, effected.shape[0]) as f:\n",
    "    f.write(effected)"
   ]
  },
  {
   "cell_type": "code",
   "execution_count": 174,
   "metadata": {},
   "outputs": [
    {
     "name": "stdout",
     "output_type": "stream",
     "text": [
      "13000\n",
      "15010\n",
      "18147\n",
      "18880\n",
      "25461\n",
      "26620\n",
      "27948\n",
      "28870\n",
      "29746\n",
      "30620\n",
      "31442\n",
      "32370\n",
      "33206\n",
      "34100\n",
      "35586\n",
      "37140\n",
      "38223\n",
      "38890\n",
      "41519\n",
      "42450\n",
      "45814\n",
      "46830\n",
      "48473\n",
      "49050\n",
      "50029\n"
     ]
    },
    {
     "ename": "KeyboardInterrupt",
     "evalue": "",
     "output_type": "error",
     "traceback": [
      "\u001b[0;31m---------------------------------------------------------------------------\u001b[0m",
      "\u001b[0;31mKeyboardInterrupt\u001b[0m                         Traceback (most recent call last)",
      "\u001b[0;32m<ipython-input-174-d1f7f1d32d8a>\u001b[0m in \u001b[0;36m<module>\u001b[0;34m\u001b[0m\n\u001b[1;32m     75\u001b[0m         \u001b[0mengine5\u001b[0m\u001b[0;34m.\u001b[0m\u001b[0mstop\u001b[0m\u001b[0;34m(\u001b[0m\u001b[0;34m)\u001b[0m\u001b[0;34m\u001b[0m\u001b[0;34m\u001b[0m\u001b[0m\n\u001b[1;32m     76\u001b[0m         \u001b[0mprint\u001b[0m\u001b[0;34m(\u001b[0m\u001b[0mpygame\u001b[0m\u001b[0;34m.\u001b[0m\u001b[0mmixer\u001b[0m\u001b[0;34m.\u001b[0m\u001b[0mmusic\u001b[0m\u001b[0;34m.\u001b[0m\u001b[0mget_pos\u001b[0m\u001b[0;34m(\u001b[0m\u001b[0;34m)\u001b[0m\u001b[0;34m)\u001b[0m\u001b[0;34m\u001b[0m\u001b[0;34m\u001b[0m\u001b[0m\n\u001b[0;32m---> 77\u001b[0;31m     \u001b[0;32mif\u001b[0m\u001b[0;34m(\u001b[0m\u001b[0mpygame\u001b[0m\u001b[0;34m.\u001b[0m\u001b[0mmixer\u001b[0m\u001b[0;34m.\u001b[0m\u001b[0mmusic\u001b[0m\u001b[0;34m.\u001b[0m\u001b[0mget_pos\u001b[0m\u001b[0;34m(\u001b[0m\u001b[0;34m)\u001b[0m \u001b[0;34m==\u001b[0m \u001b[0;36m42450\u001b[0m\u001b[0;34m)\u001b[0m\u001b[0;34m:\u001b[0m\u001b[0;34m\u001b[0m\u001b[0;34m\u001b[0m\u001b[0m\n\u001b[0m\u001b[1;32m     78\u001b[0m         \u001b[0mprint\u001b[0m\u001b[0;34m(\u001b[0m\u001b[0mpygame\u001b[0m\u001b[0;34m.\u001b[0m\u001b[0mmixer\u001b[0m\u001b[0;34m.\u001b[0m\u001b[0mmusic\u001b[0m\u001b[0;34m.\u001b[0m\u001b[0mget_pos\u001b[0m\u001b[0;34m(\u001b[0m\u001b[0;34m)\u001b[0m\u001b[0;34m)\u001b[0m\u001b[0;34m\u001b[0m\u001b[0;34m\u001b[0m\u001b[0m\n\u001b[1;32m     79\u001b[0m         \u001b[0mengine5\u001b[0m\u001b[0;34m.\u001b[0m\u001b[0msay\u001b[0m\u001b[0;34m(\u001b[0m\u001b[0;34m\"Catch a body, next day I forget it\"\u001b[0m\u001b[0;34m)\u001b[0m\u001b[0;34m\u001b[0m\u001b[0;34m\u001b[0m\u001b[0m\n",
      "\u001b[0;31mKeyboardInterrupt\u001b[0m: "
     ]
    }
   ],
   "source": [
    "import pygame\n",
    "engine = pyttsx3.init()\n",
    "engine2 = pyttsx3.init()\n",
    "engine3 = pyttsx3.init()\n",
    "engine4 = pyttsx3.init()\n",
    "engine5 = pyttsx3.init()\n",
    "pygame.mixer.init()\n",
    "pygame.mixer.music.load('welcometotheparty2.mp3')\n",
    "start_time = time.time()\n",
    "pygame.mixer.music.play()\n",
    "while pygame.mixer.music.get_busy():\n",
    "    if(pygame.mixer.music.get_pos() == 13000):\n",
    "        print(pygame.mixer.music.get_pos())\n",
    "        engine.setProperty(\"rate\", 250)\n",
    "        engine.say(\"Baby welcome to the party\")\n",
    "        engine.runAndWait()\n",
    "    if(pygame.mixer.music.get_pos() == 15010):\n",
    "        print(pygame.mixer.music.get_pos())\n",
    "        engine2.say(\"I'm off the Molly the Xan the lean\")\n",
    "        engine2.runAndWait()\n",
    "        engine3.say(\"That's why I'm movin retarded\")\n",
    "        engine3.runAndWait()\n",
    "        print(pygame.mixer.music.get_pos())\n",
    "    if(pygame.mixer.music.get_pos() == 18880):\n",
    "        print(pygame.mixer.music.get_pos())\n",
    "        engine4.say(\"That's why I'm movin retarded\")\n",
    "        engine4.say(\"Baby welcome to the party, uh\")\n",
    "        engine4.runAndWait()\n",
    "        engine5.say(\"I hit the boy up and then I go skate in a rawree\")\n",
    "        engine5.say(\"Baby welcome to the party!\")\n",
    "        engine5.runAndWait()\n",
    "        print(pygame.mixer.music.get_pos())\n",
    "    if(pygame.mixer.music.get_pos() == 26620):\n",
    "        print(pygame.mixer.music.get_pos())\n",
    "        engine5.say(\"Bitch I'm a thot get me lit\")\n",
    "        engine5.runAndWait()\n",
    "        engine5.stop()\n",
    "        print(pygame.mixer.music.get_pos())\n",
    "    if(pygame.mixer.music.get_pos() == 28870):\n",
    "        print(pygame.mixer.music.get_pos())\n",
    "        engine5.say(\"Gun on my hip\")\n",
    "        engine5.runAndWait()\n",
    "        engine5.stop()\n",
    "        print(pygame.mixer.music.get_pos())\n",
    "    if(pygame.mixer.music.get_pos() == 30620):\n",
    "        print(pygame.mixer.music.get_pos())\n",
    "        engine5.say(\"One in the head\")\n",
    "        engine5.runAndWait()\n",
    "        engine5.stop()\n",
    "        print(pygame.mixer.music.get_pos())\n",
    "    if(pygame.mixer.music.get_pos() == 32370):\n",
    "        print(pygame.mixer.music.get_pos())\n",
    "        engine5.say(\"Ten in the clip\")\n",
    "        engine5.runAndWait()\n",
    "        engine5.stop()\n",
    "        print(pygame.mixer.music.get_pos())\n",
    "    if(pygame.mixer.music.get_pos() == 34100):\n",
    "        print(pygame.mixer.music.get_pos())\n",
    "        engine5.say(\"Baby, baby don't trip\")\n",
    "        engine5.runAndWait()\n",
    "        engine5.stop()\n",
    "        print(pygame.mixer.music.get_pos())\n",
    "    if(pygame.mixer.music.get_pos() == 37140):\n",
    "        print(pygame.mixer.music.get_pos())\n",
    "        engine5.say(\"Just lower your tone\")\n",
    "        engine5.runAndWait()\n",
    "        engine5.stop()\n",
    "        print(pygame.mixer.music.get_pos())\n",
    "    if(pygame.mixer.music.get_pos() == 38890):\n",
    "        print(pygame.mixer.music.get_pos())\n",
    "        engine5.say(\"Cause you could get hit\")\n",
    "        engine5.runAndWait()\n",
    "        engine5.say(\"don't let that henny in my system\")\n",
    "        engine5.runAndWait()\n",
    "        engine5.stop()\n",
    "        print(pygame.mixer.music.get_pos())\n",
    "    if(pygame.mixer.music.get_pos() == 42450):\n",
    "        print(pygame.mixer.music.get_pos())\n",
    "        engine5.say(\"Catch a body, next day I forget it\")\n",
    "        engine5.runAndWait()\n",
    "        engine5.say(\"next day I forget it\")\n",
    "        engine.runAndWait()\n",
    "        engine5.stop()\n",
    "        print(pygame.mixer.music.get_pos())\n",
    "    if(pygame.mixer.music.get_pos() == 46830):\n",
    "        print(pygame.mixer.music.get_pos())\n",
    "        engine5.say(\"Dread just caught a body, boom\")\n",
    "        engine5.runAndWait()\n",
    "        engine5.stop()\n",
    "        print(pygame.mixer.music.get_pos())\n",
    "    if(pygame.mixer.music.get_pos() == 49050):\n",
    "        print(pygame.mixer.music.get_pos())\n",
    "        engine5.say(\"Dat's on da gang\")\n",
    "        engine5.runAndWait()\n",
    "        engine5.say()\n",
    "        engine5.stop()\n",
    "        print(pygame.mixer.music.get_pos())"
   ]
  },
  {
   "cell_type": "code",
   "execution_count": 73,
   "metadata": {},
   "outputs": [],
   "source": [
    "engine.endLoop()"
   ]
  }
 ],
 "metadata": {
  "kernelspec": {
   "display_name": "Python 3",
   "language": "python",
   "name": "python3"
  },
  "language_info": {
   "codemirror_mode": {
    "name": "ipython",
    "version": 3
   },
   "file_extension": ".py",
   "mimetype": "text/x-python",
   "name": "python",
   "nbconvert_exporter": "python",
   "pygments_lexer": "ipython3",
   "version": "3.8.3"
  }
 },
 "nbformat": 4,
 "nbformat_minor": 4
}
