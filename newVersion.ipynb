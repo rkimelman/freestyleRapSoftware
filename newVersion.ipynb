{
 "cells": [
  {
   "cell_type": "code",
   "execution_count": 2,
   "metadata": {},
   "outputs": [],
   "source": [
    "import time\n",
    "\n",
    "class TimerError(Exception):\n",
    "    \"\"\"A custom exception used to report errors in use of Timer class\"\"\"\n",
    "\n",
    "class Timer:\n",
    "    def __init__(self):\n",
    "        self._start_time = None\n",
    "\n",
    "    def start(self):\n",
    "        \"\"\"Start a new timer\"\"\"\n",
    "        if self._start_time is not None:\n",
    "            raise TimerError(f\"Timer is running. Use .stop() to stop it\")\n",
    "\n",
    "        self._start_time = time.perf_counter()\n",
    "\n",
    "    def stop(self):\n",
    "        \"\"\"Stop the timer, and report the elapsed time\"\"\"\n",
    "        if self._start_time is None:\n",
    "            raise TimerError(f\"Timer is not running. Use .start() to start it\")\n",
    "\n",
    "        elapsed_time = time.perf_counter() - self._start_time\n",
    "        self._start_time = None\n",
    "        print(f\"Elapsed time: {elapsed_time:0.4f} seconds\")"
   ]
  },
  {
   "cell_type": "code",
   "execution_count": 11,
   "metadata": {},
   "outputs": [],
   "source": [
    "t = Timer()"
   ]
  },
  {
   "cell_type": "code",
   "execution_count": 26,
   "metadata": {},
   "outputs": [],
   "source": [
    "import pyttsx3"
   ]
  },
  {
   "cell_type": "code",
   "execution_count": 14,
   "metadata": {},
   "outputs": [
    {
     "name": "stdout",
     "output_type": "stream",
     "text": [
      "Elapsed time: 0.0001 seconds\n",
      "3.0179688930511475\n"
     ]
    }
   ],
   "source": [
    "t.start()\n",
    "start_time = time.time()\n",
    "t.stop()\n",
    "engine.say(\"This is a Melo beat\")\n",
    "engine.runAndWait()\n",
    "engine.stop()\n",
    "print(time.time()-start_time)"
   ]
  },
  {
   "cell_type": "code",
   "execution_count": 15,
   "metadata": {},
   "outputs": [],
   "source": [
    "from playsound import playsound"
   ]
  },
  {
   "cell_type": "code",
   "execution_count": 22,
   "metadata": {},
   "outputs": [],
   "source": [
    "file = \"welcometotheparty.mp3\""
   ]
  },
  {
   "cell_type": "code",
   "execution_count": 37,
   "metadata": {},
   "outputs": [
    {
     "name": "stdout",
     "output_type": "stream",
     "text": [
      "Collecting python-vlc\n",
      "  Downloading python_vlc-3.0.16120-py3-none-any.whl (79 kB)\n",
      "\u001b[2K     \u001b[90m━━━━━━━━━━━━━━━━━━━━━━━━━━━━━━━━━━━━━━━\u001b[0m \u001b[32m79.6/79.6 KB\u001b[0m \u001b[31m854.8 kB/s\u001b[0m eta \u001b[36m0:00:00\u001b[0m \u001b[36m0:00:01\u001b[0m\n",
      "\u001b[?25hInstalling collected packages: python-vlc\n",
      "Successfully installed python-vlc-3.0.16120\n",
      "\u001b[33mWARNING: You are using pip version 22.0.3; however, version 22.0.4 is available.\n",
      "You should consider upgrading via the '/Library/Frameworks/Python.framework/Versions/3.8/bin/python3.8 -m pip install --upgrade pip' command.\u001b[0m\u001b[33m\n",
      "\u001b[0m"
     ]
    }
   ],
   "source": [
    "!pip install python-vlc"
   ]
  },
  {
   "cell_type": "code",
   "execution_count": null,
   "metadata": {},
   "outputs": [],
   "source": [
    "import pygame\n",
    "pygame.mixer.init()\n",
    "pygame.mixer.music.load('welcometotheparty2.mp3')\n",
    "pygame.mixer.music.play()\n",
    "start_time = time.time()\n",
    "time.sleep(13)\n",
    "engine.say(\"Baby welcome to the party\")\n",
    "engine.runAndWait()\n",
    "engine.say(\"I'm off the Molly the Xan the lean that's why I'm movin retarded\")\n",
    "engine.say(\"that's why I'm movin retarded\")\n",
    "engine.runAndWait()\n",
    "engine.say(\"Baby, welcome to the party, uh\")\n",
    "engine.say(\"I hit that boy up then I go skate in a rari\")\n",
    "engine.say(\"Baby welcome to the party\")\n",
    "engine.say(\"Bitch, I'm a thot, get me lit, Gun on my hip\")\n",
    "engine.say(\"One-in-the-head, ten in the clip\")\n",
    "engine.say(\"Baby, baby don't trip\")\n",
    "engine.say(\"Just lower your tone, cause you could get hit\")\n",
    "engine.say(\"Don't let that henny in mah system, nah\")\n",
    "engine.say(\"I catch a body, next day I forget it\")\n",
    "engine.say(\"Next day i forget it\")\n",
    "time.sleep(1)\n",
    "engine.say(\"trent just caught a body\")\n",
    "engine.say(\"and that's on the gang, I was just wit him\")\n",
    "engine.runAndWait()\n",
    "engine.stop()"
   ]
  },
  {
   "cell_type": "code",
   "execution_count": 103,
   "metadata": {},
   "outputs": [],
   "source": [
    "pygame.mixer.music.stop()"
   ]
  },
  {
   "cell_type": "code",
   "execution_count": null,
   "metadata": {},
   "outputs": [
    {
     "name": "stdout",
     "output_type": "stream",
     "text": [
      "13000\n"
     ]
    }
   ],
   "source": [
    "import pygame\n",
    "engine = pyttsx3.init()\n",
    "engine2 = pyttsx3.init()\n",
    "engine3 = pyttsx3.init()\n",
    "engine4 = pyttsx3.init()\n",
    "engine5 = pyttsx3.init()\n",
    "pygame.mixer.init()\n",
    "pygame.mixer.music.load('welcometotheparty2.mp3')\n",
    "start_time = time.time()\n",
    "pygame.mixer.music.play()\n",
    "while pygame.mixer.music.get_busy():\n",
    "    if(pygame.mixer.music.get_pos() == 13000):\n",
    "        print(pygame.mixer.music.get_pos())\n",
    "        engine.setProperty(\"rate\", 250)\n",
    "        engine.say(\"Baby welcome to the party\")\n",
    "        engine.runAndWait()\n",
    "    if(pygame.mixer.music.get_pos() == 15010):\n",
    "        print(pygame.mixer.music.get_pos())\n",
    "        engine2.say(\"I'm off the Molly the Xan the lean\")\n",
    "        engine2.runAndWait()\n",
    "        engine3.say(\"That's why I'm movin retarded\")\n",
    "        engine3.runAndWait()\n",
    "        print(pygame.mixer.music.get_pos())\n",
    "    if(pygame.mixer.music.get_pos() == 18880):\n",
    "        print(pygame.mixer.music.get_pos())\n",
    "        engine4.say(\"That's why I'm movin retarded\")\n",
    "        engine4.say(\"Baby welcome to the party, uh\")\n",
    "        engine4.runAndWait()\n",
    "        engine5.say(\"I hit the boy up and then I go skate in a 'Rari\")\n",
    "        engine5.say(\"Baby welcome to the party!\")\n",
    "        engine5.runAndWait()\n",
    "        print(pygame.mixer.music.get_pos())\n",
    "    if(pygame.mixer.music.get_pos() == 26620):\n",
    "        print(pygame.mixer.music.get_pos())\n",
    "        engine5.say(\"Bitch I'm a thot get me lit\")\n",
    "        engine5.runAndWait()\n",
    "        engine5.stop()\n",
    "        print(pygame.mixer.music.get_pos())\n",
    "    if(pygame.mixer.music.get_pos() == 28870):\n",
    "        print(pygame.mixer.music.get_pos())\n",
    "        engine5.say(\"Gun on my hip\")\n",
    "        engine5.runAndWait()\n",
    "        engine5.stop()\n",
    "        print(pygame.mixer.music.get_pos())\n",
    "    if(pygame.mixer.music.get_pos() == 30620):\n",
    "        print(pygame.mixer.music.get_pos())\n",
    "        engine5.say(\"One in the head\")\n",
    "        engine5.runAndWait()\n",
    "        engine5.stop()\n",
    "        print(pygame.mixer.music.get_pos())"
   ]
  },
  {
   "cell_type": "code",
   "execution_count": 73,
   "metadata": {},
   "outputs": [],
   "source": [
    "engine.endLoop()"
   ]
  }
 ],
 "metadata": {
  "kernelspec": {
   "display_name": "Python 3",
   "language": "python",
   "name": "python3"
  },
  "language_info": {
   "codemirror_mode": {
    "name": "ipython",
    "version": 3
   },
   "file_extension": ".py",
   "mimetype": "text/x-python",
   "name": "python",
   "nbconvert_exporter": "python",
   "pygments_lexer": "ipython3",
   "version": "3.8.3"
  }
 },
 "nbformat": 4,
 "nbformat_minor": 4
}
