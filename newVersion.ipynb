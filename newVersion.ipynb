{
 "cells": [
  {
   "cell_type": "code",
   "execution_count": 2,
   "metadata": {},
   "outputs": [],
   "source": [
    "import time\n",
    "\n",
    "class TimerError(Exception):\n",
    "    \"\"\"A custom exception used to report errors in use of Timer class\"\"\"\n",
    "\n",
    "class Timer:\n",
    "    def __init__(self):\n",
    "        self._start_time = None\n",
    "\n",
    "    def start(self):\n",
    "        \"\"\"Start a new timer\"\"\"\n",
    "        if self._start_time is not None:\n",
    "            raise TimerError(f\"Timer is running. Use .stop() to stop it\")\n",
    "\n",
    "        self._start_time = time.perf_counter()\n",
    "\n",
    "    def stop(self):\n",
    "        \"\"\"Stop the timer, and report the elapsed time\"\"\"\n",
    "        if self._start_time is None:\n",
    "            raise TimerError(f\"Timer is not running. Use .start() to start it\")\n",
    "\n",
    "        elapsed_time = time.perf_counter() - self._start_time\n",
    "        self._start_time = None\n",
    "        print(f\"Elapsed time: {elapsed_time:0.4f} seconds\")"
   ]
  },
  {
   "cell_type": "code",
   "execution_count": 11,
   "metadata": {},
   "outputs": [],
   "source": [
    "t = Timer()"
   ]
  },
  {
   "cell_type": "code",
   "execution_count": 26,
   "metadata": {},
   "outputs": [],
   "source": [
    "import pyttsx3"
   ]
  },
  {
   "cell_type": "code",
   "execution_count": 14,
   "metadata": {},
   "outputs": [
    {
     "name": "stdout",
     "output_type": "stream",
     "text": [
      "Elapsed time: 0.0001 seconds\n",
      "3.0179688930511475\n"
     ]
    }
   ],
   "source": [
    "t.start()\n",
    "start_time = time.time()\n",
    "t.stop()\n",
    "engine.say(\"This is a Melo beat\")\n",
    "engine.runAndWait()\n",
    "engine.stop()\n",
    "print(time.time()-start_time)"
   ]
  },
  {
   "cell_type": "code",
   "execution_count": 15,
   "metadata": {},
   "outputs": [],
   "source": [
    "from playsound import playsound"
   ]
  },
  {
   "cell_type": "code",
   "execution_count": 22,
   "metadata": {},
   "outputs": [],
   "source": [
    "file = \"welcometotheparty.mp3\""
   ]
  },
  {
   "cell_type": "code",
   "execution_count": 37,
   "metadata": {},
   "outputs": [
    {
     "name": "stdout",
     "output_type": "stream",
     "text": [
      "Collecting python-vlc\n",
      "  Downloading python_vlc-3.0.16120-py3-none-any.whl (79 kB)\n",
      "\u001b[2K     \u001b[90m━━━━━━━━━━━━━━━━━━━━━━━━━━━━━━━━━━━━━━━\u001b[0m \u001b[32m79.6/79.6 KB\u001b[0m \u001b[31m854.8 kB/s\u001b[0m eta \u001b[36m0:00:00\u001b[0m \u001b[36m0:00:01\u001b[0m\n",
      "\u001b[?25hInstalling collected packages: python-vlc\n",
      "Successfully installed python-vlc-3.0.16120\n",
      "\u001b[33mWARNING: You are using pip version 22.0.3; however, version 22.0.4 is available.\n",
      "You should consider upgrading via the '/Library/Frameworks/Python.framework/Versions/3.8/bin/python3.8 -m pip install --upgrade pip' command.\u001b[0m\u001b[33m\n",
      "\u001b[0m"
     ]
    }
   ],
   "source": [
    "!pip install python-vlc"
   ]
  },
  {
   "cell_type": "code",
   "execution_count": null,
   "metadata": {},
   "outputs": [],
   "source": [
    "import pygame\n",
    "pygame.mixer.init()\n",
    "pygame.mixer.music.load('welcometotheparty2.mp3')\n",
    "pygame.mixer.music.play()\n",
    "start_time = time.time()\n",
    "time.sleep(13)\n",
    "engine.say(\"Baby welcome to the party\")\n",
    "engine.runAndWait()\n",
    "engine.say(\"I'm off the Molly the Xan the lean that's why I'm movin retarded\")\n",
    "engine.say(\"that's why I'm movin retarded\")\n",
    "engine.runAndWait()\n",
    "engine.say(\"Baby, welcome to the party, uh\")\n",
    "engine.say(\"I hit that boy up then I go skate in a rari\")\n",
    "engine.say(\"Baby welcome to the party\")\n",
    "engine.say(\"Bitch, I'm a thot, get me lit, Gun on my hip\")\n",
    "engine.say(\"One-in-the-head, ten in the clip\")\n",
    "engine.say(\"Baby, baby don't trip\")\n",
    "engine.say(\"Just lower your tone, cause you could get hit\")\n",
    "engine.say(\"Don't let that henny in mah system, nah\")\n",
    "engine.say(\"I catch a body, next day I forget it\")\n",
    "engine.say(\"Next day i forget it\")\n",
    "time.sleep(1)\n",
    "engine.say(\"trent just caught a body\")\n",
    "engine.say(\"and that's on the gang, I was just wit him\")\n",
    "engine.runAndWait()\n",
    "engine.stop()"
   ]
  },
  {
   "cell_type": "code",
   "execution_count": 124,
   "metadata": {},
   "outputs": [],
   "source": [
    "pygame.mixer.music.stop()"
   ]
  },
  {
   "cell_type": "code",
   "execution_count": 125,
   "metadata": {},
   "outputs": [
    {
     "name": "stdout",
     "output_type": "stream",
     "text": [
      "Collecting pysndfx\n",
      "  Downloading pysndfx-0.3.6.tar.gz (5.9 kB)\n",
      "  Preparing metadata (setup.py) ... \u001b[?25ldone\n",
      "\u001b[?25hRequirement already satisfied: numpy in /Library/Frameworks/Python.framework/Versions/3.8/lib/python3.8/site-packages (from pysndfx) (1.18.4)\n",
      "Building wheels for collected packages: pysndfx\n",
      "  Building wheel for pysndfx (setup.py) ... \u001b[?25ldone\n",
      "\u001b[?25h  Created wheel for pysndfx: filename=pysndfx-0.3.6-py3-none-any.whl size=6551 sha256=4f152063d244191044265b41a20e4dcdda3df9da39640a54b717bb68eb89ecc8\n",
      "  Stored in directory: /Users/robbyice/Library/Caches/pip/wheels/29/68/c2/5c2ea9b66807a28769f6244dca6390ad48e5b507dd04c14ddf\n",
      "Successfully built pysndfx\n",
      "Installing collected packages: pysndfx\n",
      "Successfully installed pysndfx-0.3.6\n",
      "\u001b[33mWARNING: You are using pip version 22.0.3; however, version 22.0.4 is available.\n",
      "You should consider upgrading via the '/Library/Frameworks/Python.framework/Versions/3.8/bin/python3.8 -m pip install --upgrade pip' command.\u001b[0m\u001b[33m\n",
      "\u001b[0m"
     ]
    }
   ],
   "source": [
    "! pip install pysndfx"
   ]
  },
  {
   "cell_type": "code",
   "execution_count": 126,
   "metadata": {},
   "outputs": [],
   "source": [
    "from pysndfx import AudioEffectsChain\n",
    "\n",
    "fx = (\n",
    "    AudioEffectsChain()\n",
    "    .highshelf()\n",
    "    .reverb()\n",
    "    .phaser()\n",
    "    .delay()\n",
    "    .lowshelf()\n",
    ")"
   ]
  },
  {
   "cell_type": "code",
   "execution_count": 133,
   "metadata": {},
   "outputs": [
    {
     "name": "stdout",
     "output_type": "stream",
     "text": [
      "Collecting librosa\n",
      "  Downloading librosa-0.9.1-py3-none-any.whl (213 kB)\n",
      "\u001b[2K     \u001b[90m━━━━━━━━━━━━━━━━━━━━━━━━━━━━━━━━━━━━━━━\u001b[0m \u001b[32m213.1/213.1 KB\u001b[0m \u001b[31m1.1 MB/s\u001b[0m eta \u001b[36m0:00:00\u001b[0ma \u001b[36m0:00:01\u001b[0m\n",
      "\u001b[?25hCollecting numba>=0.45.1\n",
      "  Downloading numba-0.55.1-cp38-cp38-macosx_10_14_x86_64.whl (2.3 MB)\n",
      "\u001b[2K     \u001b[90m━━━━━━━━━━━━━━━━━━━━━━━━━━━━━━━━━━━━━━━━\u001b[0m \u001b[32m2.3/2.3 MB\u001b[0m \u001b[31m1.2 MB/s\u001b[0m eta \u001b[36m0:00:00\u001b[0m00:01\u001b[0m00:01\u001b[0m\n",
      "\u001b[?25hCollecting pooch>=1.0\n",
      "  Downloading pooch-1.6.0-py3-none-any.whl (56 kB)\n",
      "\u001b[2K     \u001b[90m━━━━━━━━━━━━━━━━━━━━━━━━━━━━━━━━━━━━━━━\u001b[0m \u001b[32m56.3/56.3 KB\u001b[0m \u001b[31m912.6 kB/s\u001b[0m eta \u001b[36m0:00:00\u001b[0m \u001b[36m0:00:01\u001b[0m\n",
      "\u001b[?25hRequirement already satisfied: packaging>=20.0 in /Library/Frameworks/Python.framework/Versions/3.8/lib/python3.8/site-packages (from librosa) (20.4)\n",
      "Collecting resampy>=0.2.2\n",
      "  Downloading resampy-0.2.2.tar.gz (323 kB)\n",
      "\u001b[2K     \u001b[90m━━━━━━━━━━━━━━━━━━━━━━━━━━━━━━━━━━━━━━━\u001b[0m \u001b[32m323.4/323.4 KB\u001b[0m \u001b[31m1.1 MB/s\u001b[0m eta \u001b[36m0:00:00\u001b[0ma \u001b[36m0:00:01\u001b[0m\n",
      "\u001b[?25h  Preparing metadata (setup.py) ... \u001b[?25ldone\n",
      "\u001b[?25hRequirement already satisfied: numpy>=1.17.0 in /Library/Frameworks/Python.framework/Versions/3.8/lib/python3.8/site-packages (from librosa) (1.18.4)\n",
      "Requirement already satisfied: decorator>=4.0.10 in /Library/Frameworks/Python.framework/Versions/3.8/lib/python3.8/site-packages (from librosa) (4.4.2)\n",
      "Requirement already satisfied: joblib>=0.14 in /Library/Frameworks/Python.framework/Versions/3.8/lib/python3.8/site-packages (from librosa) (1.0.1)\n",
      "Requirement already satisfied: scikit-learn>=0.19.1 in /Library/Frameworks/Python.framework/Versions/3.8/lib/python3.8/site-packages (from librosa) (0.24.2)\n",
      "Collecting audioread>=2.1.5\n",
      "  Downloading audioread-2.1.9.tar.gz (377 kB)\n",
      "\u001b[2K     \u001b[90m━━━━━━━━━━━━━━━━━━━━━━━━━━━━━━━━━━━━━━━\u001b[0m \u001b[32m377.5/377.5 KB\u001b[0m \u001b[31m1.1 MB/s\u001b[0m eta \u001b[36m0:00:00\u001b[0m00:01\u001b[0m00:01\u001b[0m\n",
      "\u001b[?25h  Preparing metadata (setup.py) ... \u001b[?25ldone\n",
      "\u001b[?25hCollecting soundfile>=0.10.2\n",
      "  Downloading SoundFile-0.10.3.post1-py2.py3.cp26.cp27.cp32.cp33.cp34.cp35.cp36.pp27.pp32.pp33-none-macosx_10_5_x86_64.macosx_10_6_intel.macosx_10_9_intel.macosx_10_9_x86_64.whl (613 kB)\n",
      "\u001b[2K     \u001b[90m━━━━━━━━━━━━━━━━━━━━━━━━━━━━━━━━━━━━━━━\u001b[0m \u001b[32m613.4/613.4 KB\u001b[0m \u001b[31m1.2 MB/s\u001b[0m eta \u001b[36m0:00:00\u001b[0m00:01\u001b[0m00:01\u001b[0m\n",
      "\u001b[?25hRequirement already satisfied: scipy>=1.2.0 in /Library/Frameworks/Python.framework/Versions/3.8/lib/python3.8/site-packages (from librosa) (1.7.0)\n",
      "Requirement already satisfied: setuptools in /Library/Frameworks/Python.framework/Versions/3.8/lib/python3.8/site-packages (from numba>=0.45.1->librosa) (41.2.0)\n",
      "Collecting llvmlite<0.39,>=0.38.0rc1\n",
      "  Downloading llvmlite-0.38.0-cp38-cp38-macosx_10_9_x86_64.whl (25.5 MB)\n",
      "\u001b[2K     \u001b[90m━━━━━━━━━━━━━━━━━━━━━━━━━━━━━━━━━━━━━━━━\u001b[0m \u001b[32m25.5/25.5 MB\u001b[0m \u001b[31m1.2 MB/s\u001b[0m eta \u001b[36m0:00:00\u001b[0m00:01\u001b[0m00:01\u001b[0m\n",
      "\u001b[?25hRequirement already satisfied: six in /Library/Frameworks/Python.framework/Versions/3.8/lib/python3.8/site-packages (from packaging>=20.0->librosa) (1.15.0)\n",
      "Requirement already satisfied: pyparsing>=2.0.2 in /Library/Frameworks/Python.framework/Versions/3.8/lib/python3.8/site-packages (from packaging>=20.0->librosa) (2.4.7)\n",
      "Requirement already satisfied: requests>=2.19.0 in /Library/Frameworks/Python.framework/Versions/3.8/lib/python3.8/site-packages (from pooch>=1.0->librosa) (2.23.0)\n",
      "Collecting appdirs>=1.3.0\n",
      "  Downloading appdirs-1.4.4-py2.py3-none-any.whl (9.6 kB)\n",
      "Requirement already satisfied: threadpoolctl>=2.0.0 in /Library/Frameworks/Python.framework/Versions/3.8/lib/python3.8/site-packages (from scikit-learn>=0.19.1->librosa) (2.2.0)\n",
      "Requirement already satisfied: cffi>=1.0 in /Library/Frameworks/Python.framework/Versions/3.8/lib/python3.8/site-packages (from soundfile>=0.10.2->librosa) (1.15.0)\n",
      "Requirement already satisfied: pycparser in /Library/Frameworks/Python.framework/Versions/3.8/lib/python3.8/site-packages (from cffi>=1.0->soundfile>=0.10.2->librosa) (2.21)\n",
      "Requirement already satisfied: idna<3,>=2.5 in /Library/Frameworks/Python.framework/Versions/3.8/lib/python3.8/site-packages (from requests>=2.19.0->pooch>=1.0->librosa) (2.9)\n",
      "Requirement already satisfied: urllib3!=1.25.0,!=1.25.1,<1.26,>=1.21.1 in /Library/Frameworks/Python.framework/Versions/3.8/lib/python3.8/site-packages (from requests>=2.19.0->pooch>=1.0->librosa) (1.25.9)\n",
      "Requirement already satisfied: certifi>=2017.4.17 in /Library/Frameworks/Python.framework/Versions/3.8/lib/python3.8/site-packages (from requests>=2.19.0->pooch>=1.0->librosa) (2020.4.5.1)\n",
      "Requirement already satisfied: chardet<4,>=3.0.2 in /Library/Frameworks/Python.framework/Versions/3.8/lib/python3.8/site-packages (from requests>=2.19.0->pooch>=1.0->librosa) (3.0.4)\n",
      "Building wheels for collected packages: audioread, resampy\n",
      "  Building wheel for audioread (setup.py) ... \u001b[?25ldone\n",
      "\u001b[?25h  Created wheel for audioread: filename=audioread-2.1.9-py3-none-any.whl size=23141 sha256=abfb4be32fc2a9cdcaa4df43b7a451538036b7c6ab7524ed69100e8142e71904\n",
      "  Stored in directory: /Users/robbyice/Library/Caches/pip/wheels/49/5a/e4/df590783499a992a88de6c0898991d1167453a3196d0d1eeb7\n",
      "  Building wheel for resampy (setup.py) ... \u001b[?25ldone\n",
      "\u001b[?25h  Created wheel for resampy: filename=resampy-0.2.2-py3-none-any.whl size=320718 sha256=cf86cd9d26ca3398e3644b72d1449850a63c52ed2fe8722b04609c0f71634ac7\n",
      "  Stored in directory: /Users/robbyice/Library/Caches/pip/wheels/6f/d1/5d/f13da53b1dcbc2624ff548456c9ffb526c914f53c12c318bb4\n",
      "Successfully built audioread resampy\n",
      "Installing collected packages: audioread, appdirs, llvmlite, soundfile, pooch, numba, resampy, librosa\n",
      "Successfully installed appdirs-1.4.4 audioread-2.1.9 librosa-0.9.1 llvmlite-0.38.0 numba-0.55.1 pooch-1.6.0 resampy-0.2.2 soundfile-0.10.3.post1\n",
      "\u001b[33mWARNING: You are using pip version 22.0.3; however, version 22.0.4 is available.\n",
      "You should consider upgrading via the '/Library/Frameworks/Python.framework/Versions/3.8/bin/python3.8 -m pip install --upgrade pip' command.\u001b[0m\u001b[33m\n",
      "\u001b[0m"
     ]
    }
   ],
   "source": [
    "!pip install librosa"
   ]
  },
  {
   "cell_type": "code",
   "execution_count": 159,
   "metadata": {},
   "outputs": [
    {
     "name": "stdout",
     "output_type": "stream",
     "text": [
      "Collecting pedalboard\n",
      "  Downloading pedalboard-0.5.3-cp38-cp38-macosx_10_9_x86_64.whl (3.8 MB)\n",
      "\u001b[2K     \u001b[90m━━━━━━━━━━━━━━━━━━━━━━━━━━━━━━━━━━━━━━━━\u001b[0m \u001b[32m3.8/3.8 MB\u001b[0m \u001b[31m890.3 kB/s\u001b[0m eta \u001b[36m0:00:00\u001b[0m00:01\u001b[0m00:01\u001b[0m\n",
      "\u001b[?25hRequirement already satisfied: numpy in /Library/Frameworks/Python.framework/Versions/3.8/lib/python3.8/site-packages (from pedalboard) (1.18.4)\n",
      "Installing collected packages: pedalboard\n",
      "Successfully installed pedalboard-0.5.3\n",
      "\u001b[33mWARNING: You are using pip version 22.0.3; however, version 22.0.4 is available.\n",
      "You should consider upgrading via the '/Library/Frameworks/Python.framework/Versions/3.8/bin/python3.8 -m pip install --upgrade pip' command.\u001b[0m\u001b[33m\n",
      "\u001b[0m"
     ]
    }
   ],
   "source": [
    "!pip install pedalboard"
   ]
  },
  {
   "cell_type": "code",
   "execution_count": 161,
   "metadata": {},
   "outputs": [],
   "source": [
    "from pedalboard import Pedalboard, Chorus, Reverb\n",
    "from pedalboard.io import AudioFile\n",
    "\n",
    "# Read in a whole audio file:\n",
    "with AudioFile('welcometotheparty2.mp3', 'r') as f:\n",
    "    audio = f.read(f.frames)\n",
    "    samplerate = f.samplerate\n",
    "\n",
    "# Make a Pedalboard object, containing multiple plugins:\n",
    "board = Pedalboard([Chorus(), Reverb(room_size=0.25)])\n",
    "\n",
    "# Run the audio through this pedalboard!\n",
    "effected = board(audio, samplerate)\n",
    "\n",
    "# Write the audio back as a wav file:\n",
    "with AudioFile('welcometotheparty3.mp3', 'w', samplerate, effected.shape[0]) as f:\n",
    "    f.write(effected)"
   ]
  },
  {
   "cell_type": "code",
   "execution_count": null,
   "metadata": {},
   "outputs": [
    {
     "name": "stdout",
     "output_type": "stream",
     "text": [
      "13000\n",
      "15010\n",
      "18159\n",
      "18880\n",
      "25484\n",
      "26620\n",
      "27958\n",
      "28870\n",
      "29746\n",
      "30620\n",
      "31441\n",
      "32370\n",
      "33218\n",
      "34100\n"
     ]
    }
   ],
   "source": [
    "import pygame\n",
    "engine = pyttsx3.init()\n",
    "engine2 = pyttsx3.init()\n",
    "engine3 = pyttsx3.init()\n",
    "engine4 = pyttsx3.init()\n",
    "engine5 = pyttsx3.init()\n",
    "pygame.mixer.init()\n",
    "pygame.mixer.music.load('welcometotheparty2.mp3')\n",
    "start_time = time.time()\n",
    "pygame.mixer.music.play()\n",
    "while pygame.mixer.music.get_busy():\n",
    "    if(pygame.mixer.music.get_pos() == 13000):\n",
    "        print(pygame.mixer.music.get_pos())\n",
    "        engine.setProperty(\"rate\", 250)\n",
    "        engine.say(\"Baby welcome to the party\")\n",
    "        engine.runAndWait()\n",
    "    if(pygame.mixer.music.get_pos() == 15010):\n",
    "        print(pygame.mixer.music.get_pos())\n",
    "        engine2.say(\"I'm off the Molly the Xan the lean\")\n",
    "        engine2.runAndWait()\n",
    "        engine3.say(\"That's why I'm movin retarded\")\n",
    "        engine3.runAndWait()\n",
    "        print(pygame.mixer.music.get_pos())\n",
    "    if(pygame.mixer.music.get_pos() == 18880):\n",
    "        print(pygame.mixer.music.get_pos())\n",
    "        engine4.say(\"That's why I'm movin retarded\")\n",
    "        engine4.say(\"Baby welcome to the party, uh\")\n",
    "        engine4.runAndWait()\n",
    "        engine5.say(\"I hit the boy up and then I go skate in a rawree\")\n",
    "        engine5.say(\"Baby welcome to the party!\")\n",
    "        engine5.runAndWait()\n",
    "        print(pygame.mixer.music.get_pos())\n",
    "    if(pygame.mixer.music.get_pos() == 26620):\n",
    "        print(pygame.mixer.music.get_pos())\n",
    "        engine5.say(\"Bitch I'm a thot get me lit\")\n",
    "        engine5.runAndWait()\n",
    "        engine5.stop()\n",
    "        print(pygame.mixer.music.get_pos())\n",
    "    if(pygame.mixer.music.get_pos() == 28870):\n",
    "        print(pygame.mixer.music.get_pos())\n",
    "        engine5.say(\"Gun on my hip\")\n",
    "        engine5.runAndWait()\n",
    "        engine5.stop()\n",
    "        print(pygame.mixer.music.get_pos())\n",
    "    if(pygame.mixer.music.get_pos() == 30620):\n",
    "        print(pygame.mixer.music.get_pos())\n",
    "        engine5.say(\"One in the head\")\n",
    "        engine5.runAndWait()\n",
    "        engine5.stop()\n",
    "        print(pygame.mixer.music.get_pos())\n",
    "    if(pygame.mixer.music.get_pos() == 32370):\n",
    "        print(pygame.mixer.music.get_pos())\n",
    "        engine5.say(\"Ten in the clip\")\n",
    "        engine5.runAndWait()\n",
    "        engine5.stop()\n",
    "        print(pygame.mixer.music.get_pos())\n",
    "    if(pygame.mixer.music.get_pos() == 34100):\n",
    "        print(pygame.mixer.music.get_pos())\n",
    "        engine5.say(\"Baby, baby don't trip\")\n",
    "        engine5.runAndWait()\n",
    "        engine5.stop()\n",
    "        print(pygame.mixer.music.get_pos())\n",
    "    if(pygame.mixer.music.get_pos() == 37140):\n",
    "        print(pygame.mixer.music.get_pos())\n",
    "        engine5.say(\"Just lower your tone\")\n",
    "        engine5.runAndWait()\n",
    "        engine5.stop()\n",
    "        print(pygame.mixer.music.get_pos())\n",
    "    if(pygame.mixer.music.get_pos() == 38890):\n",
    "        print(pygame.mixer.music.get_pos())\n",
    "        engine5.say(\"Cause you could get hit\")\n",
    "        engine5.runAndWait()\n",
    "        engine5.say(\"don't let that henny in my system\")\n",
    "        engine5.runAndWait()\n",
    "        engine5.stop()\n",
    "        print(pygame.mixer.music.get_pos())"
   ]
  },
  {
   "cell_type": "code",
   "execution_count": 73,
   "metadata": {},
   "outputs": [],
   "source": [
    "engine.endLoop()"
   ]
  }
 ],
 "metadata": {
  "kernelspec": {
   "display_name": "Python 3",
   "language": "python",
   "name": "python3"
  },
  "language_info": {
   "codemirror_mode": {
    "name": "ipython",
    "version": 3
   },
   "file_extension": ".py",
   "mimetype": "text/x-python",
   "name": "python",
   "nbconvert_exporter": "python",
   "pygments_lexer": "ipython3",
   "version": "3.8.3"
  }
 },
 "nbformat": 4,
 "nbformat_minor": 4
}
